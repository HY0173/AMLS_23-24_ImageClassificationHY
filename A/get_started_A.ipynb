{
  "cells": [
    {
      "cell_type": "markdown",
      "metadata": {
        "id": "7be5oFaClMJf"
      },
      "source": [
        "## Task A: Binary Classification"
      ]
    },
    {
      "cell_type": "code",
      "source": [
        "from google.colab import drive\n",
        "drive.mount('/content/drive')"
      ],
      "metadata": {
        "colab": {
          "base_uri": "https://localhost:8080/"
        },
        "id": "OS6NioRLlZ1U",
        "outputId": "d28cf15c-7dcd-42db-d643-5d0110c26e92"
      },
      "execution_count": null,
      "outputs": [
        {
          "output_type": "stream",
          "name": "stdout",
          "text": [
            "Mounted at /content/drive\n"
          ]
        }
      ]
    },
    {
      "cell_type": "code",
      "source": [
        "! pip install medmnist"
      ],
      "metadata": {
        "id": "ebD0yt6vlN_w"
      },
      "execution_count": null,
      "outputs": []
    },
    {
      "cell_type": "code",
      "execution_count": null,
      "metadata": {
        "id": "lDtPKvk3lMJh"
      },
      "outputs": [],
      "source": [
        "from tqdm import tqdm\n",
        "import numpy as np\n",
        "import pandas as pd\n",
        "import torch\n",
        "import torch.nn as nn\n",
        "import torch.optim as optim\n",
        "import torch.utils.data as data\n",
        "import torchvision.transforms as transforms\n",
        "import medmnist\n",
        "from medmnist import INFO,PneumoniaMNIST\n",
        "from medmnist.evaluator import Evaluator"
      ]
    },
    {
      "cell_type": "code",
      "execution_count": null,
      "metadata": {
        "colab": {
          "base_uri": "https://localhost:8080/"
        },
        "id": "4u89hIDglMJj",
        "outputId": "f5a319e5-f296-4c3b-b205-0769c0483a2b"
      },
      "outputs": [
        {
          "output_type": "stream",
          "name": "stdout",
          "text": [
            "MedMNIST v2.2.3 @ https://github.com/MedMNIST/MedMNIST/\n"
          ]
        }
      ],
      "source": [
        "print(f\"MedMNIST v{medmnist.__version__} @ {medmnist.HOMEPAGE}\")"
      ]
    },
    {
      "cell_type": "code",
      "execution_count": null,
      "metadata": {
        "colab": {
          "base_uri": "https://localhost:8080/"
        },
        "id": "P4md1KHklMJl",
        "outputId": "f76e3c46-8d0a-4403-c5e9-965e6d67e429"
      },
      "outputs": [
        {
          "output_type": "stream",
          "name": "stdout",
          "text": [
            "Task: binary-class,\n",
            "n_channels: 1,\n",
            "n_classes: 2\n"
          ]
        }
      ],
      "source": [
        "data_flag = 'pneumoniamnist'\n",
        "\n",
        "info = INFO[data_flag]\n",
        "task = info['task']\n",
        "n_channels = info['n_channels']\n",
        "n_classes = len(info['label'])\n",
        "print(\"Task: {},\\nn_channels: {},\\nn_classes: {}\".format(task,n_channels,n_classes))"
      ]
    },
    {
      "cell_type": "markdown",
      "metadata": {
        "id": "EgyzLEtflMJm"
      },
      "source": [
        "#### 1. Data Analysis and Visualization"
      ]
    },
    {
      "cell_type": "code",
      "execution_count": null,
      "metadata": {
        "id": "A-vVbW3olMJn"
      },
      "outputs": [],
      "source": [
        "def view_data(split):\n",
        "    l = []\n",
        "    data = PneumoniaMNIST(split=split, root='/content/drive/MyDrive/Datasets/')\n",
        "    print(\"-----------------------{}-----------------------\".format(split))\n",
        "    print(data)\n",
        "    label = pd.DataFrame(data.labels,columns=['label'])\n",
        "    count = label.value_counts()\n",
        "    for i in range(2):\n",
        "        l.append(count[i])\n",
        "    return l"
      ]
    },
    {
      "cell_type": "code",
      "execution_count": null,
      "metadata": {
        "id": "8BxbBwvFlMJp",
        "colab": {
          "base_uri": "https://localhost:8080/"
        },
        "outputId": "07b36420-41f1-4c25-f862-112086af599f"
      },
      "outputs": [
        {
          "output_type": "stream",
          "name": "stdout",
          "text": [
            "-----------------------train-----------------------\n",
            "Dataset PneumoniaMNIST (pneumoniamnist)\n",
            "    Number of datapoints: 4708\n",
            "    Root location: /content/drive/MyDrive/Datasets/\n",
            "    Split: train\n",
            "    Task: binary-class\n",
            "    Number of channels: 1\n",
            "    Meaning of labels: {'0': 'normal', '1': 'pneumonia'}\n",
            "    Number of samples: {'train': 4708, 'val': 524, 'test': 624}\n",
            "    Description: The PneumoniaMNIST is based on a prior dataset of 5,856 pediatric chest X-Ray images. The task is binary-class classification of pneumonia against normal. We split the source training set with a ratio of 9:1 into training and validation set and use its source validation set as the test set. The source images are gray-scale, and their sizes are (384−2,916)×(127−2,713). We center-crop the images and resize them into 1×28×28.\n",
            "    License: CC BY 4.0\n",
            "-----------------------val-----------------------\n",
            "Dataset PneumoniaMNIST (pneumoniamnist)\n",
            "    Number of datapoints: 524\n",
            "    Root location: /content/drive/MyDrive/Datasets/\n",
            "    Split: val\n",
            "    Task: binary-class\n",
            "    Number of channels: 1\n",
            "    Meaning of labels: {'0': 'normal', '1': 'pneumonia'}\n",
            "    Number of samples: {'train': 4708, 'val': 524, 'test': 624}\n",
            "    Description: The PneumoniaMNIST is based on a prior dataset of 5,856 pediatric chest X-Ray images. The task is binary-class classification of pneumonia against normal. We split the source training set with a ratio of 9:1 into training and validation set and use its source validation set as the test set. The source images are gray-scale, and their sizes are (384−2,916)×(127−2,713). We center-crop the images and resize them into 1×28×28.\n",
            "    License: CC BY 4.0\n",
            "-----------------------test-----------------------\n",
            "Dataset PneumoniaMNIST (pneumoniamnist)\n",
            "    Number of datapoints: 624\n",
            "    Root location: /content/drive/MyDrive/Datasets/\n",
            "    Split: test\n",
            "    Task: binary-class\n",
            "    Number of channels: 1\n",
            "    Meaning of labels: {'0': 'normal', '1': 'pneumonia'}\n",
            "    Number of samples: {'train': 4708, 'val': 524, 'test': 624}\n",
            "    Description: The PneumoniaMNIST is based on a prior dataset of 5,856 pediatric chest X-Ray images. The task is binary-class classification of pneumonia against normal. We split the source training set with a ratio of 9:1 into training and validation set and use its source validation set as the test set. The source images are gray-scale, and their sizes are (384−2,916)×(127−2,713). We center-crop the images and resize them into 1×28×28.\n",
            "    License: CC BY 4.0\n"
          ]
        }
      ],
      "source": [
        "l_train,l_val,l_test = view_data('train'), view_data('val'), view_data('test')"
      ]
    },
    {
      "cell_type": "code",
      "execution_count": null,
      "metadata": {
        "colab": {
          "base_uri": "https://localhost:8080/",
          "height": 472
        },
        "id": "OMUYId6UlMJp",
        "outputId": "4eceecdc-a85b-4f7f-8cf3-ff861c0761ad"
      },
      "outputs": [
        {
          "output_type": "display_data",
          "data": {
            "text/plain": [
              "<Figure size 640x480 with 1 Axes>"
            ],
            "image/png": "[encoded data removed]"
          },
          "metadata": {}
        }
      ],
      "source": [
        "import matplotlib.pyplot as plt\n",
        "\n",
        "bar_width = 0.3\n",
        "index_train = np.arange(2)\n",
        "index_val,index_test = index_train+bar_width,index_train+2*bar_width\n",
        "plt.bar(index_train,l_train,width=bar_width,label='Train')\n",
        "plt.bar(index_val,l_val,width=bar_width,label='Val')\n",
        "plt.bar(index_test,l_test,width=bar_width,label='Test')\n",
        "plt.title(\"Distribution of Dataset\")\n",
        "plt.legend()\n",
        "plt.xticks(index_val, ['normal','pneumonia'])\n",
        "plt.xlabel('Labels')\n",
        "plt.ylabel('Number')\n",
        "plt.show()"
      ]
    },
    {
      "cell_type": "markdown",
      "metadata": {
        "id": "Uc5zt5WKlMJq"
      },
      "source": [
        "##### IR = pneumonia/normal = 3494/1214 = 2.8780 > 1.5 ==> imbalanced"
      ]
    },
    {
      "cell_type": "markdown",
      "metadata": {
        "id": "TNFjQNuilMJr"
      },
      "source": [
        "#### 2. Preprocessing and Augmentation\n",
        "* Horizon Flipping\n",
        "* Zoom Range\n",
        "* Random Rotation"
      ]
    },
    {
      "cell_type": "code",
      "execution_count": null,
      "metadata": {
        "id": "y2pbcdjalMJs"
      },
      "outputs": [],
      "source": [
        "# preprocessing\n",
        "data_transform1 = transforms.Compose([\n",
        "    # transforms.Resize(224),\n",
        "    transforms.RandomHorizontalFlip(p=0.5),\n",
        "    transforms.RandomRotation(degrees=(-20,20)),\n",
        "    transforms.Grayscale(num_output_channels=3),\n",
        "    transforms.ToTensor(),\n",
        "    transforms.Normalize(mean=[.5], std=[.5])\n",
        "])\n",
        "data_transform2 = transforms.Compose([\n",
        "    transforms.ToTensor(),\n",
        "    transforms.Normalize(mean=[.5], std=[.5])\n",
        "])\n",
        "data_transform3 = transforms.Compose([\n",
        "    # transforms.Resize(224),\n",
        "    transforms.CenterCrop(20),\n",
        "    transforms.Resize(28),\n",
        "    transforms.ToTensor(),\n",
        "    transforms.Normalize(mean=[.5], std=[.5])\n",
        "])"
      ]
    },
    {
      "cell_type": "code",
      "source": [
        "root = '/content/drive/MyDrive/Datasets/'\n",
        "train_dataset1,train_dataset2,train_dataset3 = PneumoniaMNIST(split='train', transform=data_transform1, root=root),PneumoniaMNIST(split='train', transform=data_transform2, root=root),PneumoniaMNIST(split='train', transform=data_transform3, root=root)\n",
        "val_dataset1,val_dataset2,val_dataset3 = PneumoniaMNIST(split='val', transform=data_transform1, root=root),PneumoniaMNIST(split='val', transform=data_transform2, root=root),PneumoniaMNIST(split='val', transform=data_transform3, root=root)\n",
        "test_dataset1,test_dataset2,test_dataset3 = PneumoniaMNIST(split='test', transform=data_transform1, root=root),PneumoniaMNIST(split='test', transform=data_transform2, root=root),PneumoniaMNIST(split='test', transform=data_transform3, root=root)"
      ],
      "metadata": {
        "id": "yeZ5q8Cej64h"
      },
      "execution_count": null,
      "outputs": []
    },
    {
      "cell_type": "code",
      "source": [
        "train_dataset1[0][0].shape"
      ],
      "metadata": {
        "colab": {
          "base_uri": "https://localhost:8080/"
        },
        "id": "rhyQFAATksqj",
        "outputId": "5b9c02de-e6fd-404a-8bfc-f567442c3f84"
      },
      "execution_count": null,
      "outputs": [
        {
          "output_type": "execute_result",
          "data": {
            "text/plain": [
              "torch.Size([3, 28, 28])"
            ]
          },
          "metadata": {},
          "execution_count": 11
        }
      ]
    },
    {
      "cell_type": "code",
      "source": [
        "train_dataset1.montage(5)"
      ],
      "metadata": {
        "colab": {
          "base_uri": "https://localhost:8080/",
          "height": 212
        },
        "id": "psVOKBdRoTBL",
        "outputId": "86207676-d53d-4df6-9bc5-9c7eb38a2403"
      },
      "execution_count": null,
      "outputs": [
        {
          "output_type": "stream",
          "name": "stderr",
          "text": [
            "/usr/local/lib/python3.10/dist-packages/medmnist/utils.py:31: FutureWarning: `multichannel` is a deprecated argument name for `montage`. It will be removed in version 1.0. Please use `channel_axis` instead.\n",
            "  montage_arr = skimage_montage(sel_img, multichannel=(n_channels == 3))\n"
          ]
        },
        {
          "output_type": "execute_result",
          "data": {
            "text/plain": [
              "<PIL.Image.Image image mode=L size=140x140>"
            ],
            "image/png": "[encoded data removed]"
          },
          "metadata": {},
          "execution_count": 12
        }
      ]
    },
    {
      "cell_type": "code",
      "execution_count": null,
      "metadata": {
        "id": "8aAUY11ElMJs"
      },
      "outputs": [],
      "source": [
        "root = '/content/drive/MyDrive/Datasets/'\n",
        "train_dataset = PneumoniaMNIST(split='train', transform=data_transform, root=root)\n",
        "val_dataset = PneumoniaMNIST(split='val', transform=data_transform, root=root)\n",
        "test_dataset = PneumoniaMNIST(split='test', transform=data_transform, root=root)"
      ]
    },
    {
      "cell_type": "code",
      "execution_count": null,
      "metadata": {
        "colab": {
          "base_uri": "https://localhost:8080/"
        },
        "id": "hV14EzRzlMJt",
        "outputId": "d94252ba-25c2-46f7-a3d3-335c6c527ad9"
      },
      "outputs": [
        {
          "output_type": "execute_result",
          "data": {
            "text/plain": [
              "torch.Size([1, 28, 28])"
            ]
          },
          "metadata": {},
          "execution_count": 11
        }
      ],
      "source": [
        "train_dataset[0][0].shape"
      ]
    },
    {
      "cell_type": "markdown",
      "metadata": {
        "id": "vy4Hzm3NlMJu"
      },
      "source": [
        "#### 3. Model -- Feature extractors and a classifier\n",
        "* An ensemble of [conv_layer + maxpooling], but dataset is insufficient\n",
        "* Transfer Learning Method, using pretrained model like Imagenet, Xception（最低维度:71）"
      ]
    },
    {
      "cell_type": "code",
      "source": [
        "\n",
        "# Freeze params of lower layers\n",
        "class Transfer_resnet(nn.Module):\n",
        "    def __init__(self, pretrained, in_channels, num_classes):\n",
        "        super(Transfer_resnet, self).__init__()\n",
        "\n",
        "        # Use a pretrained model\n",
        "        self.resnet = pretrained\n",
        "        for param in self.resnet.parameters():\n",
        "          param.requires_grad = False\n",
        "\n",
        "        # Replace model classifier\n",
        "        self.resnet.fc = nn.Sequential(nn.Linear(2048, 256),\n",
        "                                       nn.ReLU(),\n",
        "                                       nn.Linear(256, num_classes))\n",
        "\n",
        "    def forward(self, x):\n",
        "        x = self.resnet(x)\n",
        "        return x\n",
        "\n",
        "# Fine-tune Resnet50\n",
        "class Pneumonia_resnet(nn.Module):\n",
        "    def __init__(self, pretrained, in_channels, num_classes):\n",
        "        super(Pneumonia_resnet, self).__init__()\n",
        "\n",
        "        # Use a pretrained model\n",
        "        self.resnet = pretrained\n",
        "\n",
        "        # Replace model classifier\n",
        "        self.resnet.fc = nn.Sequential(nn.Linear(2048, 256),\n",
        "                                       nn.ReLU(),\n",
        "                                       nn.Linear(256, num_classes))\n",
        "        # self.resnet.fc = nn.Linear(2048, num_classes)\n",
        "\n",
        "\n",
        "    def forward(self, x):\n",
        "        logits = self.resnet(x)\n",
        "        return logits"
      ],
      "metadata": {
        "id": "w1lMmrSBdQ4I"
      },
      "execution_count": 32,
      "outputs": []
    },
    {
      "cell_type": "code",
      "execution_count": null,
      "metadata": {
        "id": "k5JtkE-blMJu"
      },
      "outputs": [],
      "source": [
        "# Load models defined in Model_A\n",
        "from drive.MyDrive.A.Model_A import Pneumonia,Transfer_resnet,Pneumonia_resnet"
      ]
    },
    {
      "cell_type": "code",
      "execution_count": null,
      "metadata": {
        "id": "vzPDilbVlMJv"
      },
      "outputs": [],
      "source": [
        "# define a simple CNN model\n",
        "\n",
        "model_0 = Pneumonia(in_channels=n_channels, num_classes=n_classes)\n",
        "model_0"
      ]
    },
    {
      "cell_type": "code",
      "execution_count": 33,
      "metadata": {
        "id": "CtrZv6salMJv",
        "colab": {
          "base_uri": "https://localhost:8080/"
        },
        "outputId": "b9dfee6f-ce55-4988-a1e1-b454f29b3569"
      },
      "outputs": [
        {
          "output_type": "execute_result",
          "data": {
            "text/plain": [
              "Pneumonia_resnet(\n",
              "  (resnet): ResNet(\n",
              "    (conv1): Conv2d(3, 64, kernel_size=(7, 7), stride=(2, 2), padding=(3, 3), bias=False)\n",
              "    (bn1): BatchNorm2d(64, eps=1e-05, momentum=0.1, affine=True, track_running_stats=True)\n",
              "    (relu): ReLU(inplace=True)\n",
              "    (maxpool): MaxPool2d(kernel_size=3, stride=2, padding=1, dilation=1, ceil_mode=False)\n",
              "    (layer1): Sequential(\n",
              "      (0): Bottleneck(\n",
              "        (conv1): Conv2d(64, 64, kernel_size=(1, 1), stride=(1, 1), bias=False)\n",
              "        (bn1): BatchNorm2d(64, eps=1e-05, momentum=0.1, affine=True, track_running_stats=True)\n",
              "        (conv2): Conv2d(64, 64, kernel_size=(3, 3), stride=(1, 1), padding=(1, 1), bias=False)\n",
              "        (bn2): BatchNorm2d(64, eps=1e-05, momentum=0.1, affine=True, track_running_stats=True)\n",
              "        (conv3): Conv2d(64, 256, kernel_size=(1, 1), stride=(1, 1), bias=False)\n",
              "        (bn3): BatchNorm2d(256, eps=1e-05, momentum=0.1, affine=True, track_running_stats=True)\n",
              "        (relu): ReLU(inplace=True)\n",
              "        (downsample): Sequential(\n",
              "          (0): Conv2d(64, 256, kernel_size=(1, 1), stride=(1, 1), bias=False)\n",
              "          (1): BatchNorm2d(256, eps=1e-05, momentum=0.1, affine=True, track_running_stats=True)\n",
              "        )\n",
              "      )\n",
              "      (1): Bottleneck(\n",
              "        (conv1): Conv2d(256, 64, kernel_size=(1, 1), stride=(1, 1), bias=False)\n",
              "        (bn1): BatchNorm2d(64, eps=1e-05, momentum=0.1, affine=True, track_running_stats=True)\n",
              "        (conv2): Conv2d(64, 64, kernel_size=(3, 3), stride=(1, 1), padding=(1, 1), bias=False)\n",
              "        (bn2): BatchNorm2d(64, eps=1e-05, momentum=0.1, affine=True, track_running_stats=True)\n",
              "        (conv3): Conv2d(64, 256, kernel_size=(1, 1), stride=(1, 1), bias=False)\n",
              "        (bn3): BatchNorm2d(256, eps=1e-05, momentum=0.1, affine=True, track_running_stats=True)\n",
              "        (relu): ReLU(inplace=True)\n",
              "      )\n",
              "      (2): Bottleneck(\n",
              "        (conv1): Conv2d(256, 64, kernel_size=(1, 1), stride=(1, 1), bias=False)\n",
              "        (bn1): BatchNorm2d(64, eps=1e-05, momentum=0.1, affine=True, track_running_stats=True)\n",
              "        (conv2): Conv2d(64, 64, kernel_size=(3, 3), stride=(1, 1), padding=(1, 1), bias=False)\n",
              "        (bn2): BatchNorm2d(64, eps=1e-05, momentum=0.1, affine=True, track_running_stats=True)\n",
              "        (conv3): Conv2d(64, 256, kernel_size=(1, 1), stride=(1, 1), bias=False)\n",
              "        (bn3): BatchNorm2d(256, eps=1e-05, momentum=0.1, affine=True, track_running_stats=True)\n",
              "        (relu): ReLU(inplace=True)\n",
              "      )\n",
              "    )\n",
              "    (layer2): Sequential(\n",
              "      (0): Bottleneck(\n",
              "        (conv1): Conv2d(256, 128, kernel_size=(1, 1), stride=(1, 1), bias=False)\n",
              "        (bn1): BatchNorm2d(128, eps=1e-05, momentum=0.1, affine=True, track_running_stats=True)\n",
              "        (conv2): Conv2d(128, 128, kernel_size=(3, 3), stride=(2, 2), padding=(1, 1), bias=False)\n",
              "        (bn2): BatchNorm2d(128, eps=1e-05, momentum=0.1, affine=True, track_running_stats=True)\n",
              "        (conv3): Conv2d(128, 512, kernel_size=(1, 1), stride=(1, 1), bias=False)\n",
              "        (bn3): BatchNorm2d(512, eps=1e-05, momentum=0.1, affine=True, track_running_stats=True)\n",
              "        (relu): ReLU(inplace=True)\n",
              "        (downsample): Sequential(\n",
              "          (0): Conv2d(256, 512, kernel_size=(1, 1), stride=(2, 2), bias=False)\n",
              "          (1): BatchNorm2d(512, eps=1e-05, momentum=0.1, affine=True, track_running_stats=True)\n",
              "        )\n",
              "      )\n",
              "      (1): Bottleneck(\n",
              "        (conv1): Conv2d(512, 128, kernel_size=(1, 1), stride=(1, 1), bias=False)\n",
              "        (bn1): BatchNorm2d(128, eps=1e-05, momentum=0.1, affine=True, track_running_stats=True)\n",
              "        (conv2): Conv2d(128, 128, kernel_size=(3, 3), stride=(1, 1), padding=(1, 1), bias=False)\n",
              "        (bn2): BatchNorm2d(128, eps=1e-05, momentum=0.1, affine=True, track_running_stats=True)\n",
              "        (conv3): Conv2d(128, 512, kernel_size=(1, 1), stride=(1, 1), bias=False)\n",
              "        (bn3): BatchNorm2d(512, eps=1e-05, momentum=0.1, affine=True, track_running_stats=True)\n",
              "        (relu): ReLU(inplace=True)\n",
              "      )\n",
              "      (2): Bottleneck(\n",
              "        (conv1): Conv2d(512, 128, kernel_size=(1, 1), stride=(1, 1), bias=False)\n",
              "        (bn1): BatchNorm2d(128, eps=1e-05, momentum=0.1, affine=True, track_running_stats=True)\n",
              "        (conv2): Conv2d(128, 128, kernel_size=(3, 3), stride=(1, 1), padding=(1, 1), bias=False)\n",
              "        (bn2): BatchNorm2d(128, eps=1e-05, momentum=0.1, affine=True, track_running_stats=True)\n",
              "        (conv3): Conv2d(128, 512, kernel_size=(1, 1), stride=(1, 1), bias=False)\n",
              "        (bn3): BatchNorm2d(512, eps=1e-05, momentum=0.1, affine=True, track_running_stats=True)\n",
              "        (relu): ReLU(inplace=True)\n",
              "      )\n",
              "      (3): Bottleneck(\n",
              "        (conv1): Conv2d(512, 128, kernel_size=(1, 1), stride=(1, 1), bias=False)\n",
              "        (bn1): BatchNorm2d(128, eps=1e-05, momentum=0.1, affine=True, track_running_stats=True)\n",
              "        (conv2): Conv2d(128, 128, kernel_size=(3, 3), stride=(1, 1), padding=(1, 1), bias=False)\n",
              "        (bn2): BatchNorm2d(128, eps=1e-05, momentum=0.1, affine=True, track_running_stats=True)\n",
              "        (conv3): Conv2d(128, 512, kernel_size=(1, 1), stride=(1, 1), bias=False)\n",
              "        (bn3): BatchNorm2d(512, eps=1e-05, momentum=0.1, affine=True, track_running_stats=True)\n",
              "        (relu): ReLU(inplace=True)\n",
              "      )\n",
              "    )\n",
              "    (layer3): Sequential(\n",
              "      (0): Bottleneck(\n",
              "        (conv1): Conv2d(512, 256, kernel_size=(1, 1), stride=(1, 1), bias=False)\n",
              "        (bn1): BatchNorm2d(256, eps=1e-05, momentum=0.1, affine=True, track_running_stats=True)\n",
              "        (conv2): Conv2d(256, 256, kernel_size=(3, 3), stride=(2, 2), padding=(1, 1), bias=False)\n",
              "        (bn2): BatchNorm2d(256, eps=1e-05, momentum=0.1, affine=True, track_running_stats=True)\n",
              "        (conv3): Conv2d(256, 1024, kernel_size=(1, 1), stride=(1, 1), bias=False)\n",
              "        (bn3): BatchNorm2d(1024, eps=1e-05, momentum=0.1, affine=True, track_running_stats=True)\n",
              "        (relu): ReLU(inplace=True)\n",
              "        (downsample): Sequential(\n",
              "          (0): Conv2d(512, 1024, kernel_size=(1, 1), stride=(2, 2), bias=False)\n",
              "          (1): BatchNorm2d(1024, eps=1e-05, momentum=0.1, affine=True, track_running_stats=True)\n",
              "        )\n",
              "      )\n",
              "      (1): Bottleneck(\n",
              "        (conv1): Conv2d(1024, 256, kernel_size=(1, 1), stride=(1, 1), bias=False)\n",
              "        (bn1): BatchNorm2d(256, eps=1e-05, momentum=0.1, affine=True, track_running_stats=True)\n",
              "        (conv2): Conv2d(256, 256, kernel_size=(3, 3), stride=(1, 1), padding=(1, 1), bias=False)\n",
              "        (bn2): BatchNorm2d(256, eps=1e-05, momentum=0.1, affine=True, track_running_stats=True)\n",
              "        (conv3): Conv2d(256, 1024, kernel_size=(1, 1), stride=(1, 1), bias=False)\n",
              "        (bn3): BatchNorm2d(1024, eps=1e-05, momentum=0.1, affine=True, track_running_stats=True)\n",
              "        (relu): ReLU(inplace=True)\n",
              "      )\n",
              "      (2): Bottleneck(\n",
              "        (conv1): Conv2d(1024, 256, kernel_size=(1, 1), stride=(1, 1), bias=False)\n",
              "        (bn1): BatchNorm2d(256, eps=1e-05, momentum=0.1, affine=True, track_running_stats=True)\n",
              "        (conv2): Conv2d(256, 256, kernel_size=(3, 3), stride=(1, 1), padding=(1, 1), bias=False)\n",
              "        (bn2): BatchNorm2d(256, eps=1e-05, momentum=0.1, affine=True, track_running_stats=True)\n",
              "        (conv3): Conv2d(256, 1024, kernel_size=(1, 1), stride=(1, 1), bias=False)\n",
              "        (bn3): BatchNorm2d(1024, eps=1e-05, momentum=0.1, affine=True, track_running_stats=True)\n",
              "        (relu): ReLU(inplace=True)\n",
              "      )\n",
              "      (3): Bottleneck(\n",
              "        (conv1): Conv2d(1024, 256, kernel_size=(1, 1), stride=(1, 1), bias=False)\n",
              "        (bn1): BatchNorm2d(256, eps=1e-05, momentum=0.1, affine=True, track_running_stats=True)\n",
              "        (conv2): Conv2d(256, 256, kernel_size=(3, 3), stride=(1, 1), padding=(1, 1), bias=False)\n",
              "        (bn2): BatchNorm2d(256, eps=1e-05, momentum=0.1, affine=True, track_running_stats=True)\n",
              "        (conv3): Conv2d(256, 1024, kernel_size=(1, 1), stride=(1, 1), bias=False)\n",
              "        (bn3): BatchNorm2d(1024, eps=1e-05, momentum=0.1, affine=True, track_running_stats=True)\n",
              "        (relu): ReLU(inplace=True)\n",
              "      )\n",
              "      (4): Bottleneck(\n",
              "        (conv1): Conv2d(1024, 256, kernel_size=(1, 1), stride=(1, 1), bias=False)\n",
              "        (bn1): BatchNorm2d(256, eps=1e-05, momentum=0.1, affine=True, track_running_stats=True)\n",
              "        (conv2): Conv2d(256, 256, kernel_size=(3, 3), stride=(1, 1), padding=(1, 1), bias=False)\n",
              "        (bn2): BatchNorm2d(256, eps=1e-05, momentum=0.1, affine=True, track_running_stats=True)\n",
              "        (conv3): Conv2d(256, 1024, kernel_size=(1, 1), stride=(1, 1), bias=False)\n",
              "        (bn3): BatchNorm2d(1024, eps=1e-05, momentum=0.1, affine=True, track_running_stats=True)\n",
              "        (relu): ReLU(inplace=True)\n",
              "      )\n",
              "      (5): Bottleneck(\n",
              "        (conv1): Conv2d(1024, 256, kernel_size=(1, 1), stride=(1, 1), bias=False)\n",
              "        (bn1): BatchNorm2d(256, eps=1e-05, momentum=0.1, affine=True, track_running_stats=True)\n",
              "        (conv2): Conv2d(256, 256, kernel_size=(3, 3), stride=(1, 1), padding=(1, 1), bias=False)\n",
              "        (bn2): BatchNorm2d(256, eps=1e-05, momentum=0.1, affine=True, track_running_stats=True)\n",
              "        (conv3): Conv2d(256, 1024, kernel_size=(1, 1), stride=(1, 1), bias=False)\n",
              "        (bn3): BatchNorm2d(1024, eps=1e-05, momentum=0.1, affine=True, track_running_stats=True)\n",
              "        (relu): ReLU(inplace=True)\n",
              "      )\n",
              "    )\n",
              "    (layer4): Sequential(\n",
              "      (0): Bottleneck(\n",
              "        (conv1): Conv2d(1024, 512, kernel_size=(1, 1), stride=(1, 1), bias=False)\n",
              "        (bn1): BatchNorm2d(512, eps=1e-05, momentum=0.1, affine=True, track_running_stats=True)\n",
              "        (conv2): Conv2d(512, 512, kernel_size=(3, 3), stride=(2, 2), padding=(1, 1), bias=False)\n",
              "        (bn2): BatchNorm2d(512, eps=1e-05, momentum=0.1, affine=True, track_running_stats=True)\n",
              "        (conv3): Conv2d(512, 2048, kernel_size=(1, 1), stride=(1, 1), bias=False)\n",
              "        (bn3): BatchNorm2d(2048, eps=1e-05, momentum=0.1, affine=True, track_running_stats=True)\n",
              "        (relu): ReLU(inplace=True)\n",
              "        (downsample): Sequential(\n",
              "          (0): Conv2d(1024, 2048, kernel_size=(1, 1), stride=(2, 2), bias=False)\n",
              "          (1): BatchNorm2d(2048, eps=1e-05, momentum=0.1, affine=True, track_running_stats=True)\n",
              "        )\n",
              "      )\n",
              "      (1): Bottleneck(\n",
              "        (conv1): Conv2d(2048, 512, kernel_size=(1, 1), stride=(1, 1), bias=False)\n",
              "        (bn1): BatchNorm2d(512, eps=1e-05, momentum=0.1, affine=True, track_running_stats=True)\n",
              "        (conv2): Conv2d(512, 512, kernel_size=(3, 3), stride=(1, 1), padding=(1, 1), bias=False)\n",
              "        (bn2): BatchNorm2d(512, eps=1e-05, momentum=0.1, affine=True, track_running_stats=True)\n",
              "        (conv3): Conv2d(512, 2048, kernel_size=(1, 1), stride=(1, 1), bias=False)\n",
              "        (bn3): BatchNorm2d(2048, eps=1e-05, momentum=0.1, affine=True, track_running_stats=True)\n",
              "        (relu): ReLU(inplace=True)\n",
              "      )\n",
              "      (2): Bottleneck(\n",
              "        (conv1): Conv2d(2048, 512, kernel_size=(1, 1), stride=(1, 1), bias=False)\n",
              "        (bn1): BatchNorm2d(512, eps=1e-05, momentum=0.1, affine=True, track_running_stats=True)\n",
              "        (conv2): Conv2d(512, 512, kernel_size=(3, 3), stride=(1, 1), padding=(1, 1), bias=False)\n",
              "        (bn2): BatchNorm2d(512, eps=1e-05, momentum=0.1, affine=True, track_running_stats=True)\n",
              "        (conv3): Conv2d(512, 2048, kernel_size=(1, 1), stride=(1, 1), bias=False)\n",
              "        (bn3): BatchNorm2d(2048, eps=1e-05, momentum=0.1, affine=True, track_running_stats=True)\n",
              "        (relu): ReLU(inplace=True)\n",
              "      )\n",
              "    )\n",
              "    (avgpool): AdaptiveAvgPool2d(output_size=(1, 1))\n",
              "    (fc): Sequential(\n",
              "      (0): Linear(in_features=2048, out_features=256, bias=True)\n",
              "      (1): ReLU()\n",
              "      (2): Linear(in_features=256, out_features=2, bias=True)\n",
              "    )\n",
              "  )\n",
              ")"
            ]
          },
          "metadata": {},
          "execution_count": 33
        }
      ],
      "source": [
        "# ResNet50\n",
        "from torchvision.models import resnet50\n",
        "\n",
        "pretrained_1 = resnet50(pretrained=True)\n",
        "model_1 = Pneumonia_resnet(pretrained_1,in_channels=n_channels,num_classes=n_classes)\n",
        "#model_2 = Transfer_resnet(pretrained_1,in_channels=n_channels,num_classes=n_classes)\n",
        "model_1\n"
      ]
    },
    {
      "cell_type": "markdown",
      "metadata": {
        "id": "qBh8S0BZlMJw"
      },
      "source": [
        "#### 4. Training and Testing"
      ]
    },
    {
      "cell_type": "code",
      "execution_count": null,
      "metadata": {
        "colab": {
          "base_uri": "https://localhost:8080/"
        },
        "id": "hLy9cNnulMJw",
        "outputId": "1e8dc1ad-6b6f-4587-d1c9-12ee152c91aa"
      },
      "outputs": [
        {
          "output_type": "execute_result",
          "data": {
            "text/plain": [
              "device(type='cuda', index=0)"
            ]
          },
          "metadata": {},
          "execution_count": 15
        }
      ],
      "source": [
        "device = torch.device('cuda:0' if torch.cuda.is_available() else 'cpu')\n",
        "device"
      ]
    },
    {
      "cell_type": "code",
      "source": [
        "SEED = 1234\n",
        "\n",
        "np.random.seed(SEED)\n",
        "torch.manual_seed(SEED)\n",
        "torch.cuda.manual_seed(SEED)"
      ],
      "metadata": {
        "id": "sNtPd38VxbrL"
      },
      "execution_count": null,
      "outputs": []
    },
    {
      "cell_type": "code",
      "execution_count": null,
      "metadata": {
        "id": "IIOmFQd_lMJw"
      },
      "outputs": [],
      "source": [
        "BATCH_SIZE = 64\n",
        "NUM_EPOCHS = 15\n",
        "lr = 0.0001\n",
        "\n",
        "train_loader = data.DataLoader(dataset=train_dataset1, batch_size=BATCH_SIZE, shuffle=True)\n",
        "train_loader_at_eval = data.DataLoader(dataset=val_dataset1, batch_size=BATCH_SIZE, shuffle=False)\n",
        "test_loader = data.DataLoader(dataset=test_dataset1, batch_size=BATCH_SIZE, shuffle=False)"
      ]
    },
    {
      "cell_type": "code",
      "source": [
        "# Train\n",
        "def Train_A(model,train_loader,val_loader,test_loader,NUM_EPOCHS,criterion,optimizer,device):\n",
        "    model = model.to(device)\n",
        "    PlotTrainLoss=[]\n",
        "    PlotValLoss=[]\n",
        "    BATCH_SIZE = len(train_loader)\n",
        "\n",
        "    # For each epoch\n",
        "    for epoch in range(NUM_EPOCHS):\n",
        "        avg_loss = 0\n",
        "        train_correct = 0\n",
        "        all_count = 0\n",
        "\n",
        "        # Train mode  -->  forward + backward + optimize\n",
        "        print(\"-----------------------Epoch{}-----------------------\".format(epoch+1))\n",
        "        model.train()\n",
        "        for inputs, targets in tqdm(train_loader):\n",
        "            # Data to device\n",
        "            inputs = inputs.to(device)\n",
        "            targets = targets.to(device)\n",
        "\n",
        "            # Set parameter gradients to zero\n",
        "            optimizer.zero_grad()\n",
        "\n",
        "            # Forward\n",
        "            outputs = model(inputs)\n",
        "            targets = targets.squeeze().long()\n",
        "            # Forward-pass (criterion: loss function, such as CrossEntropyLoss)\n",
        "            loss = criterion(outputs, targets)\n",
        "\n",
        "            # Backward-pass\n",
        "            loss.backward()\n",
        "\n",
        "            # Update weights\n",
        "            optimizer.step()\n",
        "\n",
        "            avg_loss += loss.item()\n",
        "\n",
        "            # Compute ACC of Training_set\n",
        "            outputs = torch.argmax(outputs.softmax(dim=-1),dim=1)\n",
        "            all_count += len(targets)\n",
        "            correct = len(targets)-torch.count_nonzero(outputs-targets)\n",
        "            train_correct += correct\n",
        "\n",
        "        # Compute ACC of Training_set\n",
        "        acc_train = train_correct/all_count\n",
        "        print(\"Training Accuracy: \",acc_train)\n",
        "        # Compute Loss (sum(loss)/batch_size)\n",
        "        avg_loss = avg_loss/BATCH_SIZE\n",
        "        # Test on validation_set\n",
        "        avg_loss_val = test_A(model,device,'val',val_loader)\n",
        "\n",
        "        PlotTrainLoss.append(avg_loss)\n",
        "        PlotValLoss.append(avg_loss_val)\n",
        "\n",
        "        test_A(model,device,'test',test_loader)\n",
        "\n",
        "    return PlotTrainLoss,PlotValLoss\n",
        "\n",
        "\n",
        "# Plot\n",
        "def plot_loss(NUM_EPOCHS,PlotTrainLoss,PlotValLoss):\n",
        "    plt.plot(range(1,NUM_EPOCHS+1),PlotTrainLoss,label='TrainLoss')\n",
        "    plt.plot(range(1,NUM_EPOCHS+1), PlotValLoss, label='ValLoss')\n",
        "    plt.title(\"Training and Validation Loss\")\n",
        "    plt.xlabel(\"Epoch\")\n",
        "    plt.legend()\n",
        "    plt.show()"
      ],
      "metadata": {
        "id": "8cDEdIoHoa6p"
      },
      "execution_count": 18,
      "outputs": []
    },
    {
      "cell_type": "code",
      "source": [
        "# Test\n",
        "def test_A(model,device,split,data_loader):\n",
        "    testLoss=0\n",
        "    model.eval()\n",
        "    y_true = torch.tensor([])       # the ground truth labels\n",
        "    y_score = torch.tensor([])      # the predicted score of each class\n",
        "\n",
        "    # To device\n",
        "    y_true = y_true.to(device)\n",
        "    y_score = y_score.to(device)\n",
        "\n",
        "    evaluator = Evaluator('pneumoniamnist', split,root='/content/drive/MyDrive/Datasets/')\n",
        "    if split == 'val':\n",
        "        criterion = nn.CrossEntropyLoss()\n",
        "        with torch.no_grad():\n",
        "            for inputs, targets in data_loader:\n",
        "                inputs = inputs.to(device)\n",
        "                targets = targets.to(device)\n",
        "\n",
        "                outputs = model(inputs)\n",
        "\n",
        "                targets = targets.squeeze().long()\n",
        "                batch_loss = criterion(outputs, targets)\n",
        "                testLoss += batch_loss.item()/len(data_loader)\n",
        "\n",
        "                outputs = outputs.softmax(dim=-1)\n",
        "                targets = targets.float().resize_(len(targets), 1)\n",
        "\n",
        "                y_true = torch.cat((y_true, targets), 0)\n",
        "                y_score = torch.cat((y_score, outputs), 0)\n",
        "\n",
        "            y_true = y_true.cpu().numpy()\n",
        "            y_score = y_score.detach().cpu().numpy()\n",
        "\n",
        "            metrics = evaluator.evaluate(y_score)\n",
        "\n",
        "            print('%s  auc: %.3f  acc:%.3f' % ('val', *metrics))\n",
        "            return testLoss\n",
        "\n",
        "    with torch.no_grad():\n",
        "        for inputs, targets in data_loader:\n",
        "            inputs = inputs.to(device)\n",
        "            targets = targets.to(device)\n",
        "\n",
        "            outputs = model(inputs)\n",
        "\n",
        "            targets = targets.squeeze().long()\n",
        "\n",
        "            outputs = outputs.softmax(dim=-1)\n",
        "            targets = targets.float().resize_(len(targets), 1)\n",
        "\n",
        "            y_true = torch.cat((y_true, targets), 0)\n",
        "            y_score = torch.cat((y_score, outputs), 0)\n",
        "\n",
        "        y_true = y_true.cpu().numpy()\n",
        "        y_score = y_score.detach().cpu().numpy()\n",
        "\n",
        "        metrics = evaluator.evaluate(y_score)\n",
        "\n",
        "        print('%s  auc: %.3f  acc:%.3f' % ('test', *metrics))"
      ],
      "metadata": {
        "id": "VHsSB7AhpTtW"
      },
      "execution_count": 19,
      "outputs": []
    },
    {
      "cell_type": "code",
      "source": [
        "criterion = nn.CrossEntropyLoss()"
      ],
      "metadata": {
        "id": "zq3UirGheh3c"
      },
      "execution_count": 20,
      "outputs": []
    },
    {
      "cell_type": "code",
      "source": [
        "# Fine-tune\n",
        "model1 = model_1\n",
        "optimizer = optim.Adam(model1.parameters(), lr=0.0001)\n",
        "TrainLoss1,ValLoss1 = Train_A(model1,train_loader,train_loader_at_eval,test_loader,15,criterion,optimizer,device)"
      ],
      "metadata": {
        "colab": {
          "base_uri": "https://localhost:8080/"
        },
        "id": "nrZbC7MieQ7z",
        "outputId": "8db81d09-6a05-4ca3-ab34-ad5014bbab24"
      },
      "execution_count": 34,
      "outputs": [
        {
          "output_type": "stream",
          "name": "stdout",
          "text": [
            "-----------------------Epoch1-----------------------\n"
          ]
        },
        {
          "output_type": "stream",
          "name": "stderr",
          "text": [
            "100%|██████████| 74/74 [00:06<00:00, 11.99it/s]\n"
          ]
        },
        {
          "output_type": "stream",
          "name": "stdout",
          "text": [
            "Training Accuracy:  tensor(0.8813, device='cuda:0')\n",
            "val  auc: 0.977  acc:0.933\n",
            "test  auc: 0.925  acc:0.872\n",
            "-----------------------Epoch2-----------------------\n"
          ]
        },
        {
          "output_type": "stream",
          "name": "stderr",
          "text": [
            "100%|██████████| 74/74 [00:05<00:00, 14.31it/s]\n"
          ]
        },
        {
          "output_type": "stream",
          "name": "stdout",
          "text": [
            "Training Accuracy:  tensor(0.9437, device='cuda:0')\n",
            "val  auc: 0.986  acc:0.931\n",
            "test  auc: 0.956  acc:0.875\n",
            "-----------------------Epoch3-----------------------\n"
          ]
        },
        {
          "output_type": "stream",
          "name": "stderr",
          "text": [
            "100%|██████████| 74/74 [00:05<00:00, 14.59it/s]\n"
          ]
        },
        {
          "output_type": "stream",
          "name": "stdout",
          "text": [
            "Training Accuracy:  tensor(0.9503, device='cuda:0')\n",
            "val  auc: 0.987  acc:0.950\n",
            "test  auc: 0.918  acc:0.824\n",
            "-----------------------Epoch4-----------------------\n"
          ]
        },
        {
          "output_type": "stream",
          "name": "stderr",
          "text": [
            "100%|██████████| 74/74 [00:05<00:00, 12.96it/s]\n"
          ]
        },
        {
          "output_type": "stream",
          "name": "stdout",
          "text": [
            "Training Accuracy:  tensor(0.9603, device='cuda:0')\n",
            "val  auc: 0.991  acc:0.958\n",
            "test  auc: 0.953  acc:0.886\n",
            "-----------------------Epoch5-----------------------\n"
          ]
        },
        {
          "output_type": "stream",
          "name": "stderr",
          "text": [
            "100%|██████████| 74/74 [00:05<00:00, 14.67it/s]\n"
          ]
        },
        {
          "output_type": "stream",
          "name": "stdout",
          "text": [
            "Training Accuracy:  tensor(0.9652, device='cuda:0')\n",
            "val  auc: 0.994  acc:0.954\n",
            "test  auc: 0.955  acc:0.885\n",
            "-----------------------Epoch6-----------------------\n"
          ]
        },
        {
          "output_type": "stream",
          "name": "stderr",
          "text": [
            "100%|██████████| 74/74 [00:05<00:00, 12.62it/s]\n"
          ]
        },
        {
          "output_type": "stream",
          "name": "stdout",
          "text": [
            "Training Accuracy:  tensor(0.9692, device='cuda:0')\n",
            "val  auc: 0.995  acc:0.975\n",
            "test  auc: 0.964  acc:0.870\n",
            "-----------------------Epoch7-----------------------\n"
          ]
        },
        {
          "output_type": "stream",
          "name": "stderr",
          "text": [
            "100%|██████████| 74/74 [00:05<00:00, 14.70it/s]\n"
          ]
        },
        {
          "output_type": "stream",
          "name": "stdout",
          "text": [
            "Training Accuracy:  tensor(0.9688, device='cuda:0')\n",
            "val  auc: 0.995  acc:0.962\n",
            "test  auc: 0.966  acc:0.862\n",
            "-----------------------Epoch8-----------------------\n"
          ]
        },
        {
          "output_type": "stream",
          "name": "stderr",
          "text": [
            "100%|██████████| 74/74 [00:05<00:00, 13.61it/s]\n"
          ]
        },
        {
          "output_type": "stream",
          "name": "stdout",
          "text": [
            "Training Accuracy:  tensor(0.9705, device='cuda:0')\n",
            "val  auc: 0.995  acc:0.969\n",
            "test  auc: 0.962  acc:0.857\n",
            "-----------------------Epoch9-----------------------\n"
          ]
        },
        {
          "output_type": "stream",
          "name": "stderr",
          "text": [
            "100%|██████████| 74/74 [00:05<00:00, 13.91it/s]\n"
          ]
        },
        {
          "output_type": "stream",
          "name": "stdout",
          "text": [
            "Training Accuracy:  tensor(0.9745, device='cuda:0')\n",
            "val  auc: 0.994  acc:0.964\n",
            "test  auc: 0.962  acc:0.883\n",
            "-----------------------Epoch10-----------------------\n"
          ]
        },
        {
          "output_type": "stream",
          "name": "stderr",
          "text": [
            "100%|██████████| 74/74 [00:04<00:00, 14.82it/s]\n"
          ]
        },
        {
          "output_type": "stream",
          "name": "stdout",
          "text": [
            "Training Accuracy:  tensor(0.9692, device='cuda:0')\n",
            "val  auc: 0.997  acc:0.973\n",
            "test  auc: 0.949  acc:0.856\n",
            "-----------------------Epoch11-----------------------\n"
          ]
        },
        {
          "output_type": "stream",
          "name": "stderr",
          "text": [
            "100%|██████████| 74/74 [00:05<00:00, 12.71it/s]\n"
          ]
        },
        {
          "output_type": "stream",
          "name": "stdout",
          "text": [
            "Training Accuracy:  tensor(0.9741, device='cuda:0')\n",
            "val  auc: 0.996  acc:0.983\n",
            "test  auc: 0.961  acc:0.837\n",
            "-----------------------Epoch12-----------------------\n"
          ]
        },
        {
          "output_type": "stream",
          "name": "stderr",
          "text": [
            "100%|██████████| 74/74 [00:04<00:00, 14.87it/s]\n"
          ]
        },
        {
          "output_type": "stream",
          "name": "stdout",
          "text": [
            "Training Accuracy:  tensor(0.9754, device='cuda:0')\n",
            "val  auc: 0.994  acc:0.969\n",
            "test  auc: 0.960  acc:0.877\n",
            "-----------------------Epoch13-----------------------\n"
          ]
        },
        {
          "output_type": "stream",
          "name": "stderr",
          "text": [
            "100%|██████████| 74/74 [00:05<00:00, 12.64it/s]\n"
          ]
        },
        {
          "output_type": "stream",
          "name": "stdout",
          "text": [
            "Training Accuracy:  tensor(0.9773, device='cuda:0')\n",
            "val  auc: 0.995  acc:0.960\n",
            "test  auc: 0.957  acc:0.877\n",
            "-----------------------Epoch14-----------------------\n"
          ]
        },
        {
          "output_type": "stream",
          "name": "stderr",
          "text": [
            "100%|██████████| 74/74 [00:05<00:00, 14.64it/s]\n"
          ]
        },
        {
          "output_type": "stream",
          "name": "stdout",
          "text": [
            "Training Accuracy:  tensor(0.9705, device='cuda:0')\n",
            "val  auc: 0.996  acc:0.966\n",
            "test  auc: 0.947  acc:0.891\n",
            "-----------------------Epoch15-----------------------\n"
          ]
        },
        {
          "output_type": "stream",
          "name": "stderr",
          "text": [
            "100%|██████████| 74/74 [00:05<00:00, 13.70it/s]\n"
          ]
        },
        {
          "output_type": "stream",
          "name": "stdout",
          "text": [
            "Training Accuracy:  tensor(0.9796, device='cuda:0')\n",
            "val  auc: 0.996  acc:0.969\n",
            "test  auc: 0.948  acc:0.835\n"
          ]
        }
      ]
    },
    {
      "cell_type": "code",
      "source": [
        "plot_loss(15,TrainLoss1,ValLoss1)"
      ],
      "metadata": {
        "colab": {
          "base_uri": "https://localhost:8080/",
          "height": 472
        },
        "id": "lwsDj2oJfFwA",
        "outputId": "e798c466-c19f-4c6e-b565-86150c381e2f"
      },
      "execution_count": 35,
      "outputs": [
        {
          "output_type": "display_data",
          "data": {
            "text/plain": [
              "<Figure size 640x480 with 1 Axes>"
            ],
            "image/png": "[encoded data removed]"
          },
          "metadata": {}
        }
      ]
    },
    {
      "cell_type": "code",
      "source": [
        "for param in model_2.resnet.fc.parameters():\n",
        "  param.requires_grad = True\n",
        "model2 = model_2\n",
        "optimizer = optim.Adam(model2.resnet.fc.parameters(), lr=0.0001)\n",
        "TrainLoss2,ValLoss2 = Train_A(model2,train_loader,train_loader_at_eval,test_loader,15,criterion,optimizer,device)"
      ],
      "metadata": {
        "colab": {
          "base_uri": "https://localhost:8080/"
        },
        "id": "Jm03g4laq9OW",
        "outputId": "e3ecf3c7-ae4b-47c7-b1d8-8fffc59c499e"
      },
      "execution_count": 26,
      "outputs": [
        {
          "output_type": "stream",
          "name": "stdout",
          "text": [
            "-----------------------Epoch1-----------------------\n"
          ]
        },
        {
          "output_type": "stream",
          "name": "stderr",
          "text": [
            "100%|██████████| 74/74 [00:03<00:00, 18.74it/s]\n"
          ]
        },
        {
          "output_type": "stream",
          "name": "stdout",
          "text": [
            "Training Accuracy:  tensor(0.8579, device='cuda:0')\n",
            "val  auc: 0.913  acc:0.853\n",
            "test  auc: 0.867  acc:0.788\n",
            "-----------------------Epoch2-----------------------\n"
          ]
        },
        {
          "output_type": "stream",
          "name": "stderr",
          "text": [
            "100%|██████████| 74/74 [00:03<00:00, 22.96it/s]\n"
          ]
        },
        {
          "output_type": "stream",
          "name": "stdout",
          "text": [
            "Training Accuracy:  tensor(0.8598, device='cuda:0')\n",
            "val  auc: 0.908  acc:0.859\n",
            "test  auc: 0.859  acc:0.748\n",
            "-----------------------Epoch3-----------------------\n"
          ]
        },
        {
          "output_type": "stream",
          "name": "stderr",
          "text": [
            "100%|██████████| 74/74 [00:03<00:00, 19.05it/s]\n"
          ]
        },
        {
          "output_type": "stream",
          "name": "stdout",
          "text": [
            "Training Accuracy:  tensor(0.8647, device='cuda:0')\n",
            "val  auc: 0.905  acc:0.851\n",
            "test  auc: 0.863  acc:0.788\n",
            "-----------------------Epoch4-----------------------\n"
          ]
        },
        {
          "output_type": "stream",
          "name": "stderr",
          "text": [
            "100%|██████████| 74/74 [00:03<00:00, 21.73it/s]\n"
          ]
        },
        {
          "output_type": "stream",
          "name": "stdout",
          "text": [
            "Training Accuracy:  tensor(0.8636, device='cuda:0')\n",
            "val  auc: 0.921  acc:0.878\n",
            "test  auc: 0.867  acc:0.777\n",
            "-----------------------Epoch5-----------------------\n"
          ]
        },
        {
          "output_type": "stream",
          "name": "stderr",
          "text": [
            "100%|██████████| 74/74 [00:03<00:00, 23.43it/s]\n"
          ]
        },
        {
          "output_type": "stream",
          "name": "stdout",
          "text": [
            "Training Accuracy:  tensor(0.8630, device='cuda:0')\n",
            "val  auc: 0.933  acc:0.868\n",
            "test  auc: 0.856  acc:0.758\n",
            "-----------------------Epoch6-----------------------\n"
          ]
        },
        {
          "output_type": "stream",
          "name": "stderr",
          "text": [
            "100%|██████████| 74/74 [00:03<00:00, 21.12it/s]\n"
          ]
        },
        {
          "output_type": "stream",
          "name": "stdout",
          "text": [
            "Training Accuracy:  tensor(0.8649, device='cuda:0')\n",
            "val  auc: 0.911  acc:0.868\n",
            "test  auc: 0.858  acc:0.782\n",
            "-----------------------Epoch7-----------------------\n"
          ]
        },
        {
          "output_type": "stream",
          "name": "stderr",
          "text": [
            "100%|██████████| 74/74 [00:03<00:00, 19.50it/s]\n"
          ]
        },
        {
          "output_type": "stream",
          "name": "stdout",
          "text": [
            "Training Accuracy:  tensor(0.8632, device='cuda:0')\n",
            "val  auc: 0.912  acc:0.851\n",
            "test  auc: 0.851  acc:0.745\n",
            "-----------------------Epoch8-----------------------\n"
          ]
        },
        {
          "output_type": "stream",
          "name": "stderr",
          "text": [
            "100%|██████████| 74/74 [00:03<00:00, 23.64it/s]\n"
          ]
        },
        {
          "output_type": "stream",
          "name": "stdout",
          "text": [
            "Training Accuracy:  tensor(0.8638, device='cuda:0')\n",
            "val  auc: 0.925  acc:0.866\n",
            "test  auc: 0.875  acc:0.788\n",
            "-----------------------Epoch9-----------------------\n"
          ]
        },
        {
          "output_type": "stream",
          "name": "stderr",
          "text": [
            "100%|██████████| 74/74 [00:03<00:00, 23.02it/s]\n"
          ]
        },
        {
          "output_type": "stream",
          "name": "stdout",
          "text": [
            "Training Accuracy:  tensor(0.8560, device='cuda:0')\n",
            "val  auc: 0.931  acc:0.866\n",
            "test  auc: 0.862  acc:0.768\n",
            "-----------------------Epoch10-----------------------\n"
          ]
        },
        {
          "output_type": "stream",
          "name": "stderr",
          "text": [
            "100%|██████████| 74/74 [00:04<00:00, 17.82it/s]\n"
          ]
        },
        {
          "output_type": "stream",
          "name": "stdout",
          "text": [
            "Training Accuracy:  tensor(0.8675, device='cuda:0')\n",
            "val  auc: 0.923  acc:0.866\n",
            "test  auc: 0.867  acc:0.772\n",
            "-----------------------Epoch11-----------------------\n"
          ]
        },
        {
          "output_type": "stream",
          "name": "stderr",
          "text": [
            "100%|██████████| 74/74 [00:03<00:00, 23.17it/s]\n"
          ]
        },
        {
          "output_type": "stream",
          "name": "stdout",
          "text": [
            "Training Accuracy:  tensor(0.8660, device='cuda:0')\n",
            "val  auc: 0.929  acc:0.861\n",
            "test  auc: 0.842  acc:0.753\n",
            "-----------------------Epoch12-----------------------\n"
          ]
        },
        {
          "output_type": "stream",
          "name": "stderr",
          "text": [
            "100%|██████████| 74/74 [00:03<00:00, 23.42it/s]\n"
          ]
        },
        {
          "output_type": "stream",
          "name": "stdout",
          "text": [
            "Training Accuracy:  tensor(0.8672, device='cuda:0')\n",
            "val  auc: 0.919  acc:0.874\n",
            "test  auc: 0.879  acc:0.792\n",
            "-----------------------Epoch13-----------------------\n"
          ]
        },
        {
          "output_type": "stream",
          "name": "stderr",
          "text": [
            "100%|██████████| 74/74 [00:03<00:00, 21.45it/s]\n"
          ]
        },
        {
          "output_type": "stream",
          "name": "stdout",
          "text": [
            "Training Accuracy:  tensor(0.8717, device='cuda:0')\n",
            "val  auc: 0.928  acc:0.872\n",
            "test  auc: 0.875  acc:0.776\n",
            "-----------------------Epoch14-----------------------\n"
          ]
        },
        {
          "output_type": "stream",
          "name": "stderr",
          "text": [
            "100%|██████████| 74/74 [00:03<00:00, 19.99it/s]\n"
          ]
        },
        {
          "output_type": "stream",
          "name": "stdout",
          "text": [
            "Training Accuracy:  tensor(0.8651, device='cuda:0')\n",
            "val  auc: 0.914  acc:0.855\n",
            "test  auc: 0.872  acc:0.785\n",
            "-----------------------Epoch15-----------------------\n"
          ]
        },
        {
          "output_type": "stream",
          "name": "stderr",
          "text": [
            "100%|██████████| 74/74 [00:03<00:00, 23.36it/s]\n"
          ]
        },
        {
          "output_type": "stream",
          "name": "stdout",
          "text": [
            "Training Accuracy:  tensor(0.8700, device='cuda:0')\n",
            "val  auc: 0.942  acc:0.901\n",
            "test  auc: 0.870  acc:0.785\n"
          ]
        }
      ]
    },
    {
      "cell_type": "code",
      "source": [
        "plot_loss(15,TrainLoss2,ValLoss2)"
      ],
      "metadata": {
        "colab": {
          "base_uri": "https://localhost:8080/",
          "height": 472
        },
        "id": "NdAJXs8Hqqn_",
        "outputId": "332e5221-1866-4cb7-d0af-b1fec91f6481"
      },
      "execution_count": 27,
      "outputs": [
        {
          "output_type": "display_data",
          "data": {
            "text/plain": [
              "<Figure size 640x480 with 1 Axes>"
            ],
            "image/png": "[encoded data removed]"
          },
          "metadata": {}
        }
      ]
    },
    {
      "cell_type": "code",
      "source": [
        "plot_loss(15,TrainLoss2,ValLoss2)"
      ],
      "metadata": {
        "colab": {
          "base_uri": "https://localhost:8080/",
          "height": 472
        },
        "id": "U5XsHkRegdlI",
        "outputId": "9c131641-1156-4be1-ff54-954d39c1d5f8"
      },
      "execution_count": null,
      "outputs": [
        {
          "output_type": "display_data",
          "data": {
            "text/plain": [
              "<Figure size 640x480 with 1 Axes>"
            ],
            "image/png": "[encoded data removed]"
          },
          "metadata": {}
        }
      ]
    },
    {
      "cell_type": "code",
      "source": [
        "plot_loss(15,TrainLoss1,ValLoss1)"
      ],
      "metadata": {
        "colab": {
          "base_uri": "https://localhost:8080/",
          "height": 472
        },
        "id": "rYkorL0FVYFd",
        "outputId": "1e5e8136-5c6a-47c6-88a6-c7471a3639b6"
      },
      "execution_count": null,
      "outputs": [
        {
          "output_type": "display_data",
          "data": {
            "text/plain": [
              "<Figure size 640x480 with 1 Axes>"
            ],
            "image/png": "[encoded data removed]"
          },
          "metadata": {}
        }
      ]
    },
    {
      "cell_type": "code",
      "source": [
        "# Simple CNN\n",
        "model = model_0\n",
        "# Define the optimizer\n",
        "optimizer = optim.Adam(model.parameters(), lr=0.0001)\n",
        "# Define the loss function\n",
        "criterion = nn.CrossEntropyLoss()\n",
        "TrainLoss,ValLoss = Train_A(model,train_loader,train_loader_at_eval,test_loader,15,criterion,optimizer,device)"
      ],
      "metadata": {
        "colab": {
          "base_uri": "https://localhost:8080/"
        },
        "id": "VojTZYuc3H1u",
        "outputId": "b919c1e4-9558-4eab-eb02-eb2eefb50ee2"
      },
      "execution_count": null,
      "outputs": [
        {
          "output_type": "stream",
          "name": "stdout",
          "text": [
            "-----------------------Epoch1-----------------------\n"
          ]
        },
        {
          "output_type": "stream",
          "name": "stderr",
          "text": [
            "100%|██████████| 74/74 [00:03<00:00, 21.57it/s]\n"
          ]
        },
        {
          "output_type": "stream",
          "name": "stdout",
          "text": [
            "Training Accuracy:  tensor(0.8777, device='cuda:0')\n",
            "val  auc: 0.982  acc:0.924\n",
            "test  auc: 0.940  acc:0.800\n",
            "-----------------------Epoch2-----------------------\n"
          ]
        },
        {
          "output_type": "stream",
          "name": "stderr",
          "text": [
            "100%|██████████| 74/74 [00:02<00:00, 34.43it/s]\n"
          ]
        },
        {
          "output_type": "stream",
          "name": "stdout",
          "text": [
            "Training Accuracy:  tensor(0.9393, device='cuda:0')\n",
            "val  auc: 0.987  acc:0.952\n",
            "test  auc: 0.953  acc:0.824\n",
            "-----------------------Epoch3-----------------------\n"
          ]
        },
        {
          "output_type": "stream",
          "name": "stderr",
          "text": [
            "100%|██████████| 74/74 [00:01<00:00, 38.68it/s]\n"
          ]
        },
        {
          "output_type": "stream",
          "name": "stdout",
          "text": [
            "Training Accuracy:  tensor(0.9518, device='cuda:0')\n",
            "val  auc: 0.992  acc:0.948\n",
            "test  auc: 0.948  acc:0.862\n",
            "-----------------------Epoch4-----------------------\n"
          ]
        },
        {
          "output_type": "stream",
          "name": "stderr",
          "text": [
            "100%|██████████| 74/74 [00:01<00:00, 39.30it/s]\n"
          ]
        },
        {
          "output_type": "stream",
          "name": "stdout",
          "text": [
            "Training Accuracy:  tensor(0.9556, device='cuda:0')\n",
            "val  auc: 0.993  acc:0.964\n",
            "test  auc: 0.953  acc:0.854\n",
            "-----------------------Epoch5-----------------------\n"
          ]
        },
        {
          "output_type": "stream",
          "name": "stderr",
          "text": [
            "100%|██████████| 74/74 [00:01<00:00, 38.75it/s]\n"
          ]
        },
        {
          "output_type": "stream",
          "name": "stdout",
          "text": [
            "Training Accuracy:  tensor(0.9569, device='cuda:0')\n",
            "val  auc: 0.993  acc:0.958\n",
            "test  auc: 0.956  acc:0.833\n",
            "-----------------------Epoch6-----------------------\n"
          ]
        },
        {
          "output_type": "stream",
          "name": "stderr",
          "text": [
            "100%|██████████| 74/74 [00:03<00:00, 20.78it/s]\n"
          ]
        },
        {
          "output_type": "stream",
          "name": "stdout",
          "text": [
            "Training Accuracy:  tensor(0.9613, device='cuda:0')\n",
            "val  auc: 0.993  acc:0.958\n",
            "test  auc: 0.956  acc:0.856\n",
            "-----------------------Epoch7-----------------------\n"
          ]
        },
        {
          "output_type": "stream",
          "name": "stderr",
          "text": [
            "100%|██████████| 74/74 [00:02<00:00, 29.85it/s]\n"
          ]
        },
        {
          "output_type": "stream",
          "name": "stdout",
          "text": [
            "Training Accuracy:  tensor(0.9643, device='cuda:0')\n",
            "val  auc: 0.994  acc:0.966\n",
            "test  auc: 0.957  acc:0.856\n",
            "-----------------------Epoch8-----------------------\n"
          ]
        },
        {
          "output_type": "stream",
          "name": "stderr",
          "text": [
            "100%|██████████| 74/74 [00:01<00:00, 38.44it/s]\n"
          ]
        },
        {
          "output_type": "stream",
          "name": "stdout",
          "text": [
            "Training Accuracy:  tensor(0.9656, device='cuda:0')\n",
            "val  auc: 0.993  acc:0.968\n",
            "test  auc: 0.958  acc:0.837\n",
            "-----------------------Epoch9-----------------------\n"
          ]
        },
        {
          "output_type": "stream",
          "name": "stderr",
          "text": [
            "100%|██████████| 74/74 [00:01<00:00, 38.37it/s]\n"
          ]
        },
        {
          "output_type": "stream",
          "name": "stdout",
          "text": [
            "Training Accuracy:  tensor(0.9677, device='cuda:0')\n",
            "val  auc: 0.994  acc:0.969\n",
            "test  auc: 0.963  acc:0.833\n",
            "-----------------------Epoch10-----------------------\n"
          ]
        },
        {
          "output_type": "stream",
          "name": "stderr",
          "text": [
            "100%|██████████| 74/74 [00:02<00:00, 28.43it/s]\n"
          ]
        },
        {
          "output_type": "stream",
          "name": "stdout",
          "text": [
            "Training Accuracy:  tensor(0.9667, device='cuda:0')\n",
            "val  auc: 0.991  acc:0.952\n",
            "test  auc: 0.961  acc:0.877\n",
            "-----------------------Epoch11-----------------------\n"
          ]
        },
        {
          "output_type": "stream",
          "name": "stderr",
          "text": [
            "100%|██████████| 74/74 [00:01<00:00, 37.12it/s]\n"
          ]
        },
        {
          "output_type": "stream",
          "name": "stdout",
          "text": [
            "Training Accuracy:  tensor(0.9688, device='cuda:0')\n",
            "val  auc: 0.993  acc:0.969\n",
            "test  auc: 0.962  acc:0.853\n",
            "-----------------------Epoch12-----------------------\n"
          ]
        },
        {
          "output_type": "stream",
          "name": "stderr",
          "text": [
            "100%|██████████| 74/74 [00:02<00:00, 28.87it/s]\n"
          ]
        },
        {
          "output_type": "stream",
          "name": "stdout",
          "text": [
            "Training Accuracy:  tensor(0.9671, device='cuda:0')\n",
            "val  auc: 0.992  acc:0.966\n",
            "test  auc: 0.960  acc:0.845\n",
            "-----------------------Epoch13-----------------------\n"
          ]
        },
        {
          "output_type": "stream",
          "name": "stderr",
          "text": [
            "100%|██████████| 74/74 [00:02<00:00, 35.98it/s]\n"
          ]
        },
        {
          "output_type": "stream",
          "name": "stdout",
          "text": [
            "Training Accuracy:  tensor(0.9718, device='cuda:0')\n",
            "val  auc: 0.994  acc:0.962\n",
            "test  auc: 0.962  acc:0.897\n",
            "-----------------------Epoch14-----------------------\n"
          ]
        },
        {
          "output_type": "stream",
          "name": "stderr",
          "text": [
            "100%|██████████| 74/74 [00:01<00:00, 39.17it/s]\n"
          ]
        },
        {
          "output_type": "stream",
          "name": "stdout",
          "text": [
            "Training Accuracy:  tensor(0.9705, device='cuda:0')\n",
            "val  auc: 0.995  acc:0.964\n",
            "test  auc: 0.957  acc:0.817\n",
            "-----------------------Epoch15-----------------------\n"
          ]
        },
        {
          "output_type": "stream",
          "name": "stderr",
          "text": [
            "100%|██████████| 74/74 [00:01<00:00, 39.05it/s]\n"
          ]
        },
        {
          "output_type": "stream",
          "name": "stdout",
          "text": [
            "Training Accuracy:  tensor(0.9675, device='cuda:0')\n",
            "val  auc: 0.994  acc:0.973\n",
            "test  auc: 0.959  acc:0.837\n"
          ]
        }
      ]
    },
    {
      "cell_type": "code",
      "execution_count": null,
      "metadata": {
        "colab": {
          "base_uri": "https://localhost:8080/"
        },
        "id": "Bdzd6o_5lMJx",
        "outputId": "566f6932-884c-41a8-fb01-db7efcc999e2"
      },
      "outputs": [
        {
          "output_type": "stream",
          "name": "stdout",
          "text": [
            "-----------------------Epoch1-----------------------\n"
          ]
        },
        {
          "output_type": "stream",
          "name": "stderr",
          "text": [
            "100%|██████████| 74/74 [00:03<00:00, 19.07it/s]\n"
          ]
        },
        {
          "output_type": "stream",
          "name": "stdout",
          "text": [
            "Training Accuracy:  tensor(0.6933, device='cuda:0')\n",
            "val  auc: 0.815  acc:0.744\n",
            "test  auc: 0.758  acc:0.627\n",
            "-----------------------Epoch2-----------------------\n"
          ]
        },
        {
          "output_type": "stream",
          "name": "stderr",
          "text": [
            "100%|██████████| 74/74 [00:01<00:00, 38.29it/s]\n"
          ]
        },
        {
          "output_type": "stream",
          "name": "stdout",
          "text": [
            "Training Accuracy:  tensor(0.7850, device='cuda:0')\n",
            "val  auc: 0.943  acc:0.817\n",
            "test  auc: 0.905  acc:0.720\n",
            "-----------------------Epoch3-----------------------\n"
          ]
        },
        {
          "output_type": "stream",
          "name": "stderr",
          "text": [
            "100%|██████████| 74/74 [00:01<00:00, 37.95it/s]\n"
          ]
        },
        {
          "output_type": "stream",
          "name": "stdout",
          "text": [
            "Training Accuracy:  tensor(0.8774, device='cuda:0')\n",
            "val  auc: 0.957  acc:0.903\n",
            "test  auc: 0.930  acc:0.824\n",
            "-----------------------Epoch4-----------------------\n"
          ]
        },
        {
          "output_type": "stream",
          "name": "stderr",
          "text": [
            "100%|██████████| 74/74 [00:01<00:00, 39.64it/s]\n"
          ]
        },
        {
          "output_type": "stream",
          "name": "stdout",
          "text": [
            "Training Accuracy:  tensor(0.9159, device='cuda:0')\n",
            "val  auc: 0.970  acc:0.920\n",
            "test  auc: 0.933  acc:0.840\n",
            "-----------------------Epoch5-----------------------\n"
          ]
        },
        {
          "output_type": "stream",
          "name": "stderr",
          "text": [
            "100%|██████████| 74/74 [00:01<00:00, 38.67it/s]\n"
          ]
        },
        {
          "output_type": "stream",
          "name": "stdout",
          "text": [
            "Training Accuracy:  tensor(0.9197, device='cuda:0')\n",
            "val  auc: 0.975  acc:0.929\n",
            "test  auc: 0.938  acc:0.841\n",
            "-----------------------Epoch6-----------------------\n"
          ]
        },
        {
          "output_type": "stream",
          "name": "stderr",
          "text": [
            "100%|██████████| 74/74 [00:02<00:00, 30.36it/s]\n"
          ]
        },
        {
          "output_type": "stream",
          "name": "stdout",
          "text": [
            "Training Accuracy:  tensor(0.9350, device='cuda:0')\n",
            "val  auc: 0.979  acc:0.931\n",
            "test  auc: 0.940  acc:0.861\n",
            "-----------------------Epoch7-----------------------\n"
          ]
        },
        {
          "output_type": "stream",
          "name": "stderr",
          "text": [
            "100%|██████████| 74/74 [00:02<00:00, 33.63it/s]\n"
          ]
        },
        {
          "output_type": "stream",
          "name": "stdout",
          "text": [
            "Training Accuracy:  tensor(0.9318, device='cuda:0')\n",
            "val  auc: 0.978  acc:0.931\n",
            "test  auc: 0.932  acc:0.846\n",
            "-----------------------Epoch8-----------------------\n"
          ]
        },
        {
          "output_type": "stream",
          "name": "stderr",
          "text": [
            "100%|██████████| 74/74 [00:01<00:00, 38.97it/s]\n"
          ]
        },
        {
          "output_type": "stream",
          "name": "stdout",
          "text": [
            "Training Accuracy:  tensor(0.9322, device='cuda:0')\n",
            "val  auc: 0.981  acc:0.929\n",
            "test  auc: 0.940  acc:0.862\n",
            "-----------------------Epoch9-----------------------\n"
          ]
        },
        {
          "output_type": "stream",
          "name": "stderr",
          "text": [
            "100%|██████████| 74/74 [00:01<00:00, 38.70it/s]\n"
          ]
        },
        {
          "output_type": "stream",
          "name": "stdout",
          "text": [
            "Training Accuracy:  tensor(0.9373, device='cuda:0')\n",
            "val  auc: 0.980  acc:0.933\n",
            "test  auc: 0.945  acc:0.861\n",
            "-----------------------Epoch10-----------------------\n"
          ]
        },
        {
          "output_type": "stream",
          "name": "stderr",
          "text": [
            "100%|██████████| 74/74 [00:01<00:00, 38.30it/s]\n"
          ]
        },
        {
          "output_type": "stream",
          "name": "stdout",
          "text": [
            "Training Accuracy:  tensor(0.9395, device='cuda:0')\n",
            "val  auc: 0.982  acc:0.937\n",
            "test  auc: 0.943  acc:0.845\n",
            "-----------------------Epoch11-----------------------\n"
          ]
        },
        {
          "output_type": "stream",
          "name": "stderr",
          "text": [
            "100%|██████████| 74/74 [00:02<00:00, 34.36it/s]\n"
          ]
        },
        {
          "output_type": "stream",
          "name": "stdout",
          "text": [
            "Training Accuracy:  tensor(0.9401, device='cuda:0')\n",
            "val  auc: 0.982  acc:0.933\n",
            "test  auc: 0.943  acc:0.849\n",
            "-----------------------Epoch12-----------------------\n"
          ]
        },
        {
          "output_type": "stream",
          "name": "stderr",
          "text": [
            "100%|██████████| 74/74 [00:02<00:00, 29.75it/s]\n"
          ]
        },
        {
          "output_type": "stream",
          "name": "stdout",
          "text": [
            "Training Accuracy:  tensor(0.9422, device='cuda:0')\n",
            "val  auc: 0.984  acc:0.943\n",
            "test  auc: 0.941  acc:0.846\n",
            "-----------------------Epoch13-----------------------\n"
          ]
        },
        {
          "output_type": "stream",
          "name": "stderr",
          "text": [
            "100%|██████████| 74/74 [00:01<00:00, 38.14it/s]\n"
          ]
        },
        {
          "output_type": "stream",
          "name": "stdout",
          "text": [
            "Training Accuracy:  tensor(0.9433, device='cuda:0')\n",
            "val  auc: 0.984  acc:0.937\n",
            "test  auc: 0.943  acc:0.848\n",
            "-----------------------Epoch14-----------------------\n"
          ]
        },
        {
          "output_type": "stream",
          "name": "stderr",
          "text": [
            "100%|██████████| 74/74 [00:01<00:00, 38.89it/s]\n"
          ]
        },
        {
          "output_type": "stream",
          "name": "stdout",
          "text": [
            "Training Accuracy:  tensor(0.9463, device='cuda:0')\n",
            "val  auc: 0.985  acc:0.931\n",
            "test  auc: 0.945  acc:0.859\n",
            "-----------------------Epoch15-----------------------\n"
          ]
        },
        {
          "output_type": "stream",
          "name": "stderr",
          "text": [
            "100%|██████████| 74/74 [00:01<00:00, 39.49it/s]\n"
          ]
        },
        {
          "output_type": "stream",
          "name": "stdout",
          "text": [
            "Training Accuracy:  tensor(0.9463, device='cuda:0')\n",
            "val  auc: 0.987  acc:0.947\n",
            "test  auc: 0.941  acc:0.851\n"
          ]
        }
      ],
      "source": [
        "# Simple CNN\n",
        "model = model_0\n",
        "# Define the optimizer\n",
        "optimizer = optim.Adam(model.parameters(), lr=0.00001)\n",
        "# Define the loss function\n",
        "criterion = nn.CrossEntropyLoss()\n",
        "TrainLoss,ValLoss = Train_A(model,train_loader,train_loader_at_eval,test_loader,15,criterion,optimizer,device)"
      ]
    },
    {
      "cell_type": "code",
      "source": [
        "model.to(device)\n",
        "train_correct = 0\n",
        "all_count = 0\n",
        "for x,y in test_loader:\n",
        "  x = x.to(device)\n",
        "  y = y.to(device)\n",
        "\n",
        "\n",
        "  y = y.squeeze().long()\n",
        "  #print(y)\n",
        "  out = model(x)\n",
        "  out = torch.argmax(out.softmax(dim=-1),dim=1)\n",
        "  #print(out)\n",
        "  all_count += len(y)\n",
        "  #print((64-torch.count_nonzero(out-y))/64)\n",
        "  correct = len(y)-torch.count_nonzero(out-y).item()\n",
        "  train_correct += correct\n",
        "  #out = out.cpu().numpy()\n",
        "  #y = y.cpu().numpy()\n",
        "acc_train = train_correct/all_count\n",
        "print(train_correct)\n",
        "print(all_count)\n",
        "print(acc_train)"
      ],
      "metadata": {
        "colab": {
          "base_uri": "https://localhost:8080/"
        },
        "id": "TKLrsFOBtD3y",
        "outputId": "07d59a87-b75a-43cf-f78c-3cffd19f0f97"
      },
      "execution_count": null,
      "outputs": [
        {
          "output_type": "stream",
          "name": "stdout",
          "text": [
            "534\n",
            "624\n",
            "0.8557692307692307\n"
          ]
        }
      ]
    },
    {
      "cell_type": "code",
      "source": [
        "plot_loss(15,TrainLoss,ValLoss)"
      ],
      "metadata": {
        "colab": {
          "base_uri": "https://localhost:8080/",
          "height": 472
        },
        "id": "XZuulK2uqQzQ",
        "outputId": "5364823f-f86a-4547-96ee-7a0f3e2866e5"
      },
      "execution_count": null,
      "outputs": [
        {
          "output_type": "display_data",
          "data": {
            "text/plain": [
              "<Figure size 640x480 with 1 Axes>"
            ],
            "image/png": "[encoded data removed]"
          },
          "metadata": {}
        }
      ]
    },
    {
      "cell_type": "code",
      "source": [
        "# Finetune ResNet50\n",
        "model1 = model_1\n",
        "optimizer = optim.Adam(model1.parameters(), lr=0.00001)\n",
        "TrainLoss1,ValLoss1 = Train_A(model1,train_loader,train_loader_at_eval,test_loader,15,criterion,optimizer,device)"
      ],
      "metadata": {
        "colab": {
          "base_uri": "https://localhost:8080/"
        },
        "id": "RS4qNYNT36rg",
        "outputId": "7a74b33d-a8d9-45db-a52c-5d6f3c3b701f"
      },
      "execution_count": null,
      "outputs": [
        {
          "output_type": "stream",
          "name": "stdout",
          "text": [
            "-----------------------Epoch1-----------------------\n"
          ]
        },
        {
          "output_type": "stream",
          "name": "stderr",
          "text": [
            "100%|██████████| 74/74 [00:05<00:00, 14.15it/s]\n"
          ]
        },
        {
          "output_type": "stream",
          "name": "stdout",
          "text": [
            "Training Accuracy:  tensor(0.7288, device='cuda:0')\n",
            "val  auc: 0.917  acc:0.861\n",
            "test  auc: 0.847  acc:0.788\n",
            "-----------------------Epoch2-----------------------\n"
          ]
        },
        {
          "output_type": "stream",
          "name": "stderr",
          "text": [
            "100%|██████████| 74/74 [00:04<00:00, 16.39it/s]\n"
          ]
        },
        {
          "output_type": "stream",
          "name": "stdout",
          "text": [
            "Training Accuracy:  tensor(0.8864, device='cuda:0')\n",
            "val  auc: 0.950  acc:0.885\n",
            "test  auc: 0.886  acc:0.809\n",
            "-----------------------Epoch3-----------------------\n"
          ]
        },
        {
          "output_type": "stream",
          "name": "stderr",
          "text": [
            "100%|██████████| 74/74 [00:05<00:00, 14.06it/s]\n"
          ]
        },
        {
          "output_type": "stream",
          "name": "stdout",
          "text": [
            "Training Accuracy:  tensor(0.9012, device='cuda:0')\n",
            "val  auc: 0.966  acc:0.905\n",
            "test  auc: 0.887  acc:0.784\n",
            "-----------------------Epoch4-----------------------\n"
          ]
        },
        {
          "output_type": "stream",
          "name": "stderr",
          "text": [
            "100%|██████████| 74/74 [00:04<00:00, 16.46it/s]\n"
          ]
        },
        {
          "output_type": "stream",
          "name": "stdout",
          "text": [
            "Training Accuracy:  tensor(0.9195, device='cuda:0')\n",
            "val  auc: 0.959  acc:0.905\n",
            "test  auc: 0.898  acc:0.812\n",
            "-----------------------Epoch5-----------------------\n"
          ]
        },
        {
          "output_type": "stream",
          "name": "stderr",
          "text": [
            "100%|██████████| 74/74 [00:04<00:00, 15.98it/s]\n"
          ]
        },
        {
          "output_type": "stream",
          "name": "stdout",
          "text": [
            "Training Accuracy:  tensor(0.9269, device='cuda:0')\n",
            "val  auc: 0.965  acc:0.922\n",
            "test  auc: 0.900  acc:0.806\n",
            "-----------------------Epoch6-----------------------\n"
          ]
        },
        {
          "output_type": "stream",
          "name": "stderr",
          "text": [
            "100%|██████████| 74/74 [00:05<00:00, 14.79it/s]\n"
          ]
        },
        {
          "output_type": "stream",
          "name": "stdout",
          "text": [
            "Training Accuracy:  tensor(0.9359, device='cuda:0')\n",
            "val  auc: 0.973  acc:0.939\n",
            "test  auc: 0.919  acc:0.824\n",
            "-----------------------Epoch7-----------------------\n"
          ]
        },
        {
          "output_type": "stream",
          "name": "stderr",
          "text": [
            "100%|██████████| 74/74 [00:04<00:00, 16.54it/s]\n"
          ]
        },
        {
          "output_type": "stream",
          "name": "stdout",
          "text": [
            "Training Accuracy:  tensor(0.9329, device='cuda:0')\n",
            "val  auc: 0.973  acc:0.941\n",
            "test  auc: 0.917  acc:0.812\n",
            "-----------------------Epoch8-----------------------\n"
          ]
        },
        {
          "output_type": "stream",
          "name": "stderr",
          "text": [
            "100%|██████████| 74/74 [00:04<00:00, 15.07it/s]\n"
          ]
        },
        {
          "output_type": "stream",
          "name": "stdout",
          "text": [
            "Training Accuracy:  tensor(0.9367, device='cuda:0')\n",
            "val  auc: 0.976  acc:0.943\n",
            "test  auc: 0.924  acc:0.811\n",
            "-----------------------Epoch9-----------------------\n"
          ]
        },
        {
          "output_type": "stream",
          "name": "stderr",
          "text": [
            "100%|██████████| 74/74 [00:04<00:00, 16.00it/s]\n"
          ]
        },
        {
          "output_type": "stream",
          "name": "stdout",
          "text": [
            "Training Accuracy:  tensor(0.9354, device='cuda:0')\n",
            "val  auc: 0.982  acc:0.935\n",
            "test  auc: 0.926  acc:0.819\n",
            "-----------------------Epoch10-----------------------\n"
          ]
        },
        {
          "output_type": "stream",
          "name": "stderr",
          "text": [
            "100%|██████████| 74/74 [00:04<00:00, 16.81it/s]\n"
          ]
        },
        {
          "output_type": "stream",
          "name": "stdout",
          "text": [
            "Training Accuracy:  tensor(0.9410, device='cuda:0')\n",
            "val  auc: 0.984  acc:0.939\n",
            "test  auc: 0.911  acc:0.819\n",
            "-----------------------Epoch11-----------------------\n"
          ]
        },
        {
          "output_type": "stream",
          "name": "stderr",
          "text": [
            "100%|██████████| 74/74 [00:05<00:00, 14.35it/s]\n"
          ]
        },
        {
          "output_type": "stream",
          "name": "stdout",
          "text": [
            "Training Accuracy:  tensor(0.9469, device='cuda:0')\n",
            "val  auc: 0.981  acc:0.945\n",
            "test  auc: 0.936  acc:0.825\n",
            "-----------------------Epoch12-----------------------\n"
          ]
        },
        {
          "output_type": "stream",
          "name": "stderr",
          "text": [
            "100%|██████████| 74/74 [00:04<00:00, 16.80it/s]\n"
          ]
        },
        {
          "output_type": "stream",
          "name": "stdout",
          "text": [
            "Training Accuracy:  tensor(0.9545, device='cuda:0')\n",
            "val  auc: 0.985  acc:0.947\n",
            "test  auc: 0.935  acc:0.827\n",
            "-----------------------Epoch13-----------------------\n"
          ]
        },
        {
          "output_type": "stream",
          "name": "stderr",
          "text": [
            "100%|██████████| 74/74 [00:04<00:00, 16.88it/s]\n"
          ]
        },
        {
          "output_type": "stream",
          "name": "stdout",
          "text": [
            "Training Accuracy:  tensor(0.9456, device='cuda:0')\n",
            "val  auc: 0.983  acc:0.950\n",
            "test  auc: 0.931  acc:0.833\n",
            "-----------------------Epoch14-----------------------\n"
          ]
        },
        {
          "output_type": "stream",
          "name": "stderr",
          "text": [
            "100%|██████████| 74/74 [00:05<00:00, 14.59it/s]\n"
          ]
        },
        {
          "output_type": "stream",
          "name": "stdout",
          "text": [
            "Training Accuracy:  tensor(0.9528, device='cuda:0')\n",
            "val  auc: 0.984  acc:0.941\n",
            "test  auc: 0.936  acc:0.825\n",
            "-----------------------Epoch15-----------------------\n"
          ]
        },
        {
          "output_type": "stream",
          "name": "stderr",
          "text": [
            "100%|██████████| 74/74 [00:04<00:00, 16.70it/s]\n"
          ]
        },
        {
          "output_type": "stream",
          "name": "stdout",
          "text": [
            "Training Accuracy:  tensor(0.9490, device='cuda:0')\n",
            "val  auc: 0.984  acc:0.947\n",
            "test  auc: 0.938  acc:0.827\n"
          ]
        }
      ]
    },
    {
      "cell_type": "code",
      "source": [
        "plot_loss(15,TrainLoss1,ValLoss1)"
      ],
      "metadata": {
        "colab": {
          "base_uri": "https://localhost:8080/",
          "height": 472
        },
        "id": "FiVCOZOy4ahb",
        "outputId": "14d7a7a6-8db9-4740-a3ee-b96a0a5a4877"
      },
      "execution_count": null,
      "outputs": [
        {
          "output_type": "display_data",
          "data": {
            "text/plain": [
              "<Figure size 640x480 with 1 Axes>"
            ],
            "image/png": "[encoded data removed]"
          },
          "metadata": {}
        }
      ]
    },
    {
      "cell_type": "code",
      "source": [
        "# Plot Accuracy\n",
        "ACC_cnn=[0.6933,0.7850,0.8774,0.9159,0.9197,0.9350,0.9318,0.9322,0.9373,0.9395,0.9401,0.9422,0.9433,0.9463,0.9463]\n",
        "\n",
        "ACC_res=[0.7288,0.8864,0.9012,0.9195,0.9269,0.9359,0.9329,0.9367,0.9354,0.9410,0.9469,0.9545,0.9456,0.9528,0.9490]\n",
        "\n",
        "plt.plot(range(1,NUM_EPOCHS+1),ACC_cnn)\n",
        "plt.plot(range(1,NUM_EPOCHS+1),ACC_res)\n",
        "\n",
        "plt.legend(['CNN','ResNet50'])\n",
        "plt.title(\"Training Accuracy of Models\")\n",
        "plt.xlabel(\"Epoch\")\n",
        "plt.xticks([1,2,3,4,5,6,7,8,9,10,11,12,13,14,15])\n",
        "plt.grid()\n",
        "plt.show()"
      ],
      "metadata": {
        "colab": {
          "base_uri": "https://localhost:8080/",
          "height": 472
        },
        "id": "hJPy98Fol_Ac",
        "outputId": "8f7a3bc0-934d-4a89-8d0a-dbe8d51f097a"
      },
      "execution_count": null,
      "outputs": [
        {
          "output_type": "display_data",
          "data": {
            "text/plain": [
              "<Figure size 640x480 with 1 Axes>"
            ],
            "image/png": "[encoded data removed]"
          },
          "metadata": {}
        }
      ]
    },
    {
      "cell_type": "code",
      "source": [
        "val_cnn=[0.744,0.817,0.903,0.920,0.929,0.931,0.931,0.929,0.933,0.937,0.933,0.943,0.937,0.931,0.947]\n",
        "val_res=[0.861,0.885,0.905,0.905,0.922,0.939,0.941,0.943,0.935,0.939,0.945,0.947,0.950,0.941,0.947]\n",
        "plt.plot(range(1,NUM_EPOCHS+1),val_cnn)\n",
        "plt.plot(range(1,NUM_EPOCHS+1),val_res)\n",
        "plt.legend(['CNN','ResNet50'])\n",
        "plt.title(\"Validation Accuracy of Models\")\n",
        "plt.xlabel(\"Epoch\")\n",
        "plt.xticks([1,2,3,4,5,6,7,8,9,10,11,12,13,14,15])\n",
        "plt.grid()\n",
        "plt.show()"
      ],
      "metadata": {
        "colab": {
          "base_uri": "https://localhost:8080/",
          "height": 472
        },
        "id": "EffnWJxinWLK",
        "outputId": "1f2fa127-faa8-4257-fd08-c1e4951d944b"
      },
      "execution_count": null,
      "outputs": [
        {
          "output_type": "display_data",
          "data": {
            "text/plain": [
              "<Figure size 640x480 with 1 Axes>"
            ],
            "image/png": "[encoded data removed]"
          },
          "metadata": {}
        }
      ]
    }
  ],
  "metadata": {
    "kernelspec": {
      "display_name": "Python 3",
      "name": "python3"
    },
    "language_info": {
      "codemirror_mode": {
        "name": "ipython",
        "version": 3
      },
      "file_extension": ".py",
      "mimetype": "text/x-python",
      "name": "python",
      "nbconvert_exporter": "python",
      "pygments_lexer": "ipython3",
      "version": "3.11.5"
    },
    "colab": {
      "provenance": [],
      "gpuType": "T4"
    },
    "accelerator": "GPU"
  },
  "nbformat": 4,
  "nbformat_minor": 0
}