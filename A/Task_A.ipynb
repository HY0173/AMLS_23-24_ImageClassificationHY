{
  "cells": [
    {
      "cell_type": "markdown",
      "metadata": {
        "id": "wya5-2PJqPbd"
      },
      "source": [
        "## Task A: Binary Classification"
      ]
    },
    {
      "cell_type": "code",
      "execution_count": 1,
      "metadata": {
        "colab": {
          "base_uri": "https://localhost:8080/"
        },
        "id": "ZhWcbJhQqPbg",
        "outputId": "7906e288-a707-4f78-f9b5-407470cd3e7b"
      },
      "outputs": [
        {
          "output_type": "stream",
          "name": "stdout",
          "text": [
            "Mounted at /content/drive\n"
          ]
        }
      ],
      "source": [
        "from google.colab import drive\n",
        "drive.mount('/content/drive')"
      ]
    },
    {
      "cell_type": "code",
      "execution_count": null,
      "metadata": {
        "id": "9C0ZqbfeqPbh"
      },
      "outputs": [],
      "source": [
        "! pip install medmnist"
      ]
    },
    {
      "cell_type": "markdown",
      "metadata": {
        "id": "viIMNUC8qPbi"
      },
      "source": [
        "#### 0. Packages"
      ]
    },
    {
      "cell_type": "code",
      "execution_count": 1,
      "metadata": {
        "id": "rlRqwBrqqPbj"
      },
      "outputs": [],
      "source": [
        "from tqdm import tqdm\n",
        "import numpy as np\n",
        "import pandas as pd\n",
        "import torch\n",
        "import torch.nn as nn\n",
        "import torch.optim as optim\n",
        "import torch.utils.data as data\n",
        "import torchvision.transforms as transforms\n",
        "import medmnist\n",
        "from medmnist import INFO,PneumoniaMNIST\n",
        "from medmnist.evaluator import Evaluator"
      ]
    },
    {
      "cell_type": "code",
      "execution_count": 2,
      "metadata": {
        "colab": {
          "base_uri": "https://localhost:8080/"
        },
        "id": "9CuSeC2OqPbj",
        "outputId": "fd72dc32-5e64-45fa-a544-493d85a210bc"
      },
      "outputs": [
        {
          "output_type": "stream",
          "name": "stdout",
          "text": [
            "Task: binary-class,\n",
            "n_channels: 1,\n",
            "n_classes: 2\n"
          ]
        }
      ],
      "source": [
        "data_flag = 'pneumoniamnist'\n",
        "\n",
        "info = INFO[data_flag]\n",
        "task = info['task']\n",
        "n_channels = info['n_channels']\n",
        "n_classes = len(info['label'])\n",
        "print(\"Task: {},\\nn_channels: {},\\nn_classes: {}\".format(task,n_channels,n_classes))"
      ]
    },
    {
      "cell_type": "code",
      "execution_count": 9,
      "metadata": {
        "id": "GhNPgFFJqPbk"
      },
      "outputs": [],
      "source": [
        "# preprocessing\n",
        "data_transform = transforms.Compose([\n",
        "    #transforms.Resize(224),\n",
        "    transforms.RandomHorizontalFlip(p=0.5),\n",
        "    transforms.RandomRotation(degrees=(-20,20)),\n",
        "    transforms.ToTensor(),\n",
        "    transforms.Normalize(mean=[.5], std=[.5])\n",
        "])"
      ]
    },
    {
      "cell_type": "code",
      "execution_count": 10,
      "metadata": {
        "id": "ivRnaxhRqPbl"
      },
      "outputs": [],
      "source": [
        "root ='/content/drive/MyDrive/Datasets/'\n",
        "train_dataset = PneumoniaMNIST(split='train', transform=data_transform, root=root)\n",
        "val_dataset = PneumoniaMNIST(split='val', transform=data_transform, root=root)\n",
        "test_dataset = PneumoniaMNIST(split='test', transform=data_transform, root=root)"
      ]
    },
    {
      "cell_type": "code",
      "execution_count": null,
      "metadata": {
        "id": "8eX4yQytqPbn",
        "outputId": "1562ebba-3c13-4020-c606-df9f7951de0c"
      },
      "outputs": [
        {
          "name": "stderr",
          "output_type": "stream",
          "text": [
            "/Users/huyue/anaconda3/envs/daps/lib/python3.11/site-packages/torchvision/models/_utils.py:208: UserWarning: The parameter 'pretrained' is deprecated since 0.13 and may be removed in the future, please use 'weights' instead.\n",
            "  warnings.warn(\n",
            "/Users/huyue/anaconda3/envs/daps/lib/python3.11/site-packages/torchvision/models/_utils.py:223: UserWarning: Arguments other than a weight enum or `None` for 'weights' are deprecated since 0.13 and may be removed in the future. The current behavior is equivalent to passing `weights=ResNet50_Weights.IMAGENET1K_V1`. You can also use `weights=ResNet50_Weights.DEFAULT` to get the most up-to-date weights.\n",
            "  warnings.warn(msg)\n"
          ]
        }
      ],
      "source": [
        "from torchvision.models import resnet50\n",
        "\n",
        "feature_extractor_1 = resnet50(pretrained=True)"
      ]
    },
    {
      "cell_type": "code",
      "execution_count": 11,
      "metadata": {
        "id": "pF0572f3qPbo"
      },
      "outputs": [],
      "source": [
        "from drive.MyDrive.A.classifier import get_data"
      ]
    },
    {
      "cell_type": "code",
      "execution_count": 12,
      "metadata": {
        "colab": {
          "base_uri": "https://localhost:8080/"
        },
        "id": "d71w7if0qPbp",
        "outputId": "1fd6a9e2-1103-4ca0-8f46-666cca9f0c59"
      },
      "outputs": [
        {
          "output_type": "stream",
          "name": "stderr",
          "text": [
            "4708it [00:03, 1325.16it/s]\n",
            "624it [00:00, 1190.31it/s]\n",
            "524it [00:00, 1894.55it/s]\n"
          ]
        }
      ],
      "source": [
        "X_train,Y_train = get_data(train_dataset)\n",
        "X_test,Y_test = get_data(test_dataset)\n",
        "X_val,Y_val = get_data(val_dataset)"
      ]
    },
    {
      "cell_type": "code",
      "execution_count": 13,
      "metadata": {
        "colab": {
          "base_uri": "https://localhost:8080/"
        },
        "id": "h_pvsmUCqPbp",
        "outputId": "b267134c-947e-4ef4-9a34-f6b83f42cba2"
      },
      "outputs": [
        {
          "output_type": "execute_result",
          "data": {
            "text/plain": [
              "torch.Size([3, 28, 28])"
            ]
          },
          "metadata": {},
          "execution_count": 13
        }
      ],
      "source": [
        "X_train[0].shape"
      ]
    },
    {
      "cell_type": "code",
      "source": [
        "from torchvision.models import resnet18\n",
        "\n",
        "feature_extractor_0 = resnet18(pretrained=True)"
      ],
      "metadata": {
        "colab": {
          "base_uri": "https://localhost:8080/"
        },
        "id": "x5ZQzQkiWrPR",
        "outputId": "51f838ca-31c7-45f3-83da-770f0597e7af"
      },
      "execution_count": 11,
      "outputs": [
        {
          "output_type": "stream",
          "name": "stderr",
          "text": [
            "/usr/local/lib/python3.10/dist-packages/torchvision/models/_utils.py:208: UserWarning: The parameter 'pretrained' is deprecated since 0.13 and may be removed in the future, please use 'weights' instead.\n",
            "  warnings.warn(\n",
            "/usr/local/lib/python3.10/dist-packages/torchvision/models/_utils.py:223: UserWarning: Arguments other than a weight enum or `None` for 'weights' are deprecated since 0.13 and may be removed in the future. The current behavior is equivalent to passing `weights=ResNet18_Weights.IMAGENET1K_V1`. You can also use `weights=ResNet18_Weights.DEFAULT` to get the most up-to-date weights.\n",
            "  warnings.warn(msg)\n",
            "Downloading: \"https://download.pytorch.org/models/resnet18-f37072fd.pth\" to /root/.cache/torch/hub/checkpoints/resnet18-f37072fd.pth\n",
            "100%|██████████| 44.7M/44.7M [00:00<00:00, 100MB/s]\n"
          ]
        }
      ]
    },
    {
      "cell_type": "code",
      "source": [
        "from torchvision.models import resnet50\n",
        "\n",
        "feature_extractor_1 = resnet50(pretrained=True)"
      ],
      "metadata": {
        "id": "ifM2bpcHr9ep"
      },
      "execution_count": null,
      "outputs": []
    },
    {
      "cell_type": "code",
      "source": [
        "from torchvision.models import resnet152\n",
        "\n",
        "feature_extractor_2 = resnet152(pretrained=True)"
      ],
      "metadata": {
        "colab": {
          "base_uri": "https://localhost:8080/"
        },
        "id": "EqaiXedtfrc9",
        "outputId": "2a847c83-d45c-421c-8f4f-09c8e0637a23"
      },
      "execution_count": 8,
      "outputs": [
        {
          "output_type": "stream",
          "name": "stderr",
          "text": [
            "/usr/local/lib/python3.10/dist-packages/torchvision/models/_utils.py:208: UserWarning: The parameter 'pretrained' is deprecated since 0.13 and may be removed in the future, please use 'weights' instead.\n",
            "  warnings.warn(\n",
            "/usr/local/lib/python3.10/dist-packages/torchvision/models/_utils.py:223: UserWarning: Arguments other than a weight enum or `None` for 'weights' are deprecated since 0.13 and may be removed in the future. The current behavior is equivalent to passing `weights=ResNet152_Weights.IMAGENET1K_V1`. You can also use `weights=ResNet152_Weights.DEFAULT` to get the most up-to-date weights.\n",
            "  warnings.warn(msg)\n",
            "Downloading: \"https://download.pytorch.org/models/resnet152-394f9c45.pth\" to /root/.cache/torch/hub/checkpoints/resnet152-394f9c45.pth\n",
            "100%|██████████| 230M/230M [00:05<00:00, 47.6MB/s]\n"
          ]
        }
      ]
    },
    {
      "cell_type": "code",
      "source": [
        "from torchvision.models import inception_v3\n",
        "\n",
        "feature_extractor_3 = inception_v3(pretrained=True)\n",
        "feature_extractor_3"
      ],
      "metadata": {
        "id": "PxhmqOL4ZMtU"
      },
      "execution_count": null,
      "outputs": []
    },
    {
      "cell_type": "code",
      "source": [
        "from drive.MyDrive.A.classifier import Train_classifier"
      ],
      "metadata": {
        "id": "xIozVIrJwIDJ"
      },
      "execution_count": 13,
      "outputs": []
    },
    {
      "cell_type": "code",
      "source": [
        "device = torch.device('cuda:0' if torch.cuda.is_available() else 'cpu')\n",
        "device"
      ],
      "metadata": {
        "colab": {
          "base_uri": "https://localhost:8080/"
        },
        "id": "8ztCkVc2w6am",
        "outputId": "3996ac2e-200d-4922-a808-847ef90b5c59"
      },
      "execution_count": 15,
      "outputs": [
        {
          "output_type": "execute_result",
          "data": {
            "text/plain": [
              "device(type='cuda', index=0)"
            ]
          },
          "metadata": {},
          "execution_count": 15
        }
      ]
    },
    {
      "cell_type": "code",
      "source": [
        "import pandas as pd\n",
        "import numpy as np\n",
        "import pickle as pkl\n",
        "from tqdm import tqdm\n",
        "import torch\n",
        "from sklearn import svm\n",
        "from sklearn.neighbors import KNeighborsClassifier\n",
        "from sklearn.tree import DecisionTreeClassifier\n",
        "from sklearn import metrics\n",
        "\n",
        "# ==================== Pretrained Models + SVM/KNN/DecisionTree Classifier ====================\n",
        "def Train_classifier(feature_extractor,clf,device,X_train,Y_train,X_test,Y_test):\n",
        "    # Use Pretrained models to Extract features\n",
        "    feature_extractor = feature_extractor.to(device)\n",
        "    X_train = X_train.to(device)\n",
        "    features = feature_extractor(X_train)\n",
        "\n",
        "    # Define Classifier\n",
        "    if clf == \"SVM\":\n",
        "        classifier = svm.LinearSVC()\n",
        "    elif clf == \"KNN\":\n",
        "        classifier = KNeighborsClassifier(n_neighbors=3)\n",
        "    elif clf == \"Tree\":\n",
        "        classifier = DecisionTreeClassifier()\n",
        "\n",
        "    features = features.detach().cpu().numpy()\n",
        "    Y_train = Y_train.detach().cpu().numpy()\n",
        "\n",
        "    # Training\n",
        "    print(\"----------------- Training {} Classifier -----------------\".format(clf))\n",
        "    classifier.fit(features,Y_train)\n",
        "\n",
        "    # Testing\n",
        "    X_test = X_test.to(device)\n",
        "    feature_test = feature_extractor(X_test)\n",
        "    feature_test = feature_test.detach().cpu().numpy()\n",
        "    result = classifier.predict(feature_test)\n",
        "    Y_test = Y_test.detach().cpu().numpy()\n",
        "    # Accuracy,Precision,Recall,F1_score\n",
        "    confusion_m = metrics.confusion_matrix(Y_test,result)\n",
        "    acc = metrics.accuracy_score(Y_test,result)\n",
        "    print(\"Accuracy: \",acc)\n",
        "    pre = metrics.precision_score(Y_test,result)\n",
        "    print(\"Precision: \",pre)\n",
        "    recall = metrics.recall_score(Y_test,result)\n",
        "    print(\"Recall: \",recall)\n",
        "    f1 = metrics.f1_score(Y_test,result)\n",
        "    print(\"F1 score: \",f1)\n",
        "    auc = metrics.accuracy_score(Y_test,result)\n",
        "    print(\"AUC: \",auc)\n",
        "    return classifier"
      ],
      "metadata": {
        "id": "DYPxdLD5yYsw"
      },
      "execution_count": 14,
      "outputs": []
    },
    {
      "cell_type": "code",
      "source": [
        "# Use ResNet18 As feature_extractor\n",
        "classifier_svm_res18=Train_classifier(feature_extractor_0,\"SVM\",device,X_train,Y_train,X_test,Y_test)\n",
        "classifier_knn_res18=Train_classifier(feature_extractor_0,\"KNN\",device,X_train,Y_train,X_test,Y_test)\n",
        "classifier_tree_res18=Train_classifier(feature_extractor_0,\"Tree\",device,X_train,Y_train,X_test,Y_test)"
      ],
      "metadata": {
        "colab": {
          "base_uri": "https://localhost:8080/"
        },
        "id": "lzjKNdQUXE-p",
        "outputId": "4acb2ebd-ae50-4fdb-8d98-078abd03a928"
      },
      "execution_count": 14,
      "outputs": [
        {
          "output_type": "stream",
          "name": "stderr",
          "text": [
            "/usr/local/lib/python3.10/dist-packages/sklearn/utils/validation.py:1143: DataConversionWarning: A column-vector y was passed when a 1d array was expected. Please change the shape of y to (n_samples, ), for example using ravel().\n",
            "  y = column_or_1d(y, warn=True)\n"
          ]
        },
        {
          "output_type": "stream",
          "name": "stdout",
          "text": [
            "Accuracy:  0.7371794871794872\n",
            "Precision:  0.7132075471698113\n",
            "Recall:  0.9692307692307692\n",
            "F1 score:  0.8217391304347825\n",
            "AUC:  0.7371794871794872\n"
          ]
        },
        {
          "output_type": "stream",
          "name": "stderr",
          "text": [
            "/usr/local/lib/python3.10/dist-packages/sklearn/neighbors/_classification.py:215: DataConversionWarning: A column-vector y was passed when a 1d array was expected. Please change the shape of y to (n_samples,), for example using ravel().\n",
            "  return self._fit(X, y)\n"
          ]
        },
        {
          "output_type": "stream",
          "name": "stdout",
          "text": [
            "Accuracy:  0.7307692307692307\n",
            "Precision:  0.7126436781609196\n",
            "Recall:  0.9538461538461539\n",
            "F1 score:  0.8157894736842106\n",
            "AUC:  0.7307692307692307\n",
            "Accuracy:  0.6891025641025641\n",
            "Precision:  0.723744292237443\n",
            "Recall:  0.8128205128205128\n",
            "F1 score:  0.7657004830917876\n",
            "AUC:  0.6891025641025641\n"
          ]
        }
      ]
    },
    {
      "cell_type": "code",
      "source": [
        "# Use ResNet50 As feature_extractor\n",
        "classifier_svm2=Train_classifier(feature_extractor_1,\"SVM\",device,X_train,Y_train,X_test,Y_test)"
      ],
      "metadata": {
        "colab": {
          "base_uri": "https://localhost:8080/"
        },
        "id": "0Cfyu3g13HBd",
        "outputId": "fb87e06e-b97a-48cb-a898-c20cc92e707c"
      },
      "execution_count": 44,
      "outputs": [
        {
          "output_type": "stream",
          "name": "stdout",
          "text": [
            "----------------- Training SVM Classifier -----------------\n"
          ]
        },
        {
          "output_type": "stream",
          "name": "stderr",
          "text": [
            "/usr/local/lib/python3.10/dist-packages/sklearn/utils/validation.py:1143: DataConversionWarning: A column-vector y was passed when a 1d array was expected. Please change the shape of y to (n_samples, ), for example using ravel().\n",
            "  y = column_or_1d(y, warn=True)\n"
          ]
        },
        {
          "output_type": "stream",
          "name": "stdout",
          "text": [
            "Accuracy:  0.7339743589743589\n",
            "Precision:  0.7424242424242424\n",
            "Recall:  0.8794871794871795\n",
            "F1 score:  0.8051643192488263\n",
            "AUC:  0.7339743589743589\n"
          ]
        },
        {
          "output_type": "stream",
          "name": "stderr",
          "text": [
            "/usr/local/lib/python3.10/dist-packages/sklearn/svm/_base.py:1244: ConvergenceWarning: Liblinear failed to converge, increase the number of iterations.\n",
            "  warnings.warn(\n"
          ]
        }
      ]
    },
    {
      "cell_type": "code",
      "source": [
        "classifier_knn=Train_classifier(feature_extractor_1,\"KNN\",device,X_train,Y_train,X_test,Y_test)"
      ],
      "metadata": {
        "colab": {
          "base_uri": "https://localhost:8080/"
        },
        "id": "Tpmt3gEp1le_",
        "outputId": "57fa9471-1c15-431e-d9ff-ff0bed77f8cd"
      },
      "execution_count": 39,
      "outputs": [
        {
          "output_type": "stream",
          "name": "stdout",
          "text": [
            "----------------- Training KNN Classifier -----------------\n"
          ]
        },
        {
          "output_type": "stream",
          "name": "stderr",
          "text": [
            "/usr/local/lib/python3.10/dist-packages/sklearn/neighbors/_classification.py:215: DataConversionWarning: A column-vector y was passed when a 1d array was expected. Please change the shape of y to (n_samples,), for example using ravel().\n",
            "  return self._fit(X, y)\n"
          ]
        },
        {
          "output_type": "stream",
          "name": "stdout",
          "text": [
            "Accuracy:  0.6778846153846154\n",
            "Precision:  0.6753246753246753\n",
            "Recall:  0.9333333333333333\n",
            "F1 score:  0.7836383207750269\n",
            "AUC:  0.6778846153846154\n"
          ]
        }
      ]
    },
    {
      "cell_type": "code",
      "source": [
        "classifier_tree=Train_classifier(feature_extractor_1,\"Tree\",device,X_train,Y_train,X_test,Y_test)"
      ],
      "metadata": {
        "colab": {
          "base_uri": "https://localhost:8080/"
        },
        "id": "C98gOyTx23sa",
        "outputId": "cdfd3404-130d-4fa0-cbb2-f1200b4da4e7"
      },
      "execution_count": 40,
      "outputs": [
        {
          "output_type": "stream",
          "name": "stdout",
          "text": [
            "----------------- Training Tree Classifier -----------------\n",
            "Accuracy:  0.6137820512820513\n",
            "Precision:  0.6674157303370787\n",
            "Recall:  0.7615384615384615\n",
            "F1 score:  0.711377245508982\n",
            "AUC:  0.6137820512820513\n"
          ]
        }
      ]
    }
  ],
  "metadata": {
    "kernelspec": {
      "display_name": "Python 3",
      "name": "python3"
    },
    "language_info": {
      "codemirror_mode": {
        "name": "ipython",
        "version": 3
      },
      "file_extension": ".py",
      "mimetype": "text/x-python",
      "name": "python",
      "nbconvert_exporter": "python",
      "pygments_lexer": "ipython3",
      "version": "3.11.5"
    },
    "colab": {
      "provenance": [],
      "gpuType": "T4"
    },
    "accelerator": "GPU"
  },
  "nbformat": 4,
  "nbformat_minor": 0
}