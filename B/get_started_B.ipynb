{
  "cells": [
    {
      "cell_type": "markdown",
      "metadata": {
        "id": "KPfZDIuLzhpJ"
      },
      "source": [
        "## Task B: Multi-class Classification"
      ]
    },
    {
      "cell_type": "code",
      "source": [
        "! pip install medmnist"
      ],
      "metadata": {
        "id": "DimmlIf90B4u"
      },
      "execution_count": null,
      "outputs": []
    },
    {
      "cell_type": "code",
      "source": [
        "from google.colab import drive\n",
        "drive.mount('/content/drive')"
      ],
      "metadata": {
        "colab": {
          "base_uri": "https://localhost:8080/"
        },
        "id": "zsj_IJFP1iBq",
        "outputId": "c9a4310c-9253-47ee-ca0d-8b1080153e05"
      },
      "execution_count": 2,
      "outputs": [
        {
          "output_type": "stream",
          "name": "stdout",
          "text": [
            "Mounted at /content/drive\n"
          ]
        }
      ]
    },
    {
      "cell_type": "code",
      "execution_count": 3,
      "metadata": {
        "id": "7eUZjt1UzhpK"
      },
      "outputs": [],
      "source": [
        "from tqdm import tqdm\n",
        "import numpy as np\n",
        "import pandas as pd\n",
        "import torch\n",
        "import torch.nn as nn\n",
        "import torch.optim as optim\n",
        "import torch.utils.data as data\n",
        "import torchvision.transforms as transforms\n",
        "import medmnist\n",
        "from medmnist import INFO,PathMNIST\n",
        "from medmnist.evaluator import Evaluator"
      ]
    },
    {
      "cell_type": "code",
      "execution_count": 4,
      "metadata": {
        "colab": {
          "base_uri": "https://localhost:8080/"
        },
        "id": "Vi8j81w8zhpM",
        "outputId": "c36f3fd8-19ca-4f2a-ba54-9d250b816db3"
      },
      "outputs": [
        {
          "output_type": "stream",
          "name": "stdout",
          "text": [
            "Task: multi-class,\n",
            "n_channels: 3,\n",
            "n_classes: 9\n"
          ]
        }
      ],
      "source": [
        "data_flag = 'pathmnist'\n",
        "\n",
        "info = INFO[data_flag]\n",
        "task = info['task']\n",
        "n_channels = info['n_channels']\n",
        "n_classes = len(info['label'])\n",
        "\n",
        "print(\"Task: {},\\nn_channels: {},\\nn_classes: {}\".format(task,n_channels,n_classes))"
      ]
    },
    {
      "cell_type": "markdown",
      "metadata": {
        "id": "wdC4-EV4zhpO"
      },
      "source": [
        "#### 1. Data Analysis and Visualization"
      ]
    },
    {
      "cell_type": "code",
      "execution_count": 5,
      "metadata": {
        "id": "S5w086EWzhpO"
      },
      "outputs": [],
      "source": [
        "def view_data(split):\n",
        "    l = []\n",
        "    data = PathMNIST(split=split, root='/content/drive/MyDrive/Datasets/')\n",
        "    print(\"-----------------------{}-----------------------\".format(split))\n",
        "    print(data)\n",
        "    label = pd.DataFrame(data.labels,columns=['label'])\n",
        "    count = label.value_counts()\n",
        "    for i in range(9):\n",
        "        l.append(count[i])\n",
        "    return l"
      ]
    },
    {
      "cell_type": "code",
      "execution_count": 6,
      "metadata": {
        "colab": {
          "base_uri": "https://localhost:8080/"
        },
        "id": "AfrRycuWzhpP",
        "outputId": "3c8eb75b-5f0d-4d8d-c635-c609e1dabc83"
      },
      "outputs": [
        {
          "output_type": "stream",
          "name": "stdout",
          "text": [
            "-----------------------train-----------------------\n",
            "Dataset PathMNIST (pathmnist)\n",
            "    Number of datapoints: 89996\n",
            "    Root location: /content/drive/MyDrive/Datasets/\n",
            "    Split: train\n",
            "    Task: multi-class\n",
            "    Number of channels: 3\n",
            "    Meaning of labels: {'0': 'adipose', '1': 'background', '2': 'debris', '3': 'lymphocytes', '4': 'mucus', '5': 'smooth muscle', '6': 'normal colon mucosa', '7': 'cancer-associated stroma', '8': 'colorectal adenocarcinoma epithelium'}\n",
            "    Number of samples: {'train': 89996, 'val': 10004, 'test': 7180}\n",
            "    Description: The PathMNIST is based on a prior study for predicting survival from colorectal cancer histology slides, providing a dataset (NCT-CRC-HE-100K) of 100,000 non-overlapping image patches from hematoxylin & eosin stained histological images, and a test dataset (CRC-VAL-HE-7K) of 7,180 image patches from a different clinical center. The dataset is comprised of 9 types of tissues, resulting in a multi-class classification task. We resize the source images of 3×224×224 into 3×28×28, and split NCT-CRC-HE-100K into training and validation set with a ratio of 9:1. The CRC-VAL-HE-7K is treated as the test set.\n",
            "    License: CC BY 4.0\n",
            "-----------------------val-----------------------\n",
            "Dataset PathMNIST (pathmnist)\n",
            "    Number of datapoints: 10004\n",
            "    Root location: /content/drive/MyDrive/Datasets/\n",
            "    Split: val\n",
            "    Task: multi-class\n",
            "    Number of channels: 3\n",
            "    Meaning of labels: {'0': 'adipose', '1': 'background', '2': 'debris', '3': 'lymphocytes', '4': 'mucus', '5': 'smooth muscle', '6': 'normal colon mucosa', '7': 'cancer-associated stroma', '8': 'colorectal adenocarcinoma epithelium'}\n",
            "    Number of samples: {'train': 89996, 'val': 10004, 'test': 7180}\n",
            "    Description: The PathMNIST is based on a prior study for predicting survival from colorectal cancer histology slides, providing a dataset (NCT-CRC-HE-100K) of 100,000 non-overlapping image patches from hematoxylin & eosin stained histological images, and a test dataset (CRC-VAL-HE-7K) of 7,180 image patches from a different clinical center. The dataset is comprised of 9 types of tissues, resulting in a multi-class classification task. We resize the source images of 3×224×224 into 3×28×28, and split NCT-CRC-HE-100K into training and validation set with a ratio of 9:1. The CRC-VAL-HE-7K is treated as the test set.\n",
            "    License: CC BY 4.0\n",
            "-----------------------test-----------------------\n",
            "Dataset PathMNIST (pathmnist)\n",
            "    Number of datapoints: 7180\n",
            "    Root location: /content/drive/MyDrive/Datasets/\n",
            "    Split: test\n",
            "    Task: multi-class\n",
            "    Number of channels: 3\n",
            "    Meaning of labels: {'0': 'adipose', '1': 'background', '2': 'debris', '3': 'lymphocytes', '4': 'mucus', '5': 'smooth muscle', '6': 'normal colon mucosa', '7': 'cancer-associated stroma', '8': 'colorectal adenocarcinoma epithelium'}\n",
            "    Number of samples: {'train': 89996, 'val': 10004, 'test': 7180}\n",
            "    Description: The PathMNIST is based on a prior study for predicting survival from colorectal cancer histology slides, providing a dataset (NCT-CRC-HE-100K) of 100,000 non-overlapping image patches from hematoxylin & eosin stained histological images, and a test dataset (CRC-VAL-HE-7K) of 7,180 image patches from a different clinical center. The dataset is comprised of 9 types of tissues, resulting in a multi-class classification task. We resize the source images of 3×224×224 into 3×28×28, and split NCT-CRC-HE-100K into training and validation set with a ratio of 9:1. The CRC-VAL-HE-7K is treated as the test set.\n",
            "    License: CC BY 4.0\n"
          ]
        }
      ],
      "source": [
        "l_train,l_val,l_test = view_data('train'), view_data('val'), view_data('test')"
      ]
    },
    {
      "cell_type": "code",
      "execution_count": 7,
      "metadata": {
        "colab": {
          "base_uri": "https://localhost:8080/",
          "height": 472
        },
        "id": "aRgo0KKjzhpP",
        "outputId": "a9b8a16f-c76b-4b4b-f9d5-36728602b836"
      },
      "outputs": [
        {
          "output_type": "display_data",
          "data": {
            "text/plain": [
              "<Figure size 640x480 with 1 Axes>"
            ],
            "image/png": "[encoded data removed]"
          },
          "metadata": {}
        }
      ],
      "source": [
        "import matplotlib.pyplot as plt\n",
        "bar_width = 0.3\n",
        "index_train = np.arange(9)\n",
        "index_val,index_test = index_train+bar_width,index_train+2*bar_width\n",
        "plt.bar(index_train,l_train,width=bar_width,label='Train')\n",
        "plt.bar(index_val,l_val,width=bar_width,label='Val')\n",
        "plt.bar(index_test,l_test,width=bar_width,label='Test')\n",
        "plt.title(\"Distribution of Dataset\")\n",
        "plt.legend()\n",
        "plt.xticks(index_val, range(9))\n",
        "plt.xlabel('Labels')\n",
        "plt.ylabel('Number')\n",
        "plt.show()"
      ]
    },
    {
      "cell_type": "code",
      "source": [
        "l_train"
      ],
      "metadata": {
        "colab": {
          "base_uri": "https://localhost:8080/"
        },
        "id": "-nLSjV_ZzPzx",
        "outputId": "5019fcd3-dacd-435a-941c-bc8336a37210"
      },
      "execution_count": 8,
      "outputs": [
        {
          "output_type": "execute_result",
          "data": {
            "text/plain": [
              "[9366, 9509, 10360, 10401, 8006, 12182, 7886, 9401, 12885]"
            ]
          },
          "metadata": {},
          "execution_count": 8
        }
      ]
    },
    {
      "cell_type": "markdown",
      "metadata": {
        "id": "IRQs3156zhpQ"
      },
      "source": [
        "#### 2. Preprocessing and Augmentation"
      ]
    },
    {
      "cell_type": "code",
      "execution_count": 39,
      "metadata": {
        "id": "tsbf5nJHzhpR"
      },
      "outputs": [],
      "source": [
        "data_transform = transforms.Compose([\n",
        "    #transforms.Resize(224),\n",
        "    transforms.RandomHorizontalFlip(p=0.5),\n",
        "    transforms.RandomRotation(degrees=(-20,20)),\n",
        "    transforms.ToTensor(),\n",
        "    transforms.Normalize(mean=[.5], std=[.5])\n",
        "])"
      ]
    },
    {
      "cell_type": "code",
      "execution_count": 40,
      "metadata": {
        "id": "zsDMvbSlzhpS"
      },
      "outputs": [],
      "source": [
        "train_dataset = PathMNIST(split='train', transform=data_transform, root='/content/drive/MyDrive/Datasets/')\n",
        "val_dataset = PathMNIST(split='val', transform=data_transform, root='/content/drive/MyDrive/Datasets/')\n",
        "test_dataset = PathMNIST(split='test', transform=data_transform, root='/content/drive/MyDrive/Datasets/')"
      ]
    },
    {
      "cell_type": "code",
      "execution_count": 41,
      "metadata": {
        "colab": {
          "base_uri": "https://localhost:8080/"
        },
        "id": "r12rzUYCzhpS",
        "outputId": "ff95125b-1e00-4240-d526-c9b9b911e94b"
      },
      "outputs": [
        {
          "output_type": "execute_result",
          "data": {
            "text/plain": [
              "torch.Size([3, 28, 28])"
            ]
          },
          "metadata": {},
          "execution_count": 41
        }
      ],
      "source": [
        "train_dataset[0][0].shape"
      ]
    },
    {
      "cell_type": "code",
      "execution_count": 49,
      "metadata": {
        "colab": {
          "base_uri": "https://localhost:8080/",
          "height": 45
        },
        "id": "rHp0Z_7CzhpT",
        "outputId": "ee5922ec-d12f-4a45-c185-e4b52156d7e3"
      },
      "outputs": [
        {
          "output_type": "execute_result",
          "data": {
            "text/plain": [
              "<PIL.Image.Image image mode=RGB size=28x28>"
            ],
            "image/png": "[encoded data removed]"
          },
          "metadata": {},
          "execution_count": 49
        }
      ],
      "source": [
        "train_dataset.montage(length=1)"
      ]
    },
    {
      "cell_type": "markdown",
      "metadata": {
        "id": "BLunBE1QzhpU"
      },
      "source": [
        "#### 3. Model Definition"
      ]
    },
    {
      "cell_type": "code",
      "execution_count": null,
      "metadata": {
        "id": "LihAXhxlzhpU"
      },
      "outputs": [],
      "source": [
        "from drive.MyDrive.B.Model_B import Path,ResnetPath,ViTPath"
      ]
    },
    {
      "cell_type": "code",
      "source": [
        "class ResnetPath1(nn.Module):\n",
        "    def __init__(self, pretrained, num_classes):\n",
        "        super(ResNetPath1, self).__init__()\n",
        "        self.resnet = pretrained\n",
        "        # Freeze\n",
        "        for param in self.resnet.parameters():\n",
        "            param.requires_grad = False\n",
        "\n",
        "        # Replace model classifier\n",
        "        self.resnet.fc = nn.Linear(2048, num_classes)\n",
        "\n",
        "        for param in self.resnet.fc.parameters():\n",
        "            param.requires_grad = True\n",
        "\n",
        "    def forward(self, x):\n",
        "        logits = self.resnet(x)\n",
        "        return logits\n",
        "\n",
        "\n",
        "class ResnetPath2(nn.Module):\n",
        "    def __init__(self, pretrained, num_classes):\n",
        "        super(ResnetPath2, self).__init__()\n",
        "        self.resnet = pretrained\n",
        "\n",
        "        # Replace model classifier\n",
        "        self.resnet.fc = nn.Linear(2048, num_classes)\n",
        "\n",
        "\n",
        "    def forward(self, x):\n",
        "        logits = self.resnet(x)\n",
        "        return logits\n",
        "\n",
        "\n",
        "class ResnetPath3(nn.Module):\n",
        "    def __init__(self, pretrained, num_classes):\n",
        "        super(ResnetPath3, self).__init__()\n",
        "        self.resnet = pretrained\n",
        "        # Replace model classifier\n",
        "        self.resnet.fc = nn.Sequential(\n",
        "            nn.Linear(2048, 128),\n",
        "            nn.ReLU(),\n",
        "            nn.Linear(128, 128),\n",
        "            nn.ReLU(),\n",
        "            nn.Linear(128, num_classes)\n",
        "        )\n",
        "\n",
        "    def forward(self, x):\n",
        "        logits = self.resnet(x)\n",
        "        return logits"
      ],
      "metadata": {
        "id": "O5vicZNRz3GT"
      },
      "execution_count": 56,
      "outputs": []
    },
    {
      "cell_type": "code",
      "source": [
        "class ResnetPath(nn.Module):\n",
        "    def __init__(self, pretrained, num_classes):\n",
        "        super(ResnetPath, self).__init__()\n",
        "        self.resnet = pretrained\n",
        "        # Replace model classifier\n",
        "        self.resnet.fc = nn.Sequential(\n",
        "            nn.Linear(2048, 128),\n",
        "            nn.ReLU(),\n",
        "            nn.Linear(128, 128),\n",
        "            nn.ReLU(),\n",
        "            nn.Linear(128, num_classes)\n",
        "        )\n",
        "\n",
        "    def forward(self, x):\n",
        "        logits = self.resnet(x)\n",
        "        return logits"
      ],
      "metadata": {
        "id": "-f0zzuoWt39d"
      },
      "execution_count": 37,
      "outputs": []
    },
    {
      "cell_type": "code",
      "source": [
        "from torchvision.models import resnet18\n",
        "\n",
        "pretrained = resnet18(pretrained=True)\n",
        "pretrained"
      ],
      "metadata": {
        "colab": {
          "base_uri": "https://localhost:8080/"
        },
        "id": "_jKko4nSuMUO",
        "outputId": "397c0746-a9b7-4fa4-bbb6-ffaec19d92f8"
      },
      "execution_count": 36,
      "outputs": [
        {
          "output_type": "stream",
          "name": "stderr",
          "text": [
            "/usr/local/lib/python3.10/dist-packages/torchvision/models/_utils.py:208: UserWarning: The parameter 'pretrained' is deprecated since 0.13 and may be removed in the future, please use 'weights' instead.\n",
            "  warnings.warn(\n",
            "/usr/local/lib/python3.10/dist-packages/torchvision/models/_utils.py:223: UserWarning: Arguments other than a weight enum or `None` for 'weights' are deprecated since 0.13 and may be removed in the future. The current behavior is equivalent to passing `weights=ResNet18_Weights.IMAGENET1K_V1`. You can also use `weights=ResNet18_Weights.DEFAULT` to get the most up-to-date weights.\n",
            "  warnings.warn(msg)\n",
            "Downloading: \"https://download.pytorch.org/models/resnet18-f37072fd.pth\" to /root/.cache/torch/hub/checkpoints/resnet18-f37072fd.pth\n",
            "100%|██████████| 44.7M/44.7M [00:00<00:00, 141MB/s]\n"
          ]
        },
        {
          "output_type": "execute_result",
          "data": {
            "text/plain": [
              "ResNet(\n",
              "  (conv1): Conv2d(3, 64, kernel_size=(7, 7), stride=(2, 2), padding=(3, 3), bias=False)\n",
              "  (bn1): BatchNorm2d(64, eps=1e-05, momentum=0.1, affine=True, track_running_stats=True)\n",
              "  (relu): ReLU(inplace=True)\n",
              "  (maxpool): MaxPool2d(kernel_size=3, stride=2, padding=1, dilation=1, ceil_mode=False)\n",
              "  (layer1): Sequential(\n",
              "    (0): BasicBlock(\n",
              "      (conv1): Conv2d(64, 64, kernel_size=(3, 3), stride=(1, 1), padding=(1, 1), bias=False)\n",
              "      (bn1): BatchNorm2d(64, eps=1e-05, momentum=0.1, affine=True, track_running_stats=True)\n",
              "      (relu): ReLU(inplace=True)\n",
              "      (conv2): Conv2d(64, 64, kernel_size=(3, 3), stride=(1, 1), padding=(1, 1), bias=False)\n",
              "      (bn2): BatchNorm2d(64, eps=1e-05, momentum=0.1, affine=True, track_running_stats=True)\n",
              "    )\n",
              "    (1): BasicBlock(\n",
              "      (conv1): Conv2d(64, 64, kernel_size=(3, 3), stride=(1, 1), padding=(1, 1), bias=False)\n",
              "      (bn1): BatchNorm2d(64, eps=1e-05, momentum=0.1, affine=True, track_running_stats=True)\n",
              "      (relu): ReLU(inplace=True)\n",
              "      (conv2): Conv2d(64, 64, kernel_size=(3, 3), stride=(1, 1), padding=(1, 1), bias=False)\n",
              "      (bn2): BatchNorm2d(64, eps=1e-05, momentum=0.1, affine=True, track_running_stats=True)\n",
              "    )\n",
              "  )\n",
              "  (layer2): Sequential(\n",
              "    (0): BasicBlock(\n",
              "      (conv1): Conv2d(64, 128, kernel_size=(3, 3), stride=(2, 2), padding=(1, 1), bias=False)\n",
              "      (bn1): BatchNorm2d(128, eps=1e-05, momentum=0.1, affine=True, track_running_stats=True)\n",
              "      (relu): ReLU(inplace=True)\n",
              "      (conv2): Conv2d(128, 128, kernel_size=(3, 3), stride=(1, 1), padding=(1, 1), bias=False)\n",
              "      (bn2): BatchNorm2d(128, eps=1e-05, momentum=0.1, affine=True, track_running_stats=True)\n",
              "      (downsample): Sequential(\n",
              "        (0): Conv2d(64, 128, kernel_size=(1, 1), stride=(2, 2), bias=False)\n",
              "        (1): BatchNorm2d(128, eps=1e-05, momentum=0.1, affine=True, track_running_stats=True)\n",
              "      )\n",
              "    )\n",
              "    (1): BasicBlock(\n",
              "      (conv1): Conv2d(128, 128, kernel_size=(3, 3), stride=(1, 1), padding=(1, 1), bias=False)\n",
              "      (bn1): BatchNorm2d(128, eps=1e-05, momentum=0.1, affine=True, track_running_stats=True)\n",
              "      (relu): ReLU(inplace=True)\n",
              "      (conv2): Conv2d(128, 128, kernel_size=(3, 3), stride=(1, 1), padding=(1, 1), bias=False)\n",
              "      (bn2): BatchNorm2d(128, eps=1e-05, momentum=0.1, affine=True, track_running_stats=True)\n",
              "    )\n",
              "  )\n",
              "  (layer3): Sequential(\n",
              "    (0): BasicBlock(\n",
              "      (conv1): Conv2d(128, 256, kernel_size=(3, 3), stride=(2, 2), padding=(1, 1), bias=False)\n",
              "      (bn1): BatchNorm2d(256, eps=1e-05, momentum=0.1, affine=True, track_running_stats=True)\n",
              "      (relu): ReLU(inplace=True)\n",
              "      (conv2): Conv2d(256, 256, kernel_size=(3, 3), stride=(1, 1), padding=(1, 1), bias=False)\n",
              "      (bn2): BatchNorm2d(256, eps=1e-05, momentum=0.1, affine=True, track_running_stats=True)\n",
              "      (downsample): Sequential(\n",
              "        (0): Conv2d(128, 256, kernel_size=(1, 1), stride=(2, 2), bias=False)\n",
              "        (1): BatchNorm2d(256, eps=1e-05, momentum=0.1, affine=True, track_running_stats=True)\n",
              "      )\n",
              "    )\n",
              "    (1): BasicBlock(\n",
              "      (conv1): Conv2d(256, 256, kernel_size=(3, 3), stride=(1, 1), padding=(1, 1), bias=False)\n",
              "      (bn1): BatchNorm2d(256, eps=1e-05, momentum=0.1, affine=True, track_running_stats=True)\n",
              "      (relu): ReLU(inplace=True)\n",
              "      (conv2): Conv2d(256, 256, kernel_size=(3, 3), stride=(1, 1), padding=(1, 1), bias=False)\n",
              "      (bn2): BatchNorm2d(256, eps=1e-05, momentum=0.1, affine=True, track_running_stats=True)\n",
              "    )\n",
              "  )\n",
              "  (layer4): Sequential(\n",
              "    (0): BasicBlock(\n",
              "      (conv1): Conv2d(256, 512, kernel_size=(3, 3), stride=(2, 2), padding=(1, 1), bias=False)\n",
              "      (bn1): BatchNorm2d(512, eps=1e-05, momentum=0.1, affine=True, track_running_stats=True)\n",
              "      (relu): ReLU(inplace=True)\n",
              "      (conv2): Conv2d(512, 512, kernel_size=(3, 3), stride=(1, 1), padding=(1, 1), bias=False)\n",
              "      (bn2): BatchNorm2d(512, eps=1e-05, momentum=0.1, affine=True, track_running_stats=True)\n",
              "      (downsample): Sequential(\n",
              "        (0): Conv2d(256, 512, kernel_size=(1, 1), stride=(2, 2), bias=False)\n",
              "        (1): BatchNorm2d(512, eps=1e-05, momentum=0.1, affine=True, track_running_stats=True)\n",
              "      )\n",
              "    )\n",
              "    (1): BasicBlock(\n",
              "      (conv1): Conv2d(512, 512, kernel_size=(3, 3), stride=(1, 1), padding=(1, 1), bias=False)\n",
              "      (bn1): BatchNorm2d(512, eps=1e-05, momentum=0.1, affine=True, track_running_stats=True)\n",
              "      (relu): ReLU(inplace=True)\n",
              "      (conv2): Conv2d(512, 512, kernel_size=(3, 3), stride=(1, 1), padding=(1, 1), bias=False)\n",
              "      (bn2): BatchNorm2d(512, eps=1e-05, momentum=0.1, affine=True, track_running_stats=True)\n",
              "    )\n",
              "  )\n",
              "  (avgpool): AdaptiveAvgPool2d(output_size=(1, 1))\n",
              "  (fc): Linear(in_features=512, out_features=1000, bias=True)\n",
              ")"
            ]
          },
          "metadata": {},
          "execution_count": 36
        }
      ]
    },
    {
      "cell_type": "code",
      "source": [
        "model = ResnetPath(pretrained,num_classes=n_classes)\n",
        "model"
      ],
      "metadata": {
        "id": "BdVJfsPVvuL7"
      },
      "execution_count": null,
      "outputs": []
    },
    {
      "cell_type": "markdown",
      "metadata": {
        "id": "nsdGZzc3zhpV"
      },
      "source": [
        "##### (1) ResNet50"
      ]
    },
    {
      "cell_type": "code",
      "execution_count": 26,
      "metadata": {
        "colab": {
          "base_uri": "https://localhost:8080/"
        },
        "id": "zWMXTH6EzhpV",
        "outputId": "e671db4d-cad0-4554-b587-a2fa491a4b9b"
      },
      "outputs": [
        {
          "output_type": "stream",
          "name": "stderr",
          "text": [
            "/usr/local/lib/python3.10/dist-packages/torchvision/models/_utils.py:208: UserWarning: The parameter 'pretrained' is deprecated since 0.13 and may be removed in the future, please use 'weights' instead.\n",
            "  warnings.warn(\n",
            "/usr/local/lib/python3.10/dist-packages/torchvision/models/_utils.py:223: UserWarning: Arguments other than a weight enum or `None` for 'weights' are deprecated since 0.13 and may be removed in the future. The current behavior is equivalent to passing `weights=ResNet50_Weights.IMAGENET1K_V1`. You can also use `weights=ResNet50_Weights.DEFAULT` to get the most up-to-date weights.\n",
            "  warnings.warn(msg)\n"
          ]
        }
      ],
      "source": [
        "from torchvision.models import resnet50\n",
        "\n",
        "pretrained_1 = resnet50(pretrained=True)\n",
        "\n",
        "model_1 = ResnetPath1(pretrained_1,num_classes=n_classes)\n",
        "model_2 = ResnetPath2(pretrained_1,num_classes=n_classes)\n",
        "model_3 = ResnetPath3(pretrained_1,num_classes=n_classes)"
      ]
    },
    {
      "cell_type": "code",
      "source": [
        "model_1 = ResnetPath1(pretrained_1,num_classes=n_classes)\n",
        "model_1"
      ],
      "metadata": {
        "id": "KJFIcmIdVXMD"
      },
      "execution_count": null,
      "outputs": []
    },
    {
      "cell_type": "code",
      "source": [
        "model_2 = ResnetPath2(pretrained_1,num_classes=n_classes)\n",
        "model_2"
      ],
      "metadata": {
        "id": "BIL4Ti1bD-xR"
      },
      "execution_count": null,
      "outputs": []
    },
    {
      "cell_type": "code",
      "source": [
        "model_3 = ResnetPath3(pretrained_1,num_classes=n_classes)\n",
        "model_3"
      ],
      "metadata": {
        "colab": {
          "base_uri": "https://localhost:8080/"
        },
        "id": "ty2lPfIVEIya",
        "outputId": "54cf78b3-51c6-409b-e489-cebcdebfb684"
      },
      "execution_count": 57,
      "outputs": [
        {
          "output_type": "execute_result",
          "data": {
            "text/plain": [
              "ResnetPath3(\n",
              "  (resnet): ResNet(\n",
              "    (conv1): Conv2d(3, 64, kernel_size=(7, 7), stride=(2, 2), padding=(3, 3), bias=False)\n",
              "    (bn1): BatchNorm2d(64, eps=1e-05, momentum=0.1, affine=True, track_running_stats=True)\n",
              "    (relu): ReLU(inplace=True)\n",
              "    (maxpool): MaxPool2d(kernel_size=3, stride=2, padding=1, dilation=1, ceil_mode=False)\n",
              "    (layer1): Sequential(\n",
              "      (0): Bottleneck(\n",
              "        (conv1): Conv2d(64, 64, kernel_size=(1, 1), stride=(1, 1), bias=False)\n",
              "        (bn1): BatchNorm2d(64, eps=1e-05, momentum=0.1, affine=True, track_running_stats=True)\n",
              "        (conv2): Conv2d(64, 64, kernel_size=(3, 3), stride=(1, 1), padding=(1, 1), bias=False)\n",
              "        (bn2): BatchNorm2d(64, eps=1e-05, momentum=0.1, affine=True, track_running_stats=True)\n",
              "        (conv3): Conv2d(64, 256, kernel_size=(1, 1), stride=(1, 1), bias=False)\n",
              "        (bn3): BatchNorm2d(256, eps=1e-05, momentum=0.1, affine=True, track_running_stats=True)\n",
              "        (relu): ReLU(inplace=True)\n",
              "        (downsample): Sequential(\n",
              "          (0): Conv2d(64, 256, kernel_size=(1, 1), stride=(1, 1), bias=False)\n",
              "          (1): BatchNorm2d(256, eps=1e-05, momentum=0.1, affine=True, track_running_stats=True)\n",
              "        )\n",
              "      )\n",
              "      (1): Bottleneck(\n",
              "        (conv1): Conv2d(256, 64, kernel_size=(1, 1), stride=(1, 1), bias=False)\n",
              "        (bn1): BatchNorm2d(64, eps=1e-05, momentum=0.1, affine=True, track_running_stats=True)\n",
              "        (conv2): Conv2d(64, 64, kernel_size=(3, 3), stride=(1, 1), padding=(1, 1), bias=False)\n",
              "        (bn2): BatchNorm2d(64, eps=1e-05, momentum=0.1, affine=True, track_running_stats=True)\n",
              "        (conv3): Conv2d(64, 256, kernel_size=(1, 1), stride=(1, 1), bias=False)\n",
              "        (bn3): BatchNorm2d(256, eps=1e-05, momentum=0.1, affine=True, track_running_stats=True)\n",
              "        (relu): ReLU(inplace=True)\n",
              "      )\n",
              "      (2): Bottleneck(\n",
              "        (conv1): Conv2d(256, 64, kernel_size=(1, 1), stride=(1, 1), bias=False)\n",
              "        (bn1): BatchNorm2d(64, eps=1e-05, momentum=0.1, affine=True, track_running_stats=True)\n",
              "        (conv2): Conv2d(64, 64, kernel_size=(3, 3), stride=(1, 1), padding=(1, 1), bias=False)\n",
              "        (bn2): BatchNorm2d(64, eps=1e-05, momentum=0.1, affine=True, track_running_stats=True)\n",
              "        (conv3): Conv2d(64, 256, kernel_size=(1, 1), stride=(1, 1), bias=False)\n",
              "        (bn3): BatchNorm2d(256, eps=1e-05, momentum=0.1, affine=True, track_running_stats=True)\n",
              "        (relu): ReLU(inplace=True)\n",
              "      )\n",
              "    )\n",
              "    (layer2): Sequential(\n",
              "      (0): Bottleneck(\n",
              "        (conv1): Conv2d(256, 128, kernel_size=(1, 1), stride=(1, 1), bias=False)\n",
              "        (bn1): BatchNorm2d(128, eps=1e-05, momentum=0.1, affine=True, track_running_stats=True)\n",
              "        (conv2): Conv2d(128, 128, kernel_size=(3, 3), stride=(2, 2), padding=(1, 1), bias=False)\n",
              "        (bn2): BatchNorm2d(128, eps=1e-05, momentum=0.1, affine=True, track_running_stats=True)\n",
              "        (conv3): Conv2d(128, 512, kernel_size=(1, 1), stride=(1, 1), bias=False)\n",
              "        (bn3): BatchNorm2d(512, eps=1e-05, momentum=0.1, affine=True, track_running_stats=True)\n",
              "        (relu): ReLU(inplace=True)\n",
              "        (downsample): Sequential(\n",
              "          (0): Conv2d(256, 512, kernel_size=(1, 1), stride=(2, 2), bias=False)\n",
              "          (1): BatchNorm2d(512, eps=1e-05, momentum=0.1, affine=True, track_running_stats=True)\n",
              "        )\n",
              "      )\n",
              "      (1): Bottleneck(\n",
              "        (conv1): Conv2d(512, 128, kernel_size=(1, 1), stride=(1, 1), bias=False)\n",
              "        (bn1): BatchNorm2d(128, eps=1e-05, momentum=0.1, affine=True, track_running_stats=True)\n",
              "        (conv2): Conv2d(128, 128, kernel_size=(3, 3), stride=(1, 1), padding=(1, 1), bias=False)\n",
              "        (bn2): BatchNorm2d(128, eps=1e-05, momentum=0.1, affine=True, track_running_stats=True)\n",
              "        (conv3): Conv2d(128, 512, kernel_size=(1, 1), stride=(1, 1), bias=False)\n",
              "        (bn3): BatchNorm2d(512, eps=1e-05, momentum=0.1, affine=True, track_running_stats=True)\n",
              "        (relu): ReLU(inplace=True)\n",
              "      )\n",
              "      (2): Bottleneck(\n",
              "        (conv1): Conv2d(512, 128, kernel_size=(1, 1), stride=(1, 1), bias=False)\n",
              "        (bn1): BatchNorm2d(128, eps=1e-05, momentum=0.1, affine=True, track_running_stats=True)\n",
              "        (conv2): Conv2d(128, 128, kernel_size=(3, 3), stride=(1, 1), padding=(1, 1), bias=False)\n",
              "        (bn2): BatchNorm2d(128, eps=1e-05, momentum=0.1, affine=True, track_running_stats=True)\n",
              "        (conv3): Conv2d(128, 512, kernel_size=(1, 1), stride=(1, 1), bias=False)\n",
              "        (bn3): BatchNorm2d(512, eps=1e-05, momentum=0.1, affine=True, track_running_stats=True)\n",
              "        (relu): ReLU(inplace=True)\n",
              "      )\n",
              "      (3): Bottleneck(\n",
              "        (conv1): Conv2d(512, 128, kernel_size=(1, 1), stride=(1, 1), bias=False)\n",
              "        (bn1): BatchNorm2d(128, eps=1e-05, momentum=0.1, affine=True, track_running_stats=True)\n",
              "        (conv2): Conv2d(128, 128, kernel_size=(3, 3), stride=(1, 1), padding=(1, 1), bias=False)\n",
              "        (bn2): BatchNorm2d(128, eps=1e-05, momentum=0.1, affine=True, track_running_stats=True)\n",
              "        (conv3): Conv2d(128, 512, kernel_size=(1, 1), stride=(1, 1), bias=False)\n",
              "        (bn3): BatchNorm2d(512, eps=1e-05, momentum=0.1, affine=True, track_running_stats=True)\n",
              "        (relu): ReLU(inplace=True)\n",
              "      )\n",
              "    )\n",
              "    (layer3): Sequential(\n",
              "      (0): Bottleneck(\n",
              "        (conv1): Conv2d(512, 256, kernel_size=(1, 1), stride=(1, 1), bias=False)\n",
              "        (bn1): BatchNorm2d(256, eps=1e-05, momentum=0.1, affine=True, track_running_stats=True)\n",
              "        (conv2): Conv2d(256, 256, kernel_size=(3, 3), stride=(2, 2), padding=(1, 1), bias=False)\n",
              "        (bn2): BatchNorm2d(256, eps=1e-05, momentum=0.1, affine=True, track_running_stats=True)\n",
              "        (conv3): Conv2d(256, 1024, kernel_size=(1, 1), stride=(1, 1), bias=False)\n",
              "        (bn3): BatchNorm2d(1024, eps=1e-05, momentum=0.1, affine=True, track_running_stats=True)\n",
              "        (relu): ReLU(inplace=True)\n",
              "        (downsample): Sequential(\n",
              "          (0): Conv2d(512, 1024, kernel_size=(1, 1), stride=(2, 2), bias=False)\n",
              "          (1): BatchNorm2d(1024, eps=1e-05, momentum=0.1, affine=True, track_running_stats=True)\n",
              "        )\n",
              "      )\n",
              "      (1): Bottleneck(\n",
              "        (conv1): Conv2d(1024, 256, kernel_size=(1, 1), stride=(1, 1), bias=False)\n",
              "        (bn1): BatchNorm2d(256, eps=1e-05, momentum=0.1, affine=True, track_running_stats=True)\n",
              "        (conv2): Conv2d(256, 256, kernel_size=(3, 3), stride=(1, 1), padding=(1, 1), bias=False)\n",
              "        (bn2): BatchNorm2d(256, eps=1e-05, momentum=0.1, affine=True, track_running_stats=True)\n",
              "        (conv3): Conv2d(256, 1024, kernel_size=(1, 1), stride=(1, 1), bias=False)\n",
              "        (bn3): BatchNorm2d(1024, eps=1e-05, momentum=0.1, affine=True, track_running_stats=True)\n",
              "        (relu): ReLU(inplace=True)\n",
              "      )\n",
              "      (2): Bottleneck(\n",
              "        (conv1): Conv2d(1024, 256, kernel_size=(1, 1), stride=(1, 1), bias=False)\n",
              "        (bn1): BatchNorm2d(256, eps=1e-05, momentum=0.1, affine=True, track_running_stats=True)\n",
              "        (conv2): Conv2d(256, 256, kernel_size=(3, 3), stride=(1, 1), padding=(1, 1), bias=False)\n",
              "        (bn2): BatchNorm2d(256, eps=1e-05, momentum=0.1, affine=True, track_running_stats=True)\n",
              "        (conv3): Conv2d(256, 1024, kernel_size=(1, 1), stride=(1, 1), bias=False)\n",
              "        (bn3): BatchNorm2d(1024, eps=1e-05, momentum=0.1, affine=True, track_running_stats=True)\n",
              "        (relu): ReLU(inplace=True)\n",
              "      )\n",
              "      (3): Bottleneck(\n",
              "        (conv1): Conv2d(1024, 256, kernel_size=(1, 1), stride=(1, 1), bias=False)\n",
              "        (bn1): BatchNorm2d(256, eps=1e-05, momentum=0.1, affine=True, track_running_stats=True)\n",
              "        (conv2): Conv2d(256, 256, kernel_size=(3, 3), stride=(1, 1), padding=(1, 1), bias=False)\n",
              "        (bn2): BatchNorm2d(256, eps=1e-05, momentum=0.1, affine=True, track_running_stats=True)\n",
              "        (conv3): Conv2d(256, 1024, kernel_size=(1, 1), stride=(1, 1), bias=False)\n",
              "        (bn3): BatchNorm2d(1024, eps=1e-05, momentum=0.1, affine=True, track_running_stats=True)\n",
              "        (relu): ReLU(inplace=True)\n",
              "      )\n",
              "      (4): Bottleneck(\n",
              "        (conv1): Conv2d(1024, 256, kernel_size=(1, 1), stride=(1, 1), bias=False)\n",
              "        (bn1): BatchNorm2d(256, eps=1e-05, momentum=0.1, affine=True, track_running_stats=True)\n",
              "        (conv2): Conv2d(256, 256, kernel_size=(3, 3), stride=(1, 1), padding=(1, 1), bias=False)\n",
              "        (bn2): BatchNorm2d(256, eps=1e-05, momentum=0.1, affine=True, track_running_stats=True)\n",
              "        (conv3): Conv2d(256, 1024, kernel_size=(1, 1), stride=(1, 1), bias=False)\n",
              "        (bn3): BatchNorm2d(1024, eps=1e-05, momentum=0.1, affine=True, track_running_stats=True)\n",
              "        (relu): ReLU(inplace=True)\n",
              "      )\n",
              "      (5): Bottleneck(\n",
              "        (conv1): Conv2d(1024, 256, kernel_size=(1, 1), stride=(1, 1), bias=False)\n",
              "        (bn1): BatchNorm2d(256, eps=1e-05, momentum=0.1, affine=True, track_running_stats=True)\n",
              "        (conv2): Conv2d(256, 256, kernel_size=(3, 3), stride=(1, 1), padding=(1, 1), bias=False)\n",
              "        (bn2): BatchNorm2d(256, eps=1e-05, momentum=0.1, affine=True, track_running_stats=True)\n",
              "        (conv3): Conv2d(256, 1024, kernel_size=(1, 1), stride=(1, 1), bias=False)\n",
              "        (bn3): BatchNorm2d(1024, eps=1e-05, momentum=0.1, affine=True, track_running_stats=True)\n",
              "        (relu): ReLU(inplace=True)\n",
              "      )\n",
              "    )\n",
              "    (layer4): Sequential(\n",
              "      (0): Bottleneck(\n",
              "        (conv1): Conv2d(1024, 512, kernel_size=(1, 1), stride=(1, 1), bias=False)\n",
              "        (bn1): BatchNorm2d(512, eps=1e-05, momentum=0.1, affine=True, track_running_stats=True)\n",
              "        (conv2): Conv2d(512, 512, kernel_size=(3, 3), stride=(2, 2), padding=(1, 1), bias=False)\n",
              "        (bn2): BatchNorm2d(512, eps=1e-05, momentum=0.1, affine=True, track_running_stats=True)\n",
              "        (conv3): Conv2d(512, 2048, kernel_size=(1, 1), stride=(1, 1), bias=False)\n",
              "        (bn3): BatchNorm2d(2048, eps=1e-05, momentum=0.1, affine=True, track_running_stats=True)\n",
              "        (relu): ReLU(inplace=True)\n",
              "        (downsample): Sequential(\n",
              "          (0): Conv2d(1024, 2048, kernel_size=(1, 1), stride=(2, 2), bias=False)\n",
              "          (1): BatchNorm2d(2048, eps=1e-05, momentum=0.1, affine=True, track_running_stats=True)\n",
              "        )\n",
              "      )\n",
              "      (1): Bottleneck(\n",
              "        (conv1): Conv2d(2048, 512, kernel_size=(1, 1), stride=(1, 1), bias=False)\n",
              "        (bn1): BatchNorm2d(512, eps=1e-05, momentum=0.1, affine=True, track_running_stats=True)\n",
              "        (conv2): Conv2d(512, 512, kernel_size=(3, 3), stride=(1, 1), padding=(1, 1), bias=False)\n",
              "        (bn2): BatchNorm2d(512, eps=1e-05, momentum=0.1, affine=True, track_running_stats=True)\n",
              "        (conv3): Conv2d(512, 2048, kernel_size=(1, 1), stride=(1, 1), bias=False)\n",
              "        (bn3): BatchNorm2d(2048, eps=1e-05, momentum=0.1, affine=True, track_running_stats=True)\n",
              "        (relu): ReLU(inplace=True)\n",
              "      )\n",
              "      (2): Bottleneck(\n",
              "        (conv1): Conv2d(2048, 512, kernel_size=(1, 1), stride=(1, 1), bias=False)\n",
              "        (bn1): BatchNorm2d(512, eps=1e-05, momentum=0.1, affine=True, track_running_stats=True)\n",
              "        (conv2): Conv2d(512, 512, kernel_size=(3, 3), stride=(1, 1), padding=(1, 1), bias=False)\n",
              "        (bn2): BatchNorm2d(512, eps=1e-05, momentum=0.1, affine=True, track_running_stats=True)\n",
              "        (conv3): Conv2d(512, 2048, kernel_size=(1, 1), stride=(1, 1), bias=False)\n",
              "        (bn3): BatchNorm2d(2048, eps=1e-05, momentum=0.1, affine=True, track_running_stats=True)\n",
              "        (relu): ReLU(inplace=True)\n",
              "      )\n",
              "    )\n",
              "    (avgpool): AdaptiveAvgPool2d(output_size=(1, 1))\n",
              "    (fc): Sequential(\n",
              "      (0): Linear(in_features=2048, out_features=128, bias=True)\n",
              "      (1): ReLU()\n",
              "      (2): Linear(in_features=128, out_features=128, bias=True)\n",
              "      (3): ReLU()\n",
              "      (4): Linear(in_features=128, out_features=9, bias=True)\n",
              "    )\n",
              "  )\n",
              ")"
            ]
          },
          "metadata": {},
          "execution_count": 57
        }
      ]
    },
    {
      "cell_type": "markdown",
      "metadata": {
        "id": "pkHk4NhbzhpW"
      },
      "source": [
        "#### 4. Training and Testing"
      ]
    },
    {
      "cell_type": "code",
      "execution_count": 42,
      "metadata": {
        "colab": {
          "base_uri": "https://localhost:8080/"
        },
        "id": "2xCx9e3wzhpX",
        "outputId": "bec40dcb-75f8-456d-a26c-b4a63866774f"
      },
      "outputs": [
        {
          "output_type": "execute_result",
          "data": {
            "text/plain": [
              "device(type='cuda', index=0)"
            ]
          },
          "metadata": {},
          "execution_count": 42
        }
      ],
      "source": [
        "device = torch.device('cuda:0' if torch.cuda.is_available() else 'cpu')\n",
        "device"
      ]
    },
    {
      "cell_type": "code",
      "execution_count": 43,
      "metadata": {
        "id": "1NBUctX2zhpX"
      },
      "outputs": [],
      "source": [
        "BATCH_SIZE = 64\n",
        "NUM_EPOCHS = 30\n",
        "lr = 0.0001\n",
        "\n",
        "train_loader = data.DataLoader(dataset=train_dataset, batch_size=BATCH_SIZE, shuffle=True)\n",
        "train_loader_at_eval = data.DataLoader(dataset=val_dataset, batch_size=BATCH_SIZE, shuffle=False)\n",
        "test_loader = data.DataLoader(dataset=test_dataset, batch_size=BATCH_SIZE, shuffle=False)"
      ]
    },
    {
      "cell_type": "code",
      "source": [
        "def test_B(model,device,split,data_loader):\n",
        "    testLoss=0\n",
        "    model.eval()\n",
        "    y_true = torch.tensor([])       # the ground truth labels\n",
        "    y_score = torch.tensor([])      # the predicted score of each class\n",
        "    y_true = y_true.to(device)\n",
        "    y_score = y_score.to(device)\n",
        "\n",
        "    evaluator = Evaluator('pathmnist', split, root='/content/drive/MyDrive/Datasets/')\n",
        "    if split == 'val':\n",
        "        criterion = nn.CrossEntropyLoss()\n",
        "        with torch.no_grad():\n",
        "            for inputs, targets in data_loader:\n",
        "                inputs = inputs.to(device)\n",
        "                targets = targets.to(device)\n",
        "\n",
        "                outputs = model(inputs)\n",
        "\n",
        "                targets = targets.squeeze().long()\n",
        "                batch_loss = criterion(outputs, targets)\n",
        "                testLoss += batch_loss.item()/len(data_loader)\n",
        "\n",
        "                outputs = outputs.softmax(dim=-1)\n",
        "                targets = targets.float().resize_(len(targets), 1)\n",
        "\n",
        "                y_true = torch.cat((y_true, targets), 0)\n",
        "                y_score = torch.cat((y_score, outputs), 0)\n",
        "\n",
        "            y_true = y_true.cpu().numpy()\n",
        "            y_score = y_score.detach().cpu().numpy()\n",
        "\n",
        "            metrics = evaluator.evaluate(y_score)\n",
        "\n",
        "            print('%s  auc: %.3f  acc:%.3f' % ('val', *metrics))\n",
        "\n",
        "\n",
        "            return testLoss\n",
        "\n",
        "\n",
        "    with torch.no_grad():\n",
        "        for inputs, targets in data_loader:\n",
        "            inputs = inputs.to(device)\n",
        "            targets = targets.to(device)\n",
        "\n",
        "            outputs = model(inputs)\n",
        "\n",
        "            targets = targets.squeeze().long()\n",
        "\n",
        "            outputs = outputs.softmax(dim=-1)\n",
        "            targets = targets.float().resize_(len(targets), 1)\n",
        "\n",
        "            y_true = torch.cat((y_true, targets), 0)\n",
        "            y_score = torch.cat((y_score, outputs), 0)\n",
        "\n",
        "        y_true = y_true.cpu().numpy()\n",
        "        y_score = y_score.detach().cpu().numpy()\n",
        "\n",
        "        metrics = evaluator.evaluate(y_score)\n",
        "\n",
        "        print('%s  auc: %.3f  acc:%.3f' % ('test', *metrics))\n"
      ],
      "metadata": {
        "id": "61pdTczl-0Zp"
      },
      "execution_count": 19,
      "outputs": []
    },
    {
      "cell_type": "code",
      "source": [
        "import matplotlib.pyplot as plt\n",
        "from sklearn.metrics import accuracy_score\n",
        "\n",
        "def Train_B(model,train_loader,val_loader,test_loader,NUM_EPOCHS,criterion,optimizer,device):\n",
        "    model = model.to(device)\n",
        "    PlotTrainLoss=[]\n",
        "    PlotValLoss=[]\n",
        "    BATCH_SIZE = len(train_loader)\n",
        "    # For each epoch\n",
        "    for epoch in range(NUM_EPOCHS):\n",
        "        avg_loss = 0\n",
        "        train_correct = 0\n",
        "        all_count = 0\n",
        "\n",
        "        # Train mode  -->  forward + backward + optimize\n",
        "        print(\"-----------------------Epoch{}-----------------------\".format(epoch+1))\n",
        "        model.train()\n",
        "        for inputs, targets in tqdm(train_loader):\n",
        "            # Data to device\n",
        "            inputs = inputs.to(device)\n",
        "            targets = targets.to(device)\n",
        "\n",
        "            # Set parameter gradients to zero\n",
        "            optimizer.zero_grad()\n",
        "\n",
        "            # Forward\n",
        "            outputs = model(inputs)\n",
        "            targets = targets.squeeze().long()\n",
        "            # Forward-pass (criterion: loss function, such as CrossEntropyLoss)\n",
        "            loss = criterion(outputs, targets)\n",
        "\n",
        "            # Backward-pass\n",
        "            loss.backward()\n",
        "\n",
        "            # Update weights\n",
        "            optimizer.step()\n",
        "\n",
        "            avg_loss += loss.item()\n",
        "\n",
        "            # Compute ACC of Training_set\n",
        "            outputs = torch.argmax(outputs.softmax(dim=-1),dim=1)\n",
        "            all_count += len(targets)\n",
        "            correct = len(targets)-torch.count_nonzero(outputs-targets)\n",
        "            train_correct += correct\n",
        "\n",
        "        # Compute ACC of Training_set\n",
        "        acc_train = train_correct/all_count\n",
        "        print(\"Training Accuracy: \",acc_train)\n",
        "        # Compute Loss (sum(loss)/batch_size)\n",
        "        avg_loss = avg_loss/BATCH_SIZE\n",
        "        # Test on validation_set\n",
        "        avg_loss_val = test_B(model,device,'val',val_loader)\n",
        "\n",
        "        PlotTrainLoss.append(avg_loss)\n",
        "        PlotValLoss.append(avg_loss_val)\n",
        "\n",
        "        test_B(model,device,'test',test_loader)\n",
        "\n",
        "    return PlotTrainLoss,PlotValLoss\n",
        "\n",
        "# Plot\n",
        "def plot_loss(NUM_EPOCHS,PlotTrainLoss,PlotValLoss):\n",
        "    plt.plot(range(1,NUM_EPOCHS+1),PlotTrainLoss,label='TrainLoss')\n",
        "    plt.plot(range(1,NUM_EPOCHS+1), PlotValLoss, label='ValLoss')\n",
        "    plt.title(\"Training and Validation Loss\")\n",
        "    plt.xlabel(\"Epoch\")\n",
        "    plt.legend()\n",
        "    plt.show()"
      ],
      "metadata": {
        "id": "36UQUPTa-6Fk"
      },
      "execution_count": 18,
      "outputs": []
    },
    {
      "cell_type": "code",
      "source": [
        "# Before Training\n",
        "from sklearn.metrics import accuracy_score\n",
        "model = model\n",
        "BATCH_SIZE = len(train_loader)\n",
        "model.to(device)\n",
        "train_correct = 0\n",
        "all_count = 0\n",
        "\n",
        "for x,y in test_loader:\n",
        "  x = x.to(device)\n",
        "  y = y.to(device)\n",
        "\n",
        "\n",
        "  y = y.squeeze().long()\n",
        "  #print(y)\n",
        "  out = model(x)\n",
        "  out = torch.argmax(out.softmax(dim=-1),dim=1)\n",
        "  #print(out)\n",
        "  all_count += len(y)\n",
        "  #print((64-torch.count_nonzero(out-y))/64)\n",
        "  correct = len(y)-torch.count_nonzero(out-y).item()\n",
        "  train_correct += correct\n",
        "  #out = out.cpu().numpy()\n",
        "  #y = y.cpu().numpy()\n",
        "acc_train = train_correct/all_count\n",
        "print(train_correct)\n",
        "print(all_count)\n",
        "print(acc_train)\n",
        "\n"
      ],
      "metadata": {
        "id": "jPaEdLzH142q"
      },
      "execution_count": null,
      "outputs": []
    },
    {
      "cell_type": "code",
      "source": [
        "# Model_1\n",
        "model = model_1\n",
        "# Define the optimizer\n",
        "optimizer = optim.Adam(model.parameters(), lr=lr)\n",
        "# Define the loss function\n",
        "criterion = nn.CrossEntropyLoss()\n",
        "# Train\n",
        "TrainLoss1,ValLoss1 = Train_B(model,train_loader,train_loader_at_eval,test_loader,NUM_EPOCHS,criterion,optimizer,device)"
      ],
      "metadata": {
        "colab": {
          "base_uri": "https://localhost:8080/"
        },
        "id": "-K8PwxqZ5yWm",
        "outputId": "aac028da-7bb1-45ab-87dc-c5bc1279466e"
      },
      "execution_count": 34,
      "outputs": [
        {
          "output_type": "stream",
          "name": "stdout",
          "text": [
            "-----------------------Epoch1-----------------------\n"
          ]
        },
        {
          "output_type": "stream",
          "name": "stderr",
          "text": [
            "100%|██████████| 1407/1407 [01:00<00:00, 23.30it/s]\n"
          ]
        },
        {
          "output_type": "stream",
          "name": "stdout",
          "text": [
            "Training Accuracy:  tensor(0.5816, device='cuda:0')\n",
            "val  auc: 0.921  acc:0.654\n",
            "test  auc: 0.919  acc:0.684\n",
            "-----------------------Epoch2-----------------------\n"
          ]
        },
        {
          "output_type": "stream",
          "name": "stderr",
          "text": [
            "100%|██████████| 1407/1407 [00:59<00:00, 23.84it/s]\n"
          ]
        },
        {
          "output_type": "stream",
          "name": "stdout",
          "text": [
            "Training Accuracy:  tensor(0.6515, device='cuda:0')\n",
            "val  auc: 0.932  acc:0.672\n",
            "test  auc: 0.928  acc:0.703\n",
            "-----------------------Epoch3-----------------------\n"
          ]
        },
        {
          "output_type": "stream",
          "name": "stderr",
          "text": [
            "100%|██████████| 1407/1407 [00:59<00:00, 23.53it/s]\n"
          ]
        },
        {
          "output_type": "stream",
          "name": "stdout",
          "text": [
            "Training Accuracy:  tensor(0.6664, device='cuda:0')\n",
            "val  auc: 0.936  acc:0.684\n",
            "test  auc: 0.939  acc:0.717\n",
            "-----------------------Epoch4-----------------------\n"
          ]
        },
        {
          "output_type": "stream",
          "name": "stderr",
          "text": [
            "100%|██████████| 1407/1407 [01:00<00:00, 23.41it/s]\n"
          ]
        },
        {
          "output_type": "stream",
          "name": "stdout",
          "text": [
            "Training Accuracy:  tensor(0.6723, device='cuda:0')\n",
            "val  auc: 0.936  acc:0.684\n",
            "test  auc: 0.936  acc:0.723\n",
            "-----------------------Epoch5-----------------------\n"
          ]
        },
        {
          "output_type": "stream",
          "name": "stderr",
          "text": [
            "100%|██████████| 1407/1407 [00:58<00:00, 23.91it/s]\n"
          ]
        },
        {
          "output_type": "stream",
          "name": "stdout",
          "text": [
            "Training Accuracy:  tensor(0.6804, device='cuda:0')\n",
            "val  auc: 0.936  acc:0.695\n",
            "test  auc: 0.934  acc:0.723\n",
            "-----------------------Epoch6-----------------------\n"
          ]
        },
        {
          "output_type": "stream",
          "name": "stderr",
          "text": [
            "100%|██████████| 1407/1407 [00:58<00:00, 23.99it/s]\n"
          ]
        },
        {
          "output_type": "stream",
          "name": "stdout",
          "text": [
            "Training Accuracy:  tensor(0.6819, device='cuda:0')\n",
            "val  auc: 0.945  acc:0.706\n",
            "test  auc: 0.944  acc:0.736\n",
            "-----------------------Epoch7-----------------------\n"
          ]
        },
        {
          "output_type": "stream",
          "name": "stderr",
          "text": [
            "100%|██████████| 1407/1407 [01:00<00:00, 23.34it/s]\n"
          ]
        },
        {
          "output_type": "stream",
          "name": "stdout",
          "text": [
            "Training Accuracy:  tensor(0.6857, device='cuda:0')\n",
            "val  auc: 0.947  acc:0.709\n",
            "test  auc: 0.945  acc:0.729\n",
            "-----------------------Epoch8-----------------------\n"
          ]
        },
        {
          "output_type": "stream",
          "name": "stderr",
          "text": [
            "100%|██████████| 1407/1407 [00:58<00:00, 23.89it/s]\n"
          ]
        },
        {
          "output_type": "stream",
          "name": "stdout",
          "text": [
            "Training Accuracy:  tensor(0.6907, device='cuda:0')\n",
            "val  auc: 0.945  acc:0.704\n",
            "test  auc: 0.950  acc:0.744\n",
            "-----------------------Epoch9-----------------------\n"
          ]
        },
        {
          "output_type": "stream",
          "name": "stderr",
          "text": [
            "100%|██████████| 1407/1407 [00:58<00:00, 24.09it/s]\n"
          ]
        },
        {
          "output_type": "stream",
          "name": "stdout",
          "text": [
            "Training Accuracy:  tensor(0.6910, device='cuda:0')\n",
            "val  auc: 0.948  acc:0.708\n",
            "test  auc: 0.947  acc:0.739\n",
            "-----------------------Epoch10-----------------------\n"
          ]
        },
        {
          "output_type": "stream",
          "name": "stderr",
          "text": [
            "100%|██████████| 1407/1407 [00:58<00:00, 23.96it/s]\n"
          ]
        },
        {
          "output_type": "stream",
          "name": "stdout",
          "text": [
            "Training Accuracy:  tensor(0.6948, device='cuda:0')\n",
            "val  auc: 0.946  acc:0.709\n",
            "test  auc: 0.944  acc:0.731\n",
            "-----------------------Epoch11-----------------------\n"
          ]
        },
        {
          "output_type": "stream",
          "name": "stderr",
          "text": [
            "100%|██████████| 1407/1407 [00:59<00:00, 23.74it/s]\n"
          ]
        },
        {
          "output_type": "stream",
          "name": "stdout",
          "text": [
            "Training Accuracy:  tensor(0.6970, device='cuda:0')\n",
            "val  auc: 0.940  acc:0.712\n",
            "test  auc: 0.940  acc:0.721\n",
            "-----------------------Epoch12-----------------------\n"
          ]
        },
        {
          "output_type": "stream",
          "name": "stderr",
          "text": [
            "100%|██████████| 1407/1407 [00:57<00:00, 24.52it/s]\n"
          ]
        },
        {
          "output_type": "stream",
          "name": "stdout",
          "text": [
            "Training Accuracy:  tensor(0.6980, device='cuda:0')\n",
            "val  auc: 0.946  acc:0.711\n",
            "test  auc: 0.953  acc:0.734\n",
            "-----------------------Epoch13-----------------------\n"
          ]
        },
        {
          "output_type": "stream",
          "name": "stderr",
          "text": [
            "100%|██████████| 1407/1407 [00:56<00:00, 24.98it/s]\n"
          ]
        },
        {
          "output_type": "stream",
          "name": "stdout",
          "text": [
            "Training Accuracy:  tensor(0.6981, device='cuda:0')\n",
            "val  auc: 0.948  acc:0.706\n",
            "test  auc: 0.946  acc:0.733\n",
            "-----------------------Epoch14-----------------------\n"
          ]
        },
        {
          "output_type": "stream",
          "name": "stderr",
          "text": [
            "100%|██████████| 1407/1407 [00:56<00:00, 25.09it/s]\n"
          ]
        },
        {
          "output_type": "stream",
          "name": "stdout",
          "text": [
            "Training Accuracy:  tensor(0.6997, device='cuda:0')\n",
            "val  auc: 0.947  acc:0.708\n",
            "test  auc: 0.950  acc:0.730\n",
            "-----------------------Epoch15-----------------------\n"
          ]
        },
        {
          "output_type": "stream",
          "name": "stderr",
          "text": [
            "100%|██████████| 1407/1407 [00:55<00:00, 25.50it/s]\n"
          ]
        },
        {
          "output_type": "stream",
          "name": "stdout",
          "text": [
            "Training Accuracy:  tensor(0.6987, device='cuda:0')\n",
            "val  auc: 0.951  acc:0.720\n",
            "test  auc: 0.951  acc:0.746\n"
          ]
        }
      ]
    },
    {
      "cell_type": "code",
      "source": [
        "plot_loss(NUM_EPOCHS,TrainLoss1,ValLoss1)"
      ],
      "metadata": {
        "colab": {
          "base_uri": "https://localhost:8080/",
          "height": 472
        },
        "id": "B6DemjAW-R-l",
        "outputId": "3591ca24-7bb5-40bb-b749-92e73c134bb1"
      },
      "execution_count": 35,
      "outputs": [
        {
          "output_type": "display_data",
          "data": {
            "text/plain": [
              "<Figure size 640x480 with 1 Axes>"
            ],
            "image/png": "[encoded data removed]"
          },
          "metadata": {}
        }
      ]
    },
    {
      "cell_type": "code",
      "source": [
        "# Model_2\n",
        "model = model_2\n",
        "# Define the optimizer\n",
        "optimizer = optim.Adam(model.parameters(), lr=lr)\n",
        "# Define the loss function\n",
        "criterion = nn.CrossEntropyLoss()\n",
        "# Train\n",
        "TrainLoss2,ValLoss2 = Train_B(model,train_loader,train_loader_at_eval,test_loader,NUM_EPOCHS,criterion,optimizer,device)"
      ],
      "metadata": {
        "colab": {
          "base_uri": "https://localhost:8080/"
        },
        "id": "1g0N_Jm2D5jQ",
        "outputId": "1d62fcdb-0c6a-4835-b76c-5e582c83e4dd"
      },
      "execution_count": 51,
      "outputs": [
        {
          "output_type": "stream",
          "name": "stdout",
          "text": [
            "-----------------------Epoch1-----------------------\n"
          ]
        },
        {
          "output_type": "stream",
          "name": "stderr",
          "text": [
            "100%|██████████| 1407/1407 [00:56<00:00, 24.96it/s]\n"
          ]
        },
        {
          "output_type": "stream",
          "name": "stdout",
          "text": [
            "Training Accuracy:  tensor(0.5822, device='cuda:0')\n",
            "val  auc: 0.925  acc:0.656\n",
            "test  auc: 0.928  acc:0.695\n",
            "-----------------------Epoch2-----------------------\n"
          ]
        },
        {
          "output_type": "stream",
          "name": "stderr",
          "text": [
            "100%|██████████| 1407/1407 [00:56<00:00, 24.98it/s]\n"
          ]
        },
        {
          "output_type": "stream",
          "name": "stdout",
          "text": [
            "Training Accuracy:  tensor(0.6516, device='cuda:0')\n",
            "val  auc: 0.934  acc:0.677\n",
            "test  auc: 0.934  acc:0.705\n",
            "-----------------------Epoch3-----------------------\n"
          ]
        },
        {
          "output_type": "stream",
          "name": "stderr",
          "text": [
            "100%|██████████| 1407/1407 [00:56<00:00, 25.07it/s]\n"
          ]
        },
        {
          "output_type": "stream",
          "name": "stdout",
          "text": [
            "Training Accuracy:  tensor(0.6652, device='cuda:0')\n",
            "val  auc: 0.931  acc:0.678\n",
            "test  auc: 0.931  acc:0.699\n",
            "-----------------------Epoch4-----------------------\n"
          ]
        },
        {
          "output_type": "stream",
          "name": "stderr",
          "text": [
            "100%|██████████| 1407/1407 [00:57<00:00, 24.61it/s]\n"
          ]
        },
        {
          "output_type": "stream",
          "name": "stdout",
          "text": [
            "Training Accuracy:  tensor(0.6741, device='cuda:0')\n",
            "val  auc: 0.936  acc:0.690\n",
            "test  auc: 0.933  acc:0.712\n",
            "-----------------------Epoch5-----------------------\n"
          ]
        },
        {
          "output_type": "stream",
          "name": "stderr",
          "text": [
            "100%|██████████| 1407/1407 [00:56<00:00, 25.10it/s]\n"
          ]
        },
        {
          "output_type": "stream",
          "name": "stdout",
          "text": [
            "Training Accuracy:  tensor(0.6827, device='cuda:0')\n",
            "val  auc: 0.944  acc:0.699\n",
            "test  auc: 0.941  acc:0.728\n",
            "-----------------------Epoch6-----------------------\n"
          ]
        },
        {
          "output_type": "stream",
          "name": "stderr",
          "text": [
            "100%|██████████| 1407/1407 [00:55<00:00, 25.33it/s]\n"
          ]
        },
        {
          "output_type": "stream",
          "name": "stdout",
          "text": [
            "Training Accuracy:  tensor(0.6856, device='cuda:0')\n",
            "val  auc: 0.943  acc:0.696\n",
            "test  auc: 0.942  acc:0.724\n",
            "-----------------------Epoch7-----------------------\n"
          ]
        },
        {
          "output_type": "stream",
          "name": "stderr",
          "text": [
            "100%|██████████| 1407/1407 [00:55<00:00, 25.15it/s]\n"
          ]
        },
        {
          "output_type": "stream",
          "name": "stdout",
          "text": [
            "Training Accuracy:  tensor(0.6860, device='cuda:0')\n",
            "val  auc: 0.940  acc:0.702\n",
            "test  auc: 0.943  acc:0.735\n",
            "-----------------------Epoch8-----------------------\n"
          ]
        },
        {
          "output_type": "stream",
          "name": "stderr",
          "text": [
            "100%|██████████| 1407/1407 [00:56<00:00, 24.80it/s]\n"
          ]
        },
        {
          "output_type": "stream",
          "name": "stdout",
          "text": [
            "Training Accuracy:  tensor(0.6911, device='cuda:0')\n",
            "val  auc: 0.943  acc:0.698\n",
            "test  auc: 0.946  acc:0.737\n",
            "-----------------------Epoch9-----------------------\n"
          ]
        },
        {
          "output_type": "stream",
          "name": "stderr",
          "text": [
            "100%|██████████| 1407/1407 [00:57<00:00, 24.47it/s]\n"
          ]
        },
        {
          "output_type": "stream",
          "name": "stdout",
          "text": [
            "Training Accuracy:  tensor(0.6920, device='cuda:0')\n",
            "val  auc: 0.944  acc:0.709\n",
            "test  auc: 0.944  acc:0.734\n",
            "-----------------------Epoch10-----------------------\n"
          ]
        },
        {
          "output_type": "stream",
          "name": "stderr",
          "text": [
            "100%|██████████| 1407/1407 [00:58<00:00, 24.20it/s]\n"
          ]
        },
        {
          "output_type": "stream",
          "name": "stdout",
          "text": [
            "Training Accuracy:  tensor(0.6942, device='cuda:0')\n",
            "val  auc: 0.944  acc:0.702\n",
            "test  auc: 0.947  acc:0.722\n",
            "-----------------------Epoch11-----------------------\n"
          ]
        },
        {
          "output_type": "stream",
          "name": "stderr",
          "text": [
            "100%|██████████| 1407/1407 [00:55<00:00, 25.21it/s]\n"
          ]
        },
        {
          "output_type": "stream",
          "name": "stdout",
          "text": [
            "Training Accuracy:  tensor(0.6958, device='cuda:0')\n",
            "val  auc: 0.950  acc:0.720\n",
            "test  auc: 0.948  acc:0.749\n",
            "-----------------------Epoch12-----------------------\n"
          ]
        },
        {
          "output_type": "stream",
          "name": "stderr",
          "text": [
            "100%|██████████| 1407/1407 [00:56<00:00, 25.07it/s]\n"
          ]
        },
        {
          "output_type": "stream",
          "name": "stdout",
          "text": [
            "Training Accuracy:  tensor(0.6960, device='cuda:0')\n",
            "val  auc: 0.950  acc:0.712\n",
            "test  auc: 0.949  acc:0.739\n",
            "-----------------------Epoch13-----------------------\n"
          ]
        },
        {
          "output_type": "stream",
          "name": "stderr",
          "text": [
            "100%|██████████| 1407/1407 [00:55<00:00, 25.15it/s]\n"
          ]
        },
        {
          "output_type": "stream",
          "name": "stdout",
          "text": [
            "Training Accuracy:  tensor(0.6989, device='cuda:0')\n",
            "val  auc: 0.949  acc:0.715\n",
            "test  auc: 0.949  acc:0.738\n",
            "-----------------------Epoch14-----------------------\n"
          ]
        },
        {
          "output_type": "stream",
          "name": "stderr",
          "text": [
            "100%|██████████| 1407/1407 [00:56<00:00, 24.81it/s]\n"
          ]
        },
        {
          "output_type": "stream",
          "name": "stdout",
          "text": [
            "Training Accuracy:  tensor(0.6993, device='cuda:0')\n",
            "val  auc: 0.949  acc:0.712\n",
            "test  auc: 0.953  acc:0.733\n",
            "-----------------------Epoch15-----------------------\n"
          ]
        },
        {
          "output_type": "stream",
          "name": "stderr",
          "text": [
            "100%|██████████| 1407/1407 [00:58<00:00, 23.94it/s]\n"
          ]
        },
        {
          "output_type": "stream",
          "name": "stdout",
          "text": [
            "Training Accuracy:  tensor(0.7002, device='cuda:0')\n",
            "val  auc: 0.946  acc:0.716\n",
            "test  auc: 0.942  acc:0.733\n"
          ]
        }
      ]
    },
    {
      "cell_type": "code",
      "source": [
        "plot_loss(NUM_EPOCHS,TrainLoss2,ValLoss2)"
      ],
      "metadata": {
        "colab": {
          "base_uri": "https://localhost:8080/",
          "height": 472
        },
        "id": "TrO9OcybJFH-",
        "outputId": "bc611c7f-9c5e-4ee3-c34f-b61b6514d41d"
      },
      "execution_count": 55,
      "outputs": [
        {
          "output_type": "display_data",
          "data": {
            "text/plain": [
              "<Figure size 640x480 with 1 Axes>"
            ],
            "image/png": "[encoded data removed]"
          },
          "metadata": {}
        }
      ]
    },
    {
      "cell_type": "code",
      "source": [
        "# Model_3\n",
        "model = model_3\n",
        "# Define the optimizer\n",
        "optimizer = optim.Adam(model.parameters(), lr=lr)\n",
        "# Define the loss function\n",
        "criterion = nn.CrossEntropyLoss()\n",
        "# Train\n",
        "TrainLoss3,ValLoss3 = Train_B(model,train_loader,train_loader_at_eval,test_loader,NUM_EPOCHS,criterion,optimizer,device)"
      ],
      "metadata": {
        "colab": {
          "base_uri": "https://localhost:8080/"
        },
        "id": "QfUrVHbFKhJl",
        "outputId": "8842f7f6-2901-48a5-bcb4-546ce95d6a91"
      },
      "execution_count": 61,
      "outputs": [
        {
          "output_type": "stream",
          "name": "stdout",
          "text": [
            "-----------------------Epoch1-----------------------\n"
          ]
        },
        {
          "output_type": "stream",
          "name": "stderr",
          "text": [
            "100%|██████████| 1407/1407 [01:03<00:00, 22.25it/s]\n"
          ]
        },
        {
          "output_type": "stream",
          "name": "stdout",
          "text": [
            "Training Accuracy:  tensor(0.6129, device='cuda:0')\n",
            "val  auc: 0.928  acc:0.671\n",
            "test  auc: 0.928  acc:0.697\n",
            "-----------------------Epoch2-----------------------\n"
          ]
        },
        {
          "output_type": "stream",
          "name": "stderr",
          "text": [
            "100%|██████████| 1407/1407 [01:02<00:00, 22.35it/s]\n"
          ]
        },
        {
          "output_type": "stream",
          "name": "stdout",
          "text": [
            "Training Accuracy:  tensor(0.6703, device='cuda:0')\n",
            "val  auc: 0.942  acc:0.696\n",
            "test  auc: 0.951  acc:0.747\n",
            "-----------------------Epoch3-----------------------\n"
          ]
        },
        {
          "output_type": "stream",
          "name": "stderr",
          "text": [
            "100%|██████████| 1407/1407 [01:03<00:00, 22.27it/s]\n"
          ]
        },
        {
          "output_type": "stream",
          "name": "stdout",
          "text": [
            "Training Accuracy:  tensor(0.6833, device='cuda:0')\n",
            "val  auc: 0.943  acc:0.703\n",
            "test  auc: 0.948  acc:0.718\n",
            "-----------------------Epoch4-----------------------\n"
          ]
        },
        {
          "output_type": "stream",
          "name": "stderr",
          "text": [
            "100%|██████████| 1407/1407 [01:03<00:00, 22.28it/s]\n"
          ]
        },
        {
          "output_type": "stream",
          "name": "stdout",
          "text": [
            "Training Accuracy:  tensor(0.6901, device='cuda:0')\n",
            "val  auc: 0.950  acc:0.716\n",
            "test  auc: 0.951  acc:0.733\n",
            "-----------------------Epoch5-----------------------\n"
          ]
        },
        {
          "output_type": "stream",
          "name": "stderr",
          "text": [
            "100%|██████████| 1407/1407 [01:03<00:00, 22.20it/s]\n"
          ]
        },
        {
          "output_type": "stream",
          "name": "stdout",
          "text": [
            "Training Accuracy:  tensor(0.6960, device='cuda:0')\n",
            "val  auc: 0.950  acc:0.719\n",
            "test  auc: 0.958  acc:0.748\n",
            "-----------------------Epoch6-----------------------\n"
          ]
        },
        {
          "output_type": "stream",
          "name": "stderr",
          "text": [
            "100%|██████████| 1407/1407 [01:03<00:00, 22.24it/s]\n"
          ]
        },
        {
          "output_type": "stream",
          "name": "stdout",
          "text": [
            "Training Accuracy:  tensor(0.7000, device='cuda:0')\n",
            "val  auc: 0.947  acc:0.718\n",
            "test  auc: 0.958  acc:0.753\n",
            "-----------------------Epoch7-----------------------\n"
          ]
        },
        {
          "output_type": "stream",
          "name": "stderr",
          "text": [
            "100%|██████████| 1407/1407 [01:03<00:00, 22.23it/s]\n"
          ]
        },
        {
          "output_type": "stream",
          "name": "stdout",
          "text": [
            "Training Accuracy:  tensor(0.7044, device='cuda:0')\n",
            "val  auc: 0.955  acc:0.721\n",
            "test  auc: 0.958  acc:0.747\n",
            "-----------------------Epoch8-----------------------\n"
          ]
        },
        {
          "output_type": "stream",
          "name": "stderr",
          "text": [
            "100%|██████████| 1407/1407 [01:04<00:00, 21.89it/s]\n"
          ]
        },
        {
          "output_type": "stream",
          "name": "stdout",
          "text": [
            "Training Accuracy:  tensor(0.7073, device='cuda:0')\n",
            "val  auc: 0.957  acc:0.737\n",
            "test  auc: 0.959  acc:0.747\n",
            "-----------------------Epoch9-----------------------\n"
          ]
        },
        {
          "output_type": "stream",
          "name": "stderr",
          "text": [
            "100%|██████████| 1407/1407 [01:04<00:00, 21.85it/s]\n"
          ]
        },
        {
          "output_type": "stream",
          "name": "stdout",
          "text": [
            "Training Accuracy:  tensor(0.7123, device='cuda:0')\n",
            "val  auc: 0.957  acc:0.732\n",
            "test  auc: 0.960  acc:0.761\n",
            "-----------------------Epoch10-----------------------\n"
          ]
        },
        {
          "output_type": "stream",
          "name": "stderr",
          "text": [
            "100%|██████████| 1407/1407 [01:04<00:00, 21.98it/s]\n"
          ]
        },
        {
          "output_type": "stream",
          "name": "stdout",
          "text": [
            "Training Accuracy:  tensor(0.7144, device='cuda:0')\n",
            "val  auc: 0.957  acc:0.735\n",
            "test  auc: 0.960  acc:0.752\n",
            "-----------------------Epoch11-----------------------\n"
          ]
        },
        {
          "output_type": "stream",
          "name": "stderr",
          "text": [
            "100%|██████████| 1407/1407 [01:03<00:00, 22.06it/s]\n"
          ]
        },
        {
          "output_type": "stream",
          "name": "stdout",
          "text": [
            "Training Accuracy:  tensor(0.7165, device='cuda:0')\n",
            "val  auc: 0.959  acc:0.732\n",
            "test  auc: 0.962  acc:0.764\n",
            "-----------------------Epoch12-----------------------\n"
          ]
        },
        {
          "output_type": "stream",
          "name": "stderr",
          "text": [
            "100%|██████████| 1407/1407 [01:03<00:00, 22.02it/s]\n"
          ]
        },
        {
          "output_type": "stream",
          "name": "stdout",
          "text": [
            "Training Accuracy:  tensor(0.7176, device='cuda:0')\n",
            "val  auc: 0.956  acc:0.735\n",
            "test  auc: 0.960  acc:0.747\n",
            "-----------------------Epoch13-----------------------\n"
          ]
        },
        {
          "output_type": "stream",
          "name": "stderr",
          "text": [
            "100%|██████████| 1407/1407 [01:03<00:00, 22.08it/s]\n"
          ]
        },
        {
          "output_type": "stream",
          "name": "stdout",
          "text": [
            "Training Accuracy:  tensor(0.7209, device='cuda:0')\n",
            "val  auc: 0.957  acc:0.739\n",
            "test  auc: 0.957  acc:0.751\n",
            "-----------------------Epoch14-----------------------\n"
          ]
        },
        {
          "output_type": "stream",
          "name": "stderr",
          "text": [
            "100%|██████████| 1407/1407 [01:03<00:00, 22.17it/s]\n"
          ]
        },
        {
          "output_type": "stream",
          "name": "stdout",
          "text": [
            "Training Accuracy:  tensor(0.7234, device='cuda:0')\n",
            "val  auc: 0.962  acc:0.743\n",
            "test  auc: 0.962  acc:0.764\n",
            "-----------------------Epoch15-----------------------\n"
          ]
        },
        {
          "output_type": "stream",
          "name": "stderr",
          "text": [
            "100%|██████████| 1407/1407 [01:03<00:00, 22.23it/s]\n"
          ]
        },
        {
          "output_type": "stream",
          "name": "stdout",
          "text": [
            "Training Accuracy:  tensor(0.7207, device='cuda:0')\n",
            "val  auc: 0.959  acc:0.740\n",
            "test  auc: 0.963  acc:0.772\n"
          ]
        }
      ]
    },
    {
      "cell_type": "code",
      "source": [
        "plot_loss(NUM_EPOCHS,TrainLoss3,ValLoss3)"
      ],
      "metadata": {
        "colab": {
          "base_uri": "https://localhost:8080/",
          "height": 472
        },
        "id": "wMiGArUiO7GY",
        "outputId": "f5085899-634d-4f01-a119-a51c9a02cb8e"
      },
      "execution_count": 62,
      "outputs": [
        {
          "output_type": "display_data",
          "data": {
            "text/plain": [
              "<Figure size 640x480 with 1 Axes>"
            ],
            "image/png": "[encoded data removed]"
          },
          "metadata": {}
        }
      ]
    },
    {
      "cell_type": "code",
      "source": [
        "TrainLoss4,ValLoss4 = Train_B(model,train_loader,train_loader_at_eval,test_loader,NUM_EPOCHS,criterion,optimizer,device)"
      ],
      "metadata": {
        "colab": {
          "base_uri": "https://localhost:8080/"
        },
        "id": "-PTBpKnRPIuV",
        "outputId": "f2623473-0334-44ef-92c3-2378f2fa2abb"
      },
      "execution_count": 63,
      "outputs": [
        {
          "output_type": "stream",
          "name": "stdout",
          "text": [
            "-----------------------Epoch1-----------------------\n"
          ]
        },
        {
          "output_type": "stream",
          "name": "stderr",
          "text": [
            "100%|██████████| 1407/1407 [01:03<00:00, 22.17it/s]\n"
          ]
        },
        {
          "output_type": "stream",
          "name": "stdout",
          "text": [
            "Training Accuracy:  tensor(0.7251, device='cuda:0')\n",
            "val  auc: 0.959  acc:0.742\n",
            "test  auc: 0.963  acc:0.768\n",
            "-----------------------Epoch2-----------------------\n"
          ]
        },
        {
          "output_type": "stream",
          "name": "stderr",
          "text": [
            "100%|██████████| 1407/1407 [01:02<00:00, 22.34it/s]\n"
          ]
        },
        {
          "output_type": "stream",
          "name": "stdout",
          "text": [
            "Training Accuracy:  tensor(0.7254, device='cuda:0')\n",
            "val  auc: 0.962  acc:0.749\n",
            "test  auc: 0.965  acc:0.772\n",
            "-----------------------Epoch3-----------------------\n"
          ]
        },
        {
          "output_type": "stream",
          "name": "stderr",
          "text": [
            "100%|██████████| 1407/1407 [01:03<00:00, 22.11it/s]\n"
          ]
        },
        {
          "output_type": "stream",
          "name": "stdout",
          "text": [
            "Training Accuracy:  tensor(0.7269, device='cuda:0')\n",
            "val  auc: 0.961  acc:0.745\n",
            "test  auc: 0.962  acc:0.761\n",
            "-----------------------Epoch4-----------------------\n"
          ]
        },
        {
          "output_type": "stream",
          "name": "stderr",
          "text": [
            "100%|██████████| 1407/1407 [01:02<00:00, 22.34it/s]\n"
          ]
        },
        {
          "output_type": "stream",
          "name": "stdout",
          "text": [
            "Training Accuracy:  tensor(0.7272, device='cuda:0')\n",
            "val  auc: 0.959  acc:0.751\n",
            "test  auc: 0.962  acc:0.756\n",
            "-----------------------Epoch5-----------------------\n"
          ]
        },
        {
          "output_type": "stream",
          "name": "stderr",
          "text": [
            "100%|██████████| 1407/1407 [01:03<00:00, 22.26it/s]\n"
          ]
        },
        {
          "output_type": "stream",
          "name": "stdout",
          "text": [
            "Training Accuracy:  tensor(0.7300, device='cuda:0')\n",
            "val  auc: 0.964  acc:0.756\n",
            "test  auc: 0.966  acc:0.770\n",
            "-----------------------Epoch6-----------------------\n"
          ]
        },
        {
          "output_type": "stream",
          "name": "stderr",
          "text": [
            "100%|██████████| 1407/1407 [01:03<00:00, 22.21it/s]\n"
          ]
        },
        {
          "output_type": "stream",
          "name": "stdout",
          "text": [
            "Training Accuracy:  tensor(0.7331, device='cuda:0')\n",
            "val  auc: 0.963  acc:0.750\n",
            "test  auc: 0.964  acc:0.761\n",
            "-----------------------Epoch7-----------------------\n"
          ]
        },
        {
          "output_type": "stream",
          "name": "stderr",
          "text": [
            "100%|██████████| 1407/1407 [01:03<00:00, 22.27it/s]\n"
          ]
        },
        {
          "output_type": "stream",
          "name": "stdout",
          "text": [
            "Training Accuracy:  tensor(0.7311, device='cuda:0')\n",
            "val  auc: 0.963  acc:0.756\n",
            "test  auc: 0.964  acc:0.776\n",
            "-----------------------Epoch8-----------------------\n"
          ]
        },
        {
          "output_type": "stream",
          "name": "stderr",
          "text": [
            "100%|██████████| 1407/1407 [01:03<00:00, 22.20it/s]\n"
          ]
        },
        {
          "output_type": "stream",
          "name": "stdout",
          "text": [
            "Training Accuracy:  tensor(0.7318, device='cuda:0')\n",
            "val  auc: 0.963  acc:0.751\n",
            "test  auc: 0.965  acc:0.780\n",
            "-----------------------Epoch9-----------------------\n"
          ]
        },
        {
          "output_type": "stream",
          "name": "stderr",
          "text": [
            "100%|██████████| 1407/1407 [01:03<00:00, 22.17it/s]\n"
          ]
        },
        {
          "output_type": "stream",
          "name": "stdout",
          "text": [
            "Training Accuracy:  tensor(0.7339, device='cuda:0')\n",
            "val  auc: 0.962  acc:0.758\n",
            "test  auc: 0.963  acc:0.759\n",
            "-----------------------Epoch10-----------------------\n"
          ]
        },
        {
          "output_type": "stream",
          "name": "stderr",
          "text": [
            "100%|██████████| 1407/1407 [01:04<00:00, 21.97it/s]\n"
          ]
        },
        {
          "output_type": "stream",
          "name": "stdout",
          "text": [
            "Training Accuracy:  tensor(0.7315, device='cuda:0')\n",
            "val  auc: 0.961  acc:0.744\n",
            "test  auc: 0.962  acc:0.755\n",
            "-----------------------Epoch11-----------------------\n"
          ]
        },
        {
          "output_type": "stream",
          "name": "stderr",
          "text": [
            "100%|██████████| 1407/1407 [01:03<00:00, 22.16it/s]\n"
          ]
        },
        {
          "output_type": "stream",
          "name": "stdout",
          "text": [
            "Training Accuracy:  tensor(0.7345, device='cuda:0')\n",
            "val  auc: 0.966  acc:0.764\n",
            "test  auc: 0.964  acc:0.769\n",
            "-----------------------Epoch12-----------------------\n"
          ]
        },
        {
          "output_type": "stream",
          "name": "stderr",
          "text": [
            "100%|██████████| 1407/1407 [01:03<00:00, 22.03it/s]\n"
          ]
        },
        {
          "output_type": "stream",
          "name": "stdout",
          "text": [
            "Training Accuracy:  tensor(0.7351, device='cuda:0')\n",
            "val  auc: 0.964  acc:0.754\n",
            "test  auc: 0.964  acc:0.764\n",
            "-----------------------Epoch13-----------------------\n"
          ]
        },
        {
          "output_type": "stream",
          "name": "stderr",
          "text": [
            "100%|██████████| 1407/1407 [01:03<00:00, 22.05it/s]\n"
          ]
        },
        {
          "output_type": "stream",
          "name": "stdout",
          "text": [
            "Training Accuracy:  tensor(0.7352, device='cuda:0')\n",
            "val  auc: 0.965  acc:0.758\n",
            "test  auc: 0.963  acc:0.761\n",
            "-----------------------Epoch14-----------------------\n"
          ]
        },
        {
          "output_type": "stream",
          "name": "stderr",
          "text": [
            "100%|██████████| 1407/1407 [01:04<00:00, 21.94it/s]\n"
          ]
        },
        {
          "output_type": "stream",
          "name": "stdout",
          "text": [
            "Training Accuracy:  tensor(0.7384, device='cuda:0')\n",
            "val  auc: 0.964  acc:0.752\n",
            "test  auc: 0.964  acc:0.771\n",
            "-----------------------Epoch15-----------------------\n"
          ]
        },
        {
          "output_type": "stream",
          "name": "stderr",
          "text": [
            "100%|██████████| 1407/1407 [01:04<00:00, 21.93it/s]\n"
          ]
        },
        {
          "output_type": "stream",
          "name": "stdout",
          "text": [
            "Training Accuracy:  tensor(0.7364, device='cuda:0')\n",
            "val  auc: 0.963  acc:0.758\n",
            "test  auc: 0.964  acc:0.763\n"
          ]
        }
      ]
    },
    {
      "cell_type": "code",
      "source": [
        "print(TrainLoss3)\n",
        "print(ValLoss3)\n",
        "print(TrainLoss4)\n",
        "print(ValLoss4)"
      ],
      "metadata": {
        "colab": {
          "base_uri": "https://localhost:8080/"
        },
        "id": "IZKSkphybKkH",
        "outputId": "461be7b7-3637-405d-b26c-a1946b3318c5"
      },
      "execution_count": 72,
      "outputs": [
        {
          "output_type": "stream",
          "name": "stdout",
          "text": [
            "[1.1452807756968229, 0.9364168984973016, 0.8902579002881948, 0.8685097734218128, 0.8523348282225689, 0.8331969657432295, 0.8201454584490092, 0.8134399717296364, 0.7983925006198137, 0.7937976774503427, 0.7849098286606695, 0.7786382201638049, 0.7718441542701342, 0.764920960208924, 0.7699571146385502]\n",
            "[1.357485092369614, 0.9256426794513776, 0.9727641063131349, 0.8373197863815697, 0.8777476431457866, 0.9199885722178559, 0.7771119538006505, 0.75756343401921, 0.7562637925148008, 0.7669353568629856, 0.7397101580337352, 0.7742707425621668, 0.7698760249052841, 0.704533529889052, 0.7440145756029022]\n",
            "[0.7583251161065268, 0.7567262207690756, 0.7520927096099488, 0.7496653079096951, 0.7450661538718182, 0.7364336994834716, 0.739673569300705, 0.735213953718363, 0.7309595167891049, 0.7342165234924295, 0.7299037224956667, 0.727423062308426, 0.7257762603414084, 0.721300708798542, 0.7207650802367617]\n",
            "[0.737027889983669, 0.7093061539018229, 0.7251301170534388, 0.7475661914439719, 0.681283837101262, 0.6855930042494635, 0.7021822523159587, 0.7070811559819875, 0.7067592212348984, 0.7391675063379252, 0.650180646947994, 0.6837847420744075, 0.677848450317504, 0.6994946228850415, 0.7000052592936595]\n"
          ]
        }
      ]
    },
    {
      "cell_type": "code",
      "source": [],
      "metadata": {
        "id": "LYQS9pvQUKjS"
      },
      "execution_count": null,
      "outputs": []
    },
    {
      "cell_type": "code",
      "source": [
        "# 1) CNN from scratch\n",
        "model = model_0\n",
        "\n",
        "# Define the optimizer\n",
        "optimizer = optim.Adam(model.parameters(), lr=lr)\n",
        "\n",
        "# Define the loss function\n",
        "criterion = nn.CrossEntropyLoss()"
      ],
      "metadata": {
        "id": "k-KUt3eEsdSI"
      },
      "execution_count": null,
      "outputs": []
    },
    {
      "cell_type": "code",
      "execution_count": null,
      "metadata": {
        "colab": {
          "base_uri": "https://localhost:8080/"
        },
        "id": "cw4qGqmWzhpX",
        "outputId": "d4662fad-ef47-40c2-d8d9-dd3c00994b0a"
      },
      "outputs": [
        {
          "output_type": "stream",
          "name": "stdout",
          "text": [
            "-----------------------Epoch1-----------------------\n"
          ]
        },
        {
          "output_type": "stream",
          "name": "stderr",
          "text": [
            "100%|██████████| 2813/2813 [00:57<00:00, 49.28it/s]\n"
          ]
        },
        {
          "output_type": "stream",
          "name": "stdout",
          "text": [
            "val  auc: 0.981  acc:0.809\n",
            "test  auc: 0.973  acc:0.805\n",
            "-----------------------Epoch2-----------------------\n"
          ]
        },
        {
          "output_type": "stream",
          "name": "stderr",
          "text": [
            "100%|██████████| 2813/2813 [00:55<00:00, 50.68it/s]\n"
          ]
        },
        {
          "output_type": "stream",
          "name": "stdout",
          "text": [
            "val  auc: 0.988  acc:0.861\n",
            "test  auc: 0.963  acc:0.787\n",
            "-----------------------Epoch3-----------------------\n"
          ]
        },
        {
          "output_type": "stream",
          "name": "stderr",
          "text": [
            "100%|██████████| 2813/2813 [00:57<00:00, 49.29it/s]\n"
          ]
        },
        {
          "output_type": "stream",
          "name": "stdout",
          "text": [
            "val  auc: 0.994  acc:0.911\n",
            "test  auc: 0.976  acc:0.828\n",
            "-----------------------Epoch4-----------------------\n"
          ]
        },
        {
          "output_type": "stream",
          "name": "stderr",
          "text": [
            "100%|██████████| 2813/2813 [00:55<00:00, 50.54it/s]\n"
          ]
        },
        {
          "output_type": "stream",
          "name": "stdout",
          "text": [
            "val  auc: 0.993  acc:0.900\n",
            "test  auc: 0.958  acc:0.712\n",
            "-----------------------Epoch5-----------------------\n"
          ]
        },
        {
          "output_type": "stream",
          "name": "stderr",
          "text": [
            "100%|██████████| 2813/2813 [00:54<00:00, 51.67it/s]\n"
          ]
        },
        {
          "output_type": "stream",
          "name": "stdout",
          "text": [
            "val  auc: 0.997  acc:0.932\n",
            "test  auc: 0.964  acc:0.812\n",
            "-----------------------Epoch6-----------------------\n"
          ]
        },
        {
          "output_type": "stream",
          "name": "stderr",
          "text": [
            "100%|██████████| 2813/2813 [00:54<00:00, 51.86it/s]\n"
          ]
        },
        {
          "output_type": "stream",
          "name": "stdout",
          "text": [
            "val  auc: 0.995  acc:0.917\n",
            "test  auc: 0.958  acc:0.753\n",
            "-----------------------Epoch7-----------------------\n"
          ]
        },
        {
          "output_type": "stream",
          "name": "stderr",
          "text": [
            "100%|██████████| 2813/2813 [00:54<00:00, 51.97it/s]\n"
          ]
        },
        {
          "output_type": "stream",
          "name": "stdout",
          "text": [
            "val  auc: 0.995  acc:0.914\n",
            "test  auc: 0.961  acc:0.719\n",
            "-----------------------Epoch8-----------------------\n"
          ]
        },
        {
          "output_type": "stream",
          "name": "stderr",
          "text": [
            "100%|██████████| 2813/2813 [00:53<00:00, 52.89it/s]\n"
          ]
        },
        {
          "output_type": "stream",
          "name": "stdout",
          "text": [
            "val  auc: 0.998  acc:0.947\n",
            "test  auc: 0.969  acc:0.824\n",
            "-----------------------Epoch9-----------------------\n"
          ]
        },
        {
          "output_type": "stream",
          "name": "stderr",
          "text": [
            "100%|██████████| 2813/2813 [00:56<00:00, 49.85it/s]\n"
          ]
        },
        {
          "output_type": "stream",
          "name": "stdout",
          "text": [
            "val  auc: 0.997  acc:0.945\n",
            "test  auc: 0.972  acc:0.834\n",
            "-----------------------Epoch10-----------------------\n"
          ]
        },
        {
          "output_type": "stream",
          "name": "stderr",
          "text": [
            "100%|██████████| 2813/2813 [00:54<00:00, 51.69it/s]\n"
          ]
        },
        {
          "output_type": "stream",
          "name": "stdout",
          "text": [
            "val  auc: 0.998  acc:0.953\n",
            "test  auc: 0.965  acc:0.809\n"
          ]
        }
      ],
      "source": []
    },
    {
      "cell_type": "code",
      "execution_count": null,
      "metadata": {
        "colab": {
          "base_uri": "https://localhost:8080/",
          "height": 472
        },
        "id": "xv0mporpzhpY",
        "outputId": "bd5db384-5201-46f8-d31c-884cf2e6bf48"
      },
      "outputs": [
        {
          "output_type": "display_data",
          "data": {
            "text/plain": [
              "<Figure size 640x480 with 1 Axes>"
            ],
            "image/png": "[encoded data removed]"
          },
          "metadata": {}
        }
      ],
      "source": [
        "plot_loss(NUM_EPOCHS,TrainLoss,ValLoss)"
      ]
    },
    {
      "cell_type": "code",
      "source": [
        "# 1) Fine-tune ResNet50\n",
        "model = model_1\n",
        "\n",
        "# Define the optimizer\n",
        "optimizer = optim.Adam(model.parameters(), lr=1e-4)\n",
        "\n",
        "# Define the loss function\n",
        "criterion = nn.CrossEntropyLoss()"
      ],
      "metadata": {
        "id": "PUhTKkPHsgJj"
      },
      "execution_count": null,
      "outputs": []
    },
    {
      "cell_type": "code",
      "source": [
        "TrainLoss,ValLoss = Train_B(model,train_loader,train_loader_at_eval,test_loader,NUM_EPOCHS,criterion,optimizer,device)"
      ],
      "metadata": {
        "colab": {
          "base_uri": "https://localhost:8080/"
        },
        "id": "ZkMpEAp_soRA",
        "outputId": "bc81c5d9-3cae-4760-fa1b-3ff1a4e0e262"
      },
      "execution_count": null,
      "outputs": [
        {
          "output_type": "stream",
          "name": "stdout",
          "text": [
            "-----------------------Epoch1-----------------------\n"
          ]
        },
        {
          "output_type": "stream",
          "name": "stderr",
          "text": [
            "100%|██████████| 1407/1407 [01:35<00:00, 14.74it/s]\n"
          ]
        },
        {
          "output_type": "stream",
          "name": "stdout",
          "text": [
            "Training Accuracy:  tensor(0.8375, device='cuda:0')\n",
            "val  auc: 0.995  acc:0.912\n",
            "test  auc: 0.973  acc:0.820\n",
            "-----------------------Epoch2-----------------------\n"
          ]
        },
        {
          "output_type": "stream",
          "name": "stderr",
          "text": [
            "100%|██████████| 1407/1407 [01:38<00:00, 14.35it/s]\n"
          ]
        },
        {
          "output_type": "stream",
          "name": "stdout",
          "text": [
            "Training Accuracy:  tensor(0.9088, device='cuda:0')\n",
            "val  auc: 0.996  acc:0.929\n",
            "test  auc: 0.977  acc:0.860\n",
            "-----------------------Epoch3-----------------------\n"
          ]
        },
        {
          "output_type": "stream",
          "name": "stderr",
          "text": [
            "100%|██████████| 1407/1407 [01:36<00:00, 14.58it/s]\n"
          ]
        },
        {
          "output_type": "stream",
          "name": "stdout",
          "text": [
            "Training Accuracy:  tensor(0.9247, device='cuda:0')\n",
            "val  auc: 0.997  acc:0.938\n",
            "test  auc: 0.974  acc:0.825\n",
            "-----------------------Epoch4-----------------------\n"
          ]
        },
        {
          "output_type": "stream",
          "name": "stderr",
          "text": [
            "100%|██████████| 1407/1407 [01:35<00:00, 14.69it/s]\n"
          ]
        },
        {
          "output_type": "stream",
          "name": "stdout",
          "text": [
            "Training Accuracy:  tensor(0.9329, device='cuda:0')\n",
            "val  auc: 0.997  acc:0.944\n",
            "test  auc: 0.979  acc:0.835\n",
            "-----------------------Epoch5-----------------------\n"
          ]
        },
        {
          "output_type": "stream",
          "name": "stderr",
          "text": [
            "100%|██████████| 1407/1407 [01:35<00:00, 14.69it/s]\n"
          ]
        },
        {
          "output_type": "stream",
          "name": "stdout",
          "text": [
            "Training Accuracy:  tensor(0.9408, device='cuda:0')\n",
            "val  auc: 0.998  acc:0.954\n",
            "test  auc: 0.975  acc:0.850\n",
            "-----------------------Epoch6-----------------------\n"
          ]
        },
        {
          "output_type": "stream",
          "name": "stderr",
          "text": [
            "100%|██████████| 1407/1407 [01:36<00:00, 14.55it/s]\n"
          ]
        },
        {
          "output_type": "stream",
          "name": "stdout",
          "text": [
            "Training Accuracy:  tensor(0.9465, device='cuda:0')\n",
            "val  auc: 0.998  acc:0.949\n",
            "test  auc: 0.981  acc:0.842\n",
            "-----------------------Epoch7-----------------------\n"
          ]
        },
        {
          "output_type": "stream",
          "name": "stderr",
          "text": [
            "100%|██████████| 1407/1407 [01:36<00:00, 14.55it/s]\n"
          ]
        },
        {
          "output_type": "stream",
          "name": "stdout",
          "text": [
            "Training Accuracy:  tensor(0.9491, device='cuda:0')\n",
            "val  auc: 0.998  acc:0.957\n",
            "test  auc: 0.977  acc:0.820\n",
            "-----------------------Epoch8-----------------------\n"
          ]
        },
        {
          "output_type": "stream",
          "name": "stderr",
          "text": [
            "100%|██████████| 1407/1407 [01:36<00:00, 14.64it/s]\n"
          ]
        },
        {
          "output_type": "stream",
          "name": "stdout",
          "text": [
            "Training Accuracy:  tensor(0.9551, device='cuda:0')\n",
            "val  auc: 0.998  acc:0.957\n",
            "test  auc: 0.974  acc:0.824\n",
            "-----------------------Epoch9-----------------------\n"
          ]
        },
        {
          "output_type": "stream",
          "name": "stderr",
          "text": [
            "100%|██████████| 1407/1407 [01:36<00:00, 14.55it/s]\n"
          ]
        },
        {
          "output_type": "stream",
          "name": "stdout",
          "text": [
            "Training Accuracy:  tensor(0.9535, device='cuda:0')\n",
            "val  auc: 0.985  acc:0.942\n",
            "test  auc: 0.977  acc:0.842\n",
            "-----------------------Epoch10-----------------------\n"
          ]
        },
        {
          "output_type": "stream",
          "name": "stderr",
          "text": [
            "100%|██████████| 1407/1407 [01:36<00:00, 14.59it/s]\n"
          ]
        },
        {
          "output_type": "stream",
          "name": "stdout",
          "text": [
            "Training Accuracy:  tensor(0.9606, device='cuda:0')\n",
            "val  auc: 0.979  acc:0.940\n",
            "test  auc: 0.960  acc:0.806\n"
          ]
        }
      ]
    },
    {
      "cell_type": "code",
      "source": [
        "plot_loss(NUM_EPOCHS,TrainLoss,ValLoss)"
      ],
      "metadata": {
        "colab": {
          "base_uri": "https://localhost:8080/",
          "height": 472
        },
        "id": "eVrmfUeVwxxY",
        "outputId": "3b92c9f7-e248-4dcb-a176-ef2f34e52593"
      },
      "execution_count": null,
      "outputs": [
        {
          "output_type": "display_data",
          "data": {
            "text/plain": [
              "<Figure size 640x480 with 1 Axes>"
            ],
            "image/png": "[encoded data removed]"
          },
          "metadata": {}
        }
      ]
    },
    {
      "cell_type": "code",
      "source": [
        "ACC_cnn = [0.809,0.861,0.911,0.900,0.932,0.917,0.914,0.947,0.945,0.953]\n",
        "ACC_res = [0.8375,0.9088,0.9247,0.9329,0.9408,0.9465,0.9491,0.9551,0.9535,0.9606]\n",
        "plt.plot(range(1,NUM_EPOCHS+1),ACC_cnn)\n",
        "plt.plot(range(1,NUM_EPOCHS+1),ACC_res)\n",
        "plt.legend(['CNN','ResNet50'])\n",
        "plt.title(\"Accuracy of Models\")\n",
        "plt.xlabel(\"Epoch\")\n",
        "plt.xticks([1,2,3,4,5,6,7,8,9,10])\n",
        "plt.grid()\n",
        "plt.show()"
      ],
      "metadata": {
        "colab": {
          "base_uri": "https://localhost:8080/",
          "height": 472
        },
        "id": "RfkgB4Xrnh4b",
        "outputId": "6e241358-8617-486c-a51d-743a60b8d82d"
      },
      "execution_count": null,
      "outputs": [
        {
          "output_type": "display_data",
          "data": {
            "text/plain": [
              "<Figure size 640x480 with 1 Axes>"
            ],
            "image/png": "[encoded data removed]"
          },
          "metadata": {}
        }
      ]
    },
    {
      "cell_type": "code",
      "source": [
        "len(val)"
      ],
      "metadata": {
        "colab": {
          "base_uri": "https://localhost:8080/"
        },
        "id": "jruIJz18ycsw",
        "outputId": "17cab669-0a55-4798-c391-d4646d8a0ede"
      },
      "execution_count": 32,
      "outputs": [
        {
          "output_type": "execute_result",
          "data": {
            "text/plain": [
              "31"
            ]
          },
          "metadata": {},
          "execution_count": 32
        }
      ]
    },
    {
      "cell_type": "code",
      "source": [
        "# ACC\n",
        "import matplotlib.pyplot as plt\n",
        "train=[0.6129,0.6703,0.6833,0.6901,0.6960,0.7,0.7044,0.7073,0.7123,0.7144,0.7165,0.7176,0.7209,0.7234,0.7207,0.7251,0.7254,0.7269,0.7272,0.73,0.7331,0.7311,0.7318,0.7339,0.7315,0.7345,0.7351,0.7352,0.7384,0.7364]\n",
        "val=[0.671,0.696,0.703,0.716,0.719,0.721,0.737,0.732,0.735,0.732,0.732,0.735,0.739,0.743,0.74,0.742,0.749,0.745,0.751,0.756,0.75,0.756,0.751,0.758,0.744,0.764,0.754,0.758,0.752,0.758]\n",
        "plt.plot(range(1,31),train)\n",
        "plt.plot(range(1,31),val)\n",
        "\n",
        "plt.legend(['Train','Validation'])\n",
        "plt.title(\"Training and Validation Accuracy of Model\")\n",
        "plt.xlabel(\"Epoch\")\n",
        "#plt.xticks([1,2,3,4,5,6,7,8,9,10,11,12,13,14,15,16,17,18,19,20,21,22,23,24,25,26,27,28])\n",
        "plt.grid()\n",
        "plt.show()"
      ],
      "metadata": {
        "colab": {
          "base_uri": "https://localhost:8080/",
          "height": 472
        },
        "id": "JbPGEYbpxFak",
        "outputId": "360b1bbd-1e27-4c9b-8e63-5c6768a4e0f1"
      },
      "execution_count": 35,
      "outputs": [
        {
          "output_type": "display_data",
          "data": {
            "text/plain": [
              "<Figure size 640x480 with 1 Axes>"
            ],
            "image/png": "[encoded data removed]"
          },
          "metadata": {}
        }
      ]
    }
  ],
  "metadata": {
    "kernelspec": {
      "display_name": "Python 3",
      "name": "python3"
    },
    "language_info": {
      "codemirror_mode": {
        "name": "ipython",
        "version": 3
      },
      "file_extension": ".py",
      "mimetype": "text/x-python",
      "name": "python",
      "nbconvert_exporter": "python",
      "pygments_lexer": "ipython3",
      "version": "3.11.5"
    },
    "colab": {
      "provenance": [],
      "gpuType": "T4"
    },
    "accelerator": "GPU"
  },
  "nbformat": 4,
  "nbformat_minor": 0
}